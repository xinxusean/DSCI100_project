{
 "cells": [
  {
   "cell_type": "markdown",
   "id": "81f8a9ef-d067-48fc-8438-9627b5abfd89",
   "metadata": {},
   "source": [
    "# Predicting Energy Efficiency With Regression"
   ]
  },
  {
   "cell_type": "code",
   "execution_count": 1,
   "id": "c5f169ad-a01a-40c8-9b67-61da54615026",
   "metadata": {
    "tags": []
   },
   "outputs": [
    {
     "name": "stderr",
     "output_type": "stream",
     "text": [
      "── \u001b[1mAttaching packages\u001b[22m ─────────────────────────────────────── tidyverse 1.3.1 ──\n",
      "\n",
      "\u001b[32m✔\u001b[39m \u001b[34mggplot2\u001b[39m 3.3.6     \u001b[32m✔\u001b[39m \u001b[34mpurrr  \u001b[39m 0.3.4\n",
      "\u001b[32m✔\u001b[39m \u001b[34mtibble \u001b[39m 3.1.7     \u001b[32m✔\u001b[39m \u001b[34mdplyr  \u001b[39m 1.0.9\n",
      "\u001b[32m✔\u001b[39m \u001b[34mtidyr  \u001b[39m 1.2.0     \u001b[32m✔\u001b[39m \u001b[34mstringr\u001b[39m 1.4.0\n",
      "\u001b[32m✔\u001b[39m \u001b[34mreadr  \u001b[39m 2.1.2     \u001b[32m✔\u001b[39m \u001b[34mforcats\u001b[39m 0.5.1\n",
      "\n",
      "── \u001b[1mConflicts\u001b[22m ────────────────────────────────────────── tidyverse_conflicts() ──\n",
      "\u001b[31m✖\u001b[39m \u001b[34mdplyr\u001b[39m::\u001b[32mfilter()\u001b[39m masks \u001b[34mstats\u001b[39m::filter()\n",
      "\u001b[31m✖\u001b[39m \u001b[34mdplyr\u001b[39m::\u001b[32mlag()\u001b[39m    masks \u001b[34mstats\u001b[39m::lag()\n",
      "\n",
      "── \u001b[1mAttaching packages\u001b[22m ────────────────────────────────────── tidymodels 1.0.0 ──\n",
      "\n",
      "\u001b[32m✔\u001b[39m \u001b[34mbroom       \u001b[39m 1.0.0     \u001b[32m✔\u001b[39m \u001b[34mrsample     \u001b[39m 1.0.0\n",
      "\u001b[32m✔\u001b[39m \u001b[34mdials       \u001b[39m 1.0.0     \u001b[32m✔\u001b[39m \u001b[34mtune        \u001b[39m 1.0.0\n",
      "\u001b[32m✔\u001b[39m \u001b[34minfer       \u001b[39m 1.0.2     \u001b[32m✔\u001b[39m \u001b[34mworkflows   \u001b[39m 1.0.0\n",
      "\u001b[32m✔\u001b[39m \u001b[34mmodeldata   \u001b[39m 1.0.0     \u001b[32m✔\u001b[39m \u001b[34mworkflowsets\u001b[39m 1.0.0\n",
      "\u001b[32m✔\u001b[39m \u001b[34mparsnip     \u001b[39m 1.0.0     \u001b[32m✔\u001b[39m \u001b[34myardstick   \u001b[39m 1.0.0\n",
      "\u001b[32m✔\u001b[39m \u001b[34mrecipes     \u001b[39m 1.0.1     \n",
      "\n",
      "── \u001b[1mConflicts\u001b[22m ───────────────────────────────────────── tidymodels_conflicts() ──\n",
      "\u001b[31m✖\u001b[39m \u001b[34mscales\u001b[39m::\u001b[32mdiscard()\u001b[39m masks \u001b[34mpurrr\u001b[39m::discard()\n",
      "\u001b[31m✖\u001b[39m \u001b[34mdplyr\u001b[39m::\u001b[32mfilter()\u001b[39m   masks \u001b[34mstats\u001b[39m::filter()\n",
      "\u001b[31m✖\u001b[39m \u001b[34mrecipes\u001b[39m::\u001b[32mfixed()\u001b[39m  masks \u001b[34mstringr\u001b[39m::fixed()\n",
      "\u001b[31m✖\u001b[39m \u001b[34mdplyr\u001b[39m::\u001b[32mlag()\u001b[39m      masks \u001b[34mstats\u001b[39m::lag()\n",
      "\u001b[31m✖\u001b[39m \u001b[34myardstick\u001b[39m::\u001b[32mspec()\u001b[39m masks \u001b[34mreadr\u001b[39m::spec()\n",
      "\u001b[31m✖\u001b[39m \u001b[34mrecipes\u001b[39m::\u001b[32mstep()\u001b[39m   masks \u001b[34mstats\u001b[39m::step()\n",
      "\u001b[34m•\u001b[39m Use suppressPackageStartupMessages() to eliminate package startup messages\n",
      "\n",
      "Registered S3 method overwritten by 'GGally':\n",
      "  method from   \n",
      "  +.gg   ggplot2\n",
      "\n"
     ]
    }
   ],
   "source": [
    "# Please load packages before continuing:\n",
    "library(tidyverse)\n",
    "library(readxl)\n",
    "library(repr) # for visualization\n",
    "library(tidymodels)\n",
    "library(cowplot)\n",
    "library(GGally)\n",
    "options(repr.matrix.max.rows = 6)\n",
    "set.seed(2020)"
   ]
  },
  {
   "cell_type": "markdown",
   "id": "9abe21a4-ddba-4788-96fd-6b3256ea0ec4",
   "metadata": {},
   "source": [
    "## Introduction\n",
    "\n",
    "**Background Information**\n",
    "\n",
    "The heating load of a building is \"the amount of heat energy\" needed \"to maintain the temperature in an acceptable range\" (Government of Australia).\n",
    "A higher heating load correlates to more heat energy required, which is detrimental to the environment, and has a higher monetary cost. In fact, an MIT study has found that \"energy consumption in the buildings sector accounts for 25 to 30 percent of global carbon dioxide emissions\" (Urban & Glicksman, 2006).\n",
    "We aim to study how various factors such as surface area, overall height, and glazing area (ie. size of windows) affects the heating load of buildings. We define more energy-efficient buildings as buildings that require lower heating loads.\n",
    "\n",
    "**Question**\n",
    "\n",
    "What is the heating load (energy-efficiency) for a building with a given surface area, overall height, and glazing area?\n",
    "\n",
    "**Dataset Description**\n",
    "\n",
    "We're using the \"Energy Efficiency Data Set\" created at the University of Oxford (Xifara, Tsanas).\n",
    "It contains eight attributes and two outcomes which are the column headers of the tibble below. Initially, all columns were labelled X1, X2, etc. instead of their corresponding descriptive names. The dataset has 768 rows and was generated through computer simulation. All observations (buildings) have the same volume, thus we can evaluate the effect of predictors independent of volume."
   ]
  },
  {
   "cell_type": "markdown",
   "id": "28b2a0a4-2405-4d1b-b34d-4c9401510118",
   "metadata": {},
   "source": [
    "Dataset dictionary:\n",
    "Units have been omitted as the dataset does not provide units.\n",
    "\n",
    "| ID  | Name                      | Definition                                                                                                          |\n",
    "|-----|---------------------------|---------------------------------------------------------------------------------------------------------------------|\n",
    "| X1  | Relative Compactness      | Sum of all surfaces of the building divided by its gross heated volume                                              |\n",
    "| X2  | Surface Area              | Sum of all surfaces of the building                                                                                 |\n",
    "| X3  | Wall Area                 | Sum of all surfaces of the building walls                                                                           |\n",
    "| X4  | Roof Area                 | Sum of all surfaces of the building roofs                                                                           |\n",
    "| X5  | Overall Height            | Height of the building                                                                                              |\n",
    "| X6  | Orientation               | Cardinal direction                                                                                                  |\n",
    "| X7  | Glazing Area              | Size of all windows combined                                                                                        |\n",
    "| X8  | Glazing Area Distribution | Distribution of glazing area                                                                                        |\n",
    "| X9  | Heating Load              | Amount of heat energy that would need to be added to a space to maintain the temperature in an acceptable range     |\n",
    "| X10 | Cooling Load              | Amount of heat energy that would need to be removed from a space to maintain the temperature in an acceptable range |"
   ]
  },
  {
   "cell_type": "markdown",
   "id": "dd82031d-4ca8-4b1f-bf43-9ecc3f6c2675",
   "metadata": {},
   "source": [
    "## Method"
   ]
  },
  {
   "cell_type": "markdown",
   "id": "cfc9fc33-d904-4cad-896e-1f39d97b473a",
   "metadata": {},
   "source": [
    "**Process**\n",
    "\n",
    "(FROM PROPOSAL MAYBE NEED TO CHANGE)\n",
    "\n",
    "We'll tidy the data, find summary statistics and number of rows missing data.\n",
    "\n",
    "We'll use the variables Surface Area, Overall Height, and Glazing Area as they affect the heating load most significantly.\n",
    "\n",
    "We won't use Relative Compactness because the dataset didn't explain what it means; the Roof Area and Wall Area because they're encompassed within Surface Area; Orientation because it’s a categorical variable, which can have too much of an impact on regression analysis and the categories (\"2\", \"3\", \"4\", \"5\") are not defined; and Glazing Area Distribution since it's similar to Glazing Area.\n",
    "\n",
    "We'll visualize our training data using only our chosen variables to interpret their relationships with Heating Load.\n",
    "\n",
    "We'll center and scale the data and then use both K-nearest neighbours and linear regression to see which is more accurate for our data. We'll use cross validation to find the best value of k and set the seed to ensure reproducibility. Then, visualize the results with one scatter plot for each variable (predictor on x-axis, heating load on y-axis).\n",
    "\n",
    "We choose \"heating load\" because in Vancouver, we need to keep buildings warm due to cold winters."
   ]
  },
  {
   "cell_type": "markdown",
   "id": "c861a473-0421-44df-9fb4-1b552db7f9b6",
   "metadata": {},
   "source": [
    "**Reading Data Set into R and Tidying (changing column names)**"
   ]
  },
  {
   "cell_type": "code",
   "execution_count": 2,
   "id": "ea5e4c9d-7833-4f4b-9cf5-995668b45f4f",
   "metadata": {},
   "outputs": [
    {
     "data": {
      "text/html": [
       "<table class=\"dataframe\">\n",
       "<caption>A tibble: 768 × 10</caption>\n",
       "<thead>\n",
       "\t<tr><th scope=col>Relative.Compactness</th><th scope=col>Surface.Area</th><th scope=col>Wall.Area</th><th scope=col>Roof.Area</th><th scope=col>Overall.Height</th><th scope=col>Orientation</th><th scope=col>Glazing.Area</th><th scope=col>Glazing.Area.Distribution</th><th scope=col>Heating.Load</th><th scope=col>Cooling.Load</th></tr>\n",
       "\t<tr><th scope=col>&lt;dbl&gt;</th><th scope=col>&lt;dbl&gt;</th><th scope=col>&lt;dbl&gt;</th><th scope=col>&lt;dbl&gt;</th><th scope=col>&lt;dbl&gt;</th><th scope=col>&lt;dbl&gt;</th><th scope=col>&lt;dbl&gt;</th><th scope=col>&lt;dbl&gt;</th><th scope=col>&lt;dbl&gt;</th><th scope=col>&lt;dbl&gt;</th></tr>\n",
       "</thead>\n",
       "<tbody>\n",
       "\t<tr><td>0.98</td><td>514.5</td><td>294</td><td>110.25</td><td>7</td><td>2</td><td>0</td><td>0</td><td>15.55</td><td>21.33</td></tr>\n",
       "\t<tr><td>0.98</td><td>514.5</td><td>294</td><td>110.25</td><td>7</td><td>3</td><td>0</td><td>0</td><td>15.55</td><td>21.33</td></tr>\n",
       "\t<tr><td>0.98</td><td>514.5</td><td>294</td><td>110.25</td><td>7</td><td>4</td><td>0</td><td>0</td><td>15.55</td><td>21.33</td></tr>\n",
       "\t<tr><td>⋮</td><td>⋮</td><td>⋮</td><td>⋮</td><td>⋮</td><td>⋮</td><td>⋮</td><td>⋮</td><td>⋮</td><td>⋮</td></tr>\n",
       "\t<tr><td>0.62</td><td>808.5</td><td>367.5</td><td>220.5</td><td>3.5</td><td>3</td><td>0.4</td><td>5</td><td>16.44</td><td>17.11</td></tr>\n",
       "\t<tr><td>0.62</td><td>808.5</td><td>367.5</td><td>220.5</td><td>3.5</td><td>4</td><td>0.4</td><td>5</td><td>16.48</td><td>16.61</td></tr>\n",
       "\t<tr><td>0.62</td><td>808.5</td><td>367.5</td><td>220.5</td><td>3.5</td><td>5</td><td>0.4</td><td>5</td><td>16.64</td><td>16.03</td></tr>\n",
       "</tbody>\n",
       "</table>\n"
      ],
      "text/latex": [
       "A tibble: 768 × 10\n",
       "\\begin{tabular}{llllllllll}\n",
       " Relative.Compactness & Surface.Area & Wall.Area & Roof.Area & Overall.Height & Orientation & Glazing.Area & Glazing.Area.Distribution & Heating.Load & Cooling.Load\\\\\n",
       " <dbl> & <dbl> & <dbl> & <dbl> & <dbl> & <dbl> & <dbl> & <dbl> & <dbl> & <dbl>\\\\\n",
       "\\hline\n",
       "\t 0.98 & 514.5 & 294 & 110.25 & 7 & 2 & 0 & 0 & 15.55 & 21.33\\\\\n",
       "\t 0.98 & 514.5 & 294 & 110.25 & 7 & 3 & 0 & 0 & 15.55 & 21.33\\\\\n",
       "\t 0.98 & 514.5 & 294 & 110.25 & 7 & 4 & 0 & 0 & 15.55 & 21.33\\\\\n",
       "\t ⋮ & ⋮ & ⋮ & ⋮ & ⋮ & ⋮ & ⋮ & ⋮ & ⋮ & ⋮\\\\\n",
       "\t 0.62 & 808.5 & 367.5 & 220.5 & 3.5 & 3 & 0.4 & 5 & 16.44 & 17.11\\\\\n",
       "\t 0.62 & 808.5 & 367.5 & 220.5 & 3.5 & 4 & 0.4 & 5 & 16.48 & 16.61\\\\\n",
       "\t 0.62 & 808.5 & 367.5 & 220.5 & 3.5 & 5 & 0.4 & 5 & 16.64 & 16.03\\\\\n",
       "\\end{tabular}\n"
      ],
      "text/markdown": [
       "\n",
       "A tibble: 768 × 10\n",
       "\n",
       "| Relative.Compactness &lt;dbl&gt; | Surface.Area &lt;dbl&gt; | Wall.Area &lt;dbl&gt; | Roof.Area &lt;dbl&gt; | Overall.Height &lt;dbl&gt; | Orientation &lt;dbl&gt; | Glazing.Area &lt;dbl&gt; | Glazing.Area.Distribution &lt;dbl&gt; | Heating.Load &lt;dbl&gt; | Cooling.Load &lt;dbl&gt; |\n",
       "|---|---|---|---|---|---|---|---|---|---|\n",
       "| 0.98 | 514.5 | 294 | 110.25 | 7 | 2 | 0 | 0 | 15.55 | 21.33 |\n",
       "| 0.98 | 514.5 | 294 | 110.25 | 7 | 3 | 0 | 0 | 15.55 | 21.33 |\n",
       "| 0.98 | 514.5 | 294 | 110.25 | 7 | 4 | 0 | 0 | 15.55 | 21.33 |\n",
       "| ⋮ | ⋮ | ⋮ | ⋮ | ⋮ | ⋮ | ⋮ | ⋮ | ⋮ | ⋮ |\n",
       "| 0.62 | 808.5 | 367.5 | 220.5 | 3.5 | 3 | 0.4 | 5 | 16.44 | 17.11 |\n",
       "| 0.62 | 808.5 | 367.5 | 220.5 | 3.5 | 4 | 0.4 | 5 | 16.48 | 16.61 |\n",
       "| 0.62 | 808.5 | 367.5 | 220.5 | 3.5 | 5 | 0.4 | 5 | 16.64 | 16.03 |\n",
       "\n"
      ],
      "text/plain": [
       "    Relative.Compactness Surface.Area Wall.Area Roof.Area Overall.Height\n",
       "1   0.98                 514.5        294       110.25    7             \n",
       "2   0.98                 514.5        294       110.25    7             \n",
       "3   0.98                 514.5        294       110.25    7             \n",
       "⋮   ⋮                    ⋮            ⋮         ⋮         ⋮             \n",
       "766 0.62                 808.5        367.5     220.5     3.5           \n",
       "767 0.62                 808.5        367.5     220.5     3.5           \n",
       "768 0.62                 808.5        367.5     220.5     3.5           \n",
       "    Orientation Glazing.Area Glazing.Area.Distribution Heating.Load\n",
       "1   2           0            0                         15.55       \n",
       "2   3           0            0                         15.55       \n",
       "3   4           0            0                         15.55       \n",
       "⋮   ⋮           ⋮            ⋮                         ⋮           \n",
       "766 3           0.4          5                         16.44       \n",
       "767 4           0.4          5                         16.48       \n",
       "768 5           0.4          5                         16.64       \n",
       "    Cooling.Load\n",
       "1   21.33       \n",
       "2   21.33       \n",
       "3   21.33       \n",
       "⋮   ⋮           \n",
       "766 17.11       \n",
       "767 16.61       \n",
       "768 16.03       "
      ]
     },
     "metadata": {},
     "output_type": "display_data"
    }
   ],
   "source": [
    "url <- \"https://archive.ics.uci.edu/ml/machine-learning-databases/00242/ENB2012_data.xlsx\"\n",
    "file_name <- \"energy-efficiency.xlsx\"\n",
    "download.file(url, file_name)\n",
    "energy_data <- read_excel(file_name, \n",
    "                          skip = 1, \n",
    "                          col_names = c(\"Relative.Compactness\", \"Surface.Area\", \"Wall.Area\", \n",
    "                                        \"Roof.Area\", \"Overall.Height\", \"Orientation\", \n",
    "                                        \"Glazing.Area\", \"Glazing.Area.Distribution\", \n",
    "                                        \"Heating.Load\", \"Cooling.Load\"))\n",
    "energy_data"
   ]
  },
  {
   "cell_type": "markdown",
   "id": "7a47261e-1ba1-4f12-9f12-adff7af6b478",
   "metadata": {},
   "source": [
    "**Cleaning and Wrangling Data**"
   ]
  },
  {
   "cell_type": "code",
   "execution_count": 3,
   "id": "2bd7ca87-c388-4e2a-9d1f-bf812c430265",
   "metadata": {},
   "outputs": [
    {
     "data": {
      "text/html": [
       "<table class=\"dataframe\">\n",
       "<caption>A tibble: 768 × 4</caption>\n",
       "<thead>\n",
       "\t<tr><th scope=col>Surface.Area</th><th scope=col>Overall.Height</th><th scope=col>Glazing.Area</th><th scope=col>Heating.Load</th></tr>\n",
       "\t<tr><th scope=col>&lt;dbl&gt;</th><th scope=col>&lt;dbl&gt;</th><th scope=col>&lt;dbl&gt;</th><th scope=col>&lt;dbl&gt;</th></tr>\n",
       "</thead>\n",
       "<tbody>\n",
       "\t<tr><td>514.5</td><td>7</td><td>0</td><td>15.55</td></tr>\n",
       "\t<tr><td>514.5</td><td>7</td><td>0</td><td>15.55</td></tr>\n",
       "\t<tr><td>514.5</td><td>7</td><td>0</td><td>15.55</td></tr>\n",
       "\t<tr><td>⋮</td><td>⋮</td><td>⋮</td><td>⋮</td></tr>\n",
       "\t<tr><td>808.5</td><td>3.5</td><td>0.4</td><td>16.44</td></tr>\n",
       "\t<tr><td>808.5</td><td>3.5</td><td>0.4</td><td>16.48</td></tr>\n",
       "\t<tr><td>808.5</td><td>3.5</td><td>0.4</td><td>16.64</td></tr>\n",
       "</tbody>\n",
       "</table>\n"
      ],
      "text/latex": [
       "A tibble: 768 × 4\n",
       "\\begin{tabular}{llll}\n",
       " Surface.Area & Overall.Height & Glazing.Area & Heating.Load\\\\\n",
       " <dbl> & <dbl> & <dbl> & <dbl>\\\\\n",
       "\\hline\n",
       "\t 514.5 & 7 & 0 & 15.55\\\\\n",
       "\t 514.5 & 7 & 0 & 15.55\\\\\n",
       "\t 514.5 & 7 & 0 & 15.55\\\\\n",
       "\t ⋮ & ⋮ & ⋮ & ⋮\\\\\n",
       "\t 808.5 & 3.5 & 0.4 & 16.44\\\\\n",
       "\t 808.5 & 3.5 & 0.4 & 16.48\\\\\n",
       "\t 808.5 & 3.5 & 0.4 & 16.64\\\\\n",
       "\\end{tabular}\n"
      ],
      "text/markdown": [
       "\n",
       "A tibble: 768 × 4\n",
       "\n",
       "| Surface.Area &lt;dbl&gt; | Overall.Height &lt;dbl&gt; | Glazing.Area &lt;dbl&gt; | Heating.Load &lt;dbl&gt; |\n",
       "|---|---|---|---|\n",
       "| 514.5 | 7 | 0 | 15.55 |\n",
       "| 514.5 | 7 | 0 | 15.55 |\n",
       "| 514.5 | 7 | 0 | 15.55 |\n",
       "| ⋮ | ⋮ | ⋮ | ⋮ |\n",
       "| 808.5 | 3.5 | 0.4 | 16.44 |\n",
       "| 808.5 | 3.5 | 0.4 | 16.48 |\n",
       "| 808.5 | 3.5 | 0.4 | 16.64 |\n",
       "\n"
      ],
      "text/plain": [
       "    Surface.Area Overall.Height Glazing.Area Heating.Load\n",
       "1   514.5        7              0            15.55       \n",
       "2   514.5        7              0            15.55       \n",
       "3   514.5        7              0            15.55       \n",
       "⋮   ⋮            ⋮              ⋮            ⋮           \n",
       "766 808.5        3.5            0.4          16.44       \n",
       "767 808.5        3.5            0.4          16.48       \n",
       "768 808.5        3.5            0.4          16.64       "
      ]
     },
     "metadata": {},
     "output_type": "display_data"
    }
   ],
   "source": [
    "# Table with variables that we will be using in our analysis\n",
    "energy_data_reduced <- energy_data |>\n",
    "                    select(Surface.Area, Overall.Height, Glazing.Area, Heating.Load)\n",
    "energy_data_reduced"
   ]
  },
  {
   "cell_type": "code",
   "execution_count": 4,
   "id": "ee1880fe-e7ea-40d8-8288-235221dd44fb",
   "metadata": {},
   "outputs": [],
   "source": [
    "energy_split <- initial_split(energy_data_reduced, prop = 0.75, strata = Heating.Load)\n",
    "energy_train <- training(energy_split)\n",
    "energy_test <- testing(energy_split)"
   ]
  },
  {
   "cell_type": "markdown",
   "id": "06dd7bad-8642-4b14-a168-6f05bddf3bd5",
   "metadata": {},
   "source": [
    "**Data Summarization (only training data)**"
   ]
  },
  {
   "cell_type": "code",
   "execution_count": 5,
   "id": "adf9d44d-72fe-4fca-bc72-09acc95d3418",
   "metadata": {},
   "outputs": [
    {
     "data": {
      "text/html": [
       "<table class=\"dataframe\">\n",
       "<caption>A tibble: 1 × 4</caption>\n",
       "<thead>\n",
       "\t<tr><th scope=col>Surface.Area.Mean</th><th scope=col>Overall.Height.Mean</th><th scope=col>Glazing.Area.Mean</th><th scope=col>Heating.Load.Mean</th></tr>\n",
       "\t<tr><th scope=col>&lt;dbl&gt;</th><th scope=col>&lt;dbl&gt;</th><th scope=col>&lt;dbl&gt;</th><th scope=col>&lt;dbl&gt;</th></tr>\n",
       "</thead>\n",
       "<tbody>\n",
       "\t<tr><td>672.5165</td><td>5.243924</td><td>0.2347222</td><td>22.3232</td></tr>\n",
       "</tbody>\n",
       "</table>\n"
      ],
      "text/latex": [
       "A tibble: 1 × 4\n",
       "\\begin{tabular}{llll}\n",
       " Surface.Area.Mean & Overall.Height.Mean & Glazing.Area.Mean & Heating.Load.Mean\\\\\n",
       " <dbl> & <dbl> & <dbl> & <dbl>\\\\\n",
       "\\hline\n",
       "\t 672.5165 & 5.243924 & 0.2347222 & 22.3232\\\\\n",
       "\\end{tabular}\n"
      ],
      "text/markdown": [
       "\n",
       "A tibble: 1 × 4\n",
       "\n",
       "| Surface.Area.Mean &lt;dbl&gt; | Overall.Height.Mean &lt;dbl&gt; | Glazing.Area.Mean &lt;dbl&gt; | Heating.Load.Mean &lt;dbl&gt; |\n",
       "|---|---|---|---|\n",
       "| 672.5165 | 5.243924 | 0.2347222 | 22.3232 |\n",
       "\n"
      ],
      "text/plain": [
       "  Surface.Area.Mean Overall.Height.Mean Glazing.Area.Mean Heating.Load.Mean\n",
       "1 672.5165          5.243924            0.2347222         22.3232          "
      ]
     },
     "metadata": {},
     "output_type": "display_data"
    }
   ],
   "source": [
    "# Mean Table\n",
    "energy_data_mean <- summarize(energy_train,\n",
    "    Surface.Area.Mean = mean(Surface.Area),                   \n",
    "    Overall.Height.Mean = mean(Overall.Height),                        \n",
    "    Glazing.Area.Mean = mean(Glazing.Area),                            \n",
    "    Heating.Load.Mean = mean(Heating.Load))\n",
    "energy_data_mean"
   ]
  },
  {
   "cell_type": "code",
   "execution_count": 6,
   "id": "690e3038-f3fa-476f-88c0-d6ee5c4199b1",
   "metadata": {},
   "outputs": [
    {
     "data": {
      "text/html": [
       "<table class=\"dataframe\">\n",
       "<caption>A tibble: 1 × 4</caption>\n",
       "<thead>\n",
       "\t<tr><th scope=col>Surface.Area.Median</th><th scope=col>Overall.Height.Median</th><th scope=col>Glazing.Area.Median</th><th scope=col>Heating.Load.Median</th></tr>\n",
       "\t<tr><th scope=col>&lt;dbl&gt;</th><th scope=col>&lt;dbl&gt;</th><th scope=col>&lt;dbl&gt;</th><th scope=col>&lt;dbl&gt;</th></tr>\n",
       "</thead>\n",
       "<tbody>\n",
       "\t<tr><td>686</td><td>3.5</td><td>0.25</td><td>18.95</td></tr>\n",
       "</tbody>\n",
       "</table>\n"
      ],
      "text/latex": [
       "A tibble: 1 × 4\n",
       "\\begin{tabular}{llll}\n",
       " Surface.Area.Median & Overall.Height.Median & Glazing.Area.Median & Heating.Load.Median\\\\\n",
       " <dbl> & <dbl> & <dbl> & <dbl>\\\\\n",
       "\\hline\n",
       "\t 686 & 3.5 & 0.25 & 18.95\\\\\n",
       "\\end{tabular}\n"
      ],
      "text/markdown": [
       "\n",
       "A tibble: 1 × 4\n",
       "\n",
       "| Surface.Area.Median &lt;dbl&gt; | Overall.Height.Median &lt;dbl&gt; | Glazing.Area.Median &lt;dbl&gt; | Heating.Load.Median &lt;dbl&gt; |\n",
       "|---|---|---|---|\n",
       "| 686 | 3.5 | 0.25 | 18.95 |\n",
       "\n"
      ],
      "text/plain": [
       "  Surface.Area.Median Overall.Height.Median Glazing.Area.Median\n",
       "1 686                 3.5                   0.25               \n",
       "  Heating.Load.Median\n",
       "1 18.95              "
      ]
     },
     "metadata": {},
     "output_type": "display_data"
    }
   ],
   "source": [
    "# Median Table\n",
    "energy_data_median <- summarize(energy_train,\n",
    "    Surface.Area.Median = median(Surface.Area),                   \n",
    "    Overall.Height.Median = median(Overall.Height),                        \n",
    "    Glazing.Area.Median = median(Glazing.Area),  \n",
    "    Heating.Load.Median = median(Heating.Load))\n",
    "energy_data_median"
   ]
  },
  {
   "cell_type": "code",
   "execution_count": 7,
   "id": "6a325e6c-d2eb-49ae-9f66-b6390f933467",
   "metadata": {},
   "outputs": [
    {
     "data": {
      "text/html": [
       "<table class=\"dataframe\">\n",
       "<caption>A tibble: 1 × 4</caption>\n",
       "<thead>\n",
       "\t<tr><th scope=col>Surface.Area.Mode</th><th scope=col>Overall.Height.Mode</th><th scope=col>Glazing.Area.Mode</th><th scope=col>Heating.Load.Mode</th></tr>\n",
       "\t<tr><th scope=col>&lt;chr&gt;</th><th scope=col>&lt;chr&gt;</th><th scope=col>&lt;chr&gt;</th><th scope=col>&lt;chr&gt;</th></tr>\n",
       "</thead>\n",
       "<tbody>\n",
       "\t<tr><td>808.5</td><td>3.5</td><td>0.25</td><td>15.16</td></tr>\n",
       "</tbody>\n",
       "</table>\n"
      ],
      "text/latex": [
       "A tibble: 1 × 4\n",
       "\\begin{tabular}{llll}\n",
       " Surface.Area.Mode & Overall.Height.Mode & Glazing.Area.Mode & Heating.Load.Mode\\\\\n",
       " <chr> & <chr> & <chr> & <chr>\\\\\n",
       "\\hline\n",
       "\t 808.5 & 3.5 & 0.25 & 15.16\\\\\n",
       "\\end{tabular}\n"
      ],
      "text/markdown": [
       "\n",
       "A tibble: 1 × 4\n",
       "\n",
       "| Surface.Area.Mode &lt;chr&gt; | Overall.Height.Mode &lt;chr&gt; | Glazing.Area.Mode &lt;chr&gt; | Heating.Load.Mode &lt;chr&gt; |\n",
       "|---|---|---|---|\n",
       "| 808.5 | 3.5 | 0.25 | 15.16 |\n",
       "\n"
      ],
      "text/plain": [
       "  Surface.Area.Mode Overall.Height.Mode Glazing.Area.Mode Heating.Load.Mode\n",
       "1 808.5             3.5                 0.25              15.16            "
      ]
     },
     "metadata": {},
     "output_type": "display_data"
    }
   ],
   "source": [
    "# Finding Mode\n",
    "heating_mode <- names(sort(-table(energy_train$Heating.Load)))[1]\n",
    "surface_mode <- names(sort(-table(energy_train$Surface.Area)))[1]\n",
    "height_mode <- names(sort(-table(energy_train$Overall.Height)))[1]\n",
    "glazing_mode <- names(sort(-table(energy_train$Glazing.Area)))[1]\n",
    "\n",
    "# Mode Table\n",
    "energy_data_mode <- summarize(energy_train,\n",
    "                        Surface.Area.Mode = surface_mode,\n",
    "                        Overall.Height.Mode = height_mode,\n",
    "                        Glazing.Area.Mode = glazing_mode,\n",
    "                        Heating.Load.Mode = heating_mode)\n",
    "energy_data_mode"
   ]
  },
  {
   "cell_type": "code",
   "execution_count": 8,
   "id": "a6756c04-493e-47d5-96f6-71d6ae070c1c",
   "metadata": {},
   "outputs": [
    {
     "data": {
      "text/html": [
       "<table class=\"dataframe\">\n",
       "<caption>A tibble: 1 × 4</caption>\n",
       "<thead>\n",
       "\t<tr><th scope=col>Surface.Area.Max</th><th scope=col>Overall.Height.Max</th><th scope=col>Glazing.Area.Max</th><th scope=col>Heating.Load.Max</th></tr>\n",
       "\t<tr><th scope=col>&lt;dbl&gt;</th><th scope=col>&lt;dbl&gt;</th><th scope=col>&lt;dbl&gt;</th><th scope=col>&lt;dbl&gt;</th></tr>\n",
       "</thead>\n",
       "<tbody>\n",
       "\t<tr><td>808.5</td><td>7</td><td>0.4</td><td>42.77</td></tr>\n",
       "</tbody>\n",
       "</table>\n"
      ],
      "text/latex": [
       "A tibble: 1 × 4\n",
       "\\begin{tabular}{llll}\n",
       " Surface.Area.Max & Overall.Height.Max & Glazing.Area.Max & Heating.Load.Max\\\\\n",
       " <dbl> & <dbl> & <dbl> & <dbl>\\\\\n",
       "\\hline\n",
       "\t 808.5 & 7 & 0.4 & 42.77\\\\\n",
       "\\end{tabular}\n"
      ],
      "text/markdown": [
       "\n",
       "A tibble: 1 × 4\n",
       "\n",
       "| Surface.Area.Max &lt;dbl&gt; | Overall.Height.Max &lt;dbl&gt; | Glazing.Area.Max &lt;dbl&gt; | Heating.Load.Max &lt;dbl&gt; |\n",
       "|---|---|---|---|\n",
       "| 808.5 | 7 | 0.4 | 42.77 |\n",
       "\n"
      ],
      "text/plain": [
       "  Surface.Area.Max Overall.Height.Max Glazing.Area.Max Heating.Load.Max\n",
       "1 808.5            7                  0.4              42.77           "
      ]
     },
     "metadata": {},
     "output_type": "display_data"
    }
   ],
   "source": [
    "# Max Table\n",
    "energy_data_max <- summarize(energy_train,\n",
    "    Surface.Area.Max = max(Surface.Area),                   \n",
    "    Overall.Height.Max = max(Overall.Height),                        \n",
    "    Glazing.Area.Max = max(Glazing.Area),  \n",
    "    Heating.Load.Max = max(Heating.Load))\n",
    "energy_data_max"
   ]
  },
  {
   "cell_type": "code",
   "execution_count": 9,
   "id": "07e74b07-5de1-498b-82de-634e14fb6fc7",
   "metadata": {},
   "outputs": [
    {
     "data": {
      "text/html": [
       "<table class=\"dataframe\">\n",
       "<caption>A tibble: 1 × 4</caption>\n",
       "<thead>\n",
       "\t<tr><th scope=col>Surface.Area.Min</th><th scope=col>Overall.Height.Min</th><th scope=col>Glazing.Area.Min</th><th scope=col>Heating.Load.Min</th></tr>\n",
       "\t<tr><th scope=col>&lt;dbl&gt;</th><th scope=col>&lt;dbl&gt;</th><th scope=col>&lt;dbl&gt;</th><th scope=col>&lt;dbl&gt;</th></tr>\n",
       "</thead>\n",
       "<tbody>\n",
       "\t<tr><td>514.5</td><td>3.5</td><td>0</td><td>6.01</td></tr>\n",
       "</tbody>\n",
       "</table>\n"
      ],
      "text/latex": [
       "A tibble: 1 × 4\n",
       "\\begin{tabular}{llll}\n",
       " Surface.Area.Min & Overall.Height.Min & Glazing.Area.Min & Heating.Load.Min\\\\\n",
       " <dbl> & <dbl> & <dbl> & <dbl>\\\\\n",
       "\\hline\n",
       "\t 514.5 & 3.5 & 0 & 6.01\\\\\n",
       "\\end{tabular}\n"
      ],
      "text/markdown": [
       "\n",
       "A tibble: 1 × 4\n",
       "\n",
       "| Surface.Area.Min &lt;dbl&gt; | Overall.Height.Min &lt;dbl&gt; | Glazing.Area.Min &lt;dbl&gt; | Heating.Load.Min &lt;dbl&gt; |\n",
       "|---|---|---|---|\n",
       "| 514.5 | 3.5 | 0 | 6.01 |\n",
       "\n"
      ],
      "text/plain": [
       "  Surface.Area.Min Overall.Height.Min Glazing.Area.Min Heating.Load.Min\n",
       "1 514.5            3.5                0                6.01            "
      ]
     },
     "metadata": {},
     "output_type": "display_data"
    }
   ],
   "source": [
    "# Min Table\n",
    "energy_data_min <- summarize(energy_train,\n",
    "    Surface.Area.Min = min(Surface.Area),                   \n",
    "    Overall.Height.Min = min(Overall.Height),                        \n",
    "    Glazing.Area.Min = min(Glazing.Area),  \n",
    "    Heating.Load.Min = min(Heating.Load))\n",
    "energy_data_min"
   ]
  },
  {
   "cell_type": "code",
   "execution_count": 10,
   "id": "ea2c7091-a29c-4dd9-a530-c21563198951",
   "metadata": {},
   "outputs": [
    {
     "data": {
      "text/html": [
       "<table class=\"dataframe\">\n",
       "<caption>A tibble: 1 × 1</caption>\n",
       "<thead>\n",
       "\t<tr><th scope=col>Number.Of.Rows.Missing.Data</th></tr>\n",
       "\t<tr><th scope=col>&lt;int&gt;</th></tr>\n",
       "</thead>\n",
       "<tbody>\n",
       "\t<tr><td>0</td></tr>\n",
       "</tbody>\n",
       "</table>\n"
      ],
      "text/latex": [
       "A tibble: 1 × 1\n",
       "\\begin{tabular}{l}\n",
       " Number.Of.Rows.Missing.Data\\\\\n",
       " <int>\\\\\n",
       "\\hline\n",
       "\t 0\\\\\n",
       "\\end{tabular}\n"
      ],
      "text/markdown": [
       "\n",
       "A tibble: 1 × 1\n",
       "\n",
       "| Number.Of.Rows.Missing.Data &lt;int&gt; |\n",
       "|---|\n",
       "| 0 |\n",
       "\n"
      ],
      "text/plain": [
       "  Number.Of.Rows.Missing.Data\n",
       "1 0                          "
      ]
     },
     "metadata": {},
     "output_type": "display_data"
    }
   ],
   "source": [
    "# Number of Rows Missing Data\n",
    "num_rows_missing_data <- energy_train |>\n",
    "                        filter(Surface.Area == NA | \n",
    "                               Overall.Height == NA | Glazing.Area == NA | Heating.Load == NA) |>\n",
    "                        nrow() |>\n",
    "                        as_tibble()\n",
    "colnames(num_rows_missing_data) <- c(\"Number.Of.Rows.Missing.Data\")\n",
    "num_rows_missing_data"
   ]
  },
  {
   "cell_type": "markdown",
   "id": "2389be83-e2a1-4953-9536-6daceb21ee99",
   "metadata": {},
   "source": [
    "**Initial Data Visualization (only training data)**"
   ]
  },
  {
   "cell_type": "code",
   "execution_count": 23,
   "id": "3b63827e-67e2-4b6e-b49b-e26be91d0dba",
   "metadata": {},
   "outputs": [
    {
     "data": {
      "image/png": "[encoded data removed]",
      "text/plain": [
       "plot without title"
      ]
     },
     "metadata": {
      "image/png": {
       "height": 360,
       "width": 1080
      }
     },
     "output_type": "display_data"
    }
   ],
   "source": [
    "# Units have been omitted as our dataset did not provide units.\n",
    "options(repr.plot.width=18, repr.plot.height=6)\n",
    "plot_surface <- ggplot(energy_train, aes(x = Surface.Area, y = Heating.Load)) +\n",
    "    geom_point(alpha = 0.4) +\n",
    "    labs(x = \"Surface Area\", y = \"Heating Load)\") +\n",
    "    theme(text = element_text(size = 12)) +\n",
    "    ggtitle(\"Heating Load vs Surface Area\")\n",
    "plot_height <- ggplot(energy_train, aes(x = Overall.Height, y = Heating.Load)) +\n",
    "    geom_point(alpha = 0.4) +\n",
    "    labs(x = \"Overall Height\", y = \"Heating Load\") +\n",
    "    theme(text = element_text(size = 12)) +\n",
    "    ggtitle(\"Heating Load vs Overall Height\")\n",
    "plot_glazing <- ggplot(energy_train, aes(x = Glazing.Area, y = Heating.Load)) +\n",
    "    geom_point(alpha = 0.4) +\n",
    "    labs(x = \"Glazing Area\", y = \"Heating Load\") +\n",
    "    theme(text = element_text(size = 12)) +\n",
    "    ggtitle(\"Heating Load vs Glazing Area\")\n",
    "plot_grid(plot_surface, plot_height, plot_glazing, nrow = 1)"
   ]
  },
  {
   "cell_type": "markdown",
   "id": "9a24d5e8-d0d2-490d-a0e9-28e262306bd8",
   "metadata": {},
   "source": [
    "**Interpretation of Visualizations**\n",
    "\n",
    "Our first plot doesn’t show a continuous linear pattern. The relationship changes from negative to positive around the middle, where the Heating Load drops and starts to increase more gradually. This change may indicate a more energy-efficient Surface Area around its median, whereas considering the jumps at ~635, and ~785 (where afterwards the relationship changes direction), it could also mean that other predictor variables are having an effect on Heating Load.\n",
    "\n",
    "For our other two plots, both Overall Height and Glazing Area have a positive linear relationship with Heating Load. Differently from Overall Height, when Glazing Area is 0, the Heating Load is distributed across a wider range, thus at 0 other predictor variables may have a greater effect on Heating Load. In most of our visualizations, the Heating Load values are widely distributed for a single predictor variable value, which could mean that other variables are having an effect."
   ]
  },
  {
   "cell_type": "markdown",
   "id": "aa58a3f8-994b-49e2-b582-07a7650b3176",
   "metadata": {},
   "source": [
    "#### Expected Outcomes\n",
    "\n",
    "From our initial visualizations, we expect the Heating Load to be proportional to Overall Height and Glazing Area. The visualizations also suggest that their may be a smaller relationship between Surface Area and Heating Load so Glazing Area and Overall Height will influence the model more. We also expect a model using K-nn regression to be more accurate in predicting Heating Load than a linear regression model because our visualizations do not suggest a strong linear relationship so K-nn may be more effective."
   ]
  },
  {
   "cell_type": "markdown",
   "id": "d0907ad8-a230-46a7-93ea-595f09257be7",
   "metadata": {},
   "source": [
    "## Data Analysis"
   ]
  },
  {
   "cell_type": "markdown",
   "id": "4175cd04-2646-4e52-8a6f-2a9f414efd1d",
   "metadata": {},
   "source": [
    "#### K-NN Regression"
   ]
  },
  {
   "cell_type": "code",
   "execution_count": 12,
   "id": "02e6c802-a037-45e9-84f1-cc4a2dd0a6ff",
   "metadata": {},
   "outputs": [],
   "source": [
    "# Recipe\n",
    "data_recipe <- recipe(Heating.Load ~ Surface.Area + Overall.Height + Glazing.Area, \n",
    "                      data = energy_train) |>                                    \n",
    "                      step_scale(all_predictors()) |> #SCALING AND CENTERING\n",
    "                      step_center(all_predictors())"
   ]
  },
  {
   "cell_type": "code",
   "execution_count": 13,
   "id": "0eeec35a-55f0-4f58-8a79-3f70777d7731",
   "metadata": {},
   "outputs": [
    {
     "data": {
      "text/html": [
       "<table class=\"dataframe\">\n",
       "<caption>A tibble: 100 × 7</caption>\n",
       "<thead>\n",
       "\t<tr><th scope=col>neighbors</th><th scope=col>.metric</th><th scope=col>.estimator</th><th scope=col>mean</th><th scope=col>n</th><th scope=col>std_err</th><th scope=col>.config</th></tr>\n",
       "\t<tr><th scope=col>&lt;dbl&gt;</th><th scope=col>&lt;chr&gt;</th><th scope=col>&lt;chr&gt;</th><th scope=col>&lt;dbl&gt;</th><th scope=col>&lt;int&gt;</th><th scope=col>&lt;dbl&gt;</th><th scope=col>&lt;chr&gt;</th></tr>\n",
       "</thead>\n",
       "<tbody>\n",
       "\t<tr><td>4</td><td>rmse</td><td>standard</td><td>0.7351523</td><td>5</td><td>0.05947831</td><td>Preprocessor1_Model004</td></tr>\n",
       "\t<tr><td>2</td><td>rmse</td><td>standard</td><td>0.7384156</td><td>5</td><td>0.08201573</td><td>Preprocessor1_Model002</td></tr>\n",
       "\t<tr><td>1</td><td>rmse</td><td>standard</td><td>0.7402031</td><td>5</td><td>0.06425753</td><td>Preprocessor1_Model001</td></tr>\n",
       "\t<tr><td>⋮</td><td>⋮</td><td>⋮</td><td>⋮</td><td>⋮</td><td>⋮</td><td>⋮</td></tr>\n",
       "\t<tr><td>60</td><td>rmse</td><td>standard</td><td>3.476701</td><td>5</td><td>0.04636760</td><td>Preprocessor1_Model060</td></tr>\n",
       "\t<tr><td>65</td><td>rmse</td><td>standard</td><td>3.478628</td><td>5</td><td>0.04460591</td><td>Preprocessor1_Model065</td></tr>\n",
       "\t<tr><td>64</td><td>rmse</td><td>standard</td><td>3.480080</td><td>5</td><td>0.04378572</td><td>Preprocessor1_Model064</td></tr>\n",
       "</tbody>\n",
       "</table>\n"
      ],
      "text/latex": [
       "A tibble: 100 × 7\n",
       "\\begin{tabular}{lllllll}\n",
       " neighbors & .metric & .estimator & mean & n & std\\_err & .config\\\\\n",
       " <dbl> & <chr> & <chr> & <dbl> & <int> & <dbl> & <chr>\\\\\n",
       "\\hline\n",
       "\t 4 & rmse & standard & 0.7351523 & 5 & 0.05947831 & Preprocessor1\\_Model004\\\\\n",
       "\t 2 & rmse & standard & 0.7384156 & 5 & 0.08201573 & Preprocessor1\\_Model002\\\\\n",
       "\t 1 & rmse & standard & 0.7402031 & 5 & 0.06425753 & Preprocessor1\\_Model001\\\\\n",
       "\t ⋮ & ⋮ & ⋮ & ⋮ & ⋮ & ⋮ & ⋮\\\\\n",
       "\t 60 & rmse & standard & 3.476701 & 5 & 0.04636760 & Preprocessor1\\_Model060\\\\\n",
       "\t 65 & rmse & standard & 3.478628 & 5 & 0.04460591 & Preprocessor1\\_Model065\\\\\n",
       "\t 64 & rmse & standard & 3.480080 & 5 & 0.04378572 & Preprocessor1\\_Model064\\\\\n",
       "\\end{tabular}\n"
      ],
      "text/markdown": [
       "\n",
       "A tibble: 100 × 7\n",
       "\n",
       "| neighbors &lt;dbl&gt; | .metric &lt;chr&gt; | .estimator &lt;chr&gt; | mean &lt;dbl&gt; | n &lt;int&gt; | std_err &lt;dbl&gt; | .config &lt;chr&gt; |\n",
       "|---|---|---|---|---|---|---|\n",
       "| 4 | rmse | standard | 0.7351523 | 5 | 0.05947831 | Preprocessor1_Model004 |\n",
       "| 2 | rmse | standard | 0.7384156 | 5 | 0.08201573 | Preprocessor1_Model002 |\n",
       "| 1 | rmse | standard | 0.7402031 | 5 | 0.06425753 | Preprocessor1_Model001 |\n",
       "| ⋮ | ⋮ | ⋮ | ⋮ | ⋮ | ⋮ | ⋮ |\n",
       "| 60 | rmse | standard | 3.476701 | 5 | 0.04636760 | Preprocessor1_Model060 |\n",
       "| 65 | rmse | standard | 3.478628 | 5 | 0.04460591 | Preprocessor1_Model065 |\n",
       "| 64 | rmse | standard | 3.480080 | 5 | 0.04378572 | Preprocessor1_Model064 |\n",
       "\n"
      ],
      "text/plain": [
       "    neighbors .metric .estimator mean      n std_err    .config               \n",
       "1   4         rmse    standard   0.7351523 5 0.05947831 Preprocessor1_Model004\n",
       "2   2         rmse    standard   0.7384156 5 0.08201573 Preprocessor1_Model002\n",
       "3   1         rmse    standard   0.7402031 5 0.06425753 Preprocessor1_Model001\n",
       "⋮   ⋮         ⋮       ⋮          ⋮         ⋮ ⋮          ⋮                     \n",
       "98  60        rmse    standard   3.476701  5 0.04636760 Preprocessor1_Model060\n",
       "99  65        rmse    standard   3.478628  5 0.04460591 Preprocessor1_Model065\n",
       "100 64        rmse    standard   3.480080  5 0.04378572 Preprocessor1_Model064"
      ]
     },
     "metadata": {},
     "output_type": "display_data"
    }
   ],
   "source": [
    "# Tuning and Performing 5 Fold Cross Validation\n",
    "data_spec <- nearest_neighbor(weight_func = \"rectangular\", neighbors = tune()) |>  #TUNING\n",
    "       set_engine(\"kknn\") |>\n",
    "       set_mode(\"regression\") \n",
    "\n",
    "data_vfold <- vfold_cv(energy_train, v = 5, strata = Heating.Load)\n",
    "\n",
    "data_workflow <- workflow() |>\n",
    "    add_recipe(data_recipe) |>\n",
    "    add_model(data_spec)\n",
    "\n",
    "gridvals <- tibble(neighbors = seq(from = 1, to = 100, by = 1)) #TESTING K VALUES\n",
    "\n",
    "data_results <- data_workflow |>\n",
    "  tune_grid(resamples = data_vfold, grid = gridvals) |>\n",
    "  collect_metrics()\n",
    "\n",
    "data_results_sorted <- data_results |>\n",
    "    filter(.metric == \"rmse\") |>\n",
    "    arrange(mean)\n",
    "\n",
    "data_results_sorted"
   ]
  },
  {
   "cell_type": "code",
   "execution_count": 14,
   "id": "eb7bc188-76c2-474d-b624-e5f0de4222c7",
   "metadata": {},
   "outputs": [
    {
     "name": "stdout",
     "output_type": "stream",
     "text": [
      "Best K:  4"
     ]
    }
   ],
   "source": [
    "# Finding Best K (Minimum RMSE)\n",
    "data_min <- data_results_sorted |> \n",
    "            head(n=1)\n",
    "\n",
    "k_min <- data_min |>\n",
    "         pull(neighbors)\n",
    "\n",
    "cat(\"Best K: \", k_min)"
   ]
  },
  {
   "cell_type": "code",
   "execution_count": 15,
   "id": "57a8e245-3738-4c43-b694-4da4445d2614",
   "metadata": {},
   "outputs": [
    {
     "data": {
      "text/html": [
       "<table class=\"dataframe\">\n",
       "<caption>A tibble: 1 × 3</caption>\n",
       "<thead>\n",
       "\t<tr><th scope=col>.metric</th><th scope=col>.estimator</th><th scope=col>.estimate</th></tr>\n",
       "\t<tr><th scope=col>&lt;chr&gt;</th><th scope=col>&lt;chr&gt;</th><th scope=col>&lt;dbl&gt;</th></tr>\n",
       "</thead>\n",
       "<tbody>\n",
       "\t<tr><td>rmse</td><td>standard</td><td>0.6320054</td></tr>\n",
       "</tbody>\n",
       "</table>\n"
      ],
      "text/latex": [
       "A tibble: 1 × 3\n",
       "\\begin{tabular}{lll}\n",
       " .metric & .estimator & .estimate\\\\\n",
       " <chr> & <chr> & <dbl>\\\\\n",
       "\\hline\n",
       "\t rmse & standard & 0.6320054\\\\\n",
       "\\end{tabular}\n"
      ],
      "text/markdown": [
       "\n",
       "A tibble: 1 × 3\n",
       "\n",
       "| .metric &lt;chr&gt; | .estimator &lt;chr&gt; | .estimate &lt;dbl&gt; |\n",
       "|---|---|---|\n",
       "| rmse | standard | 0.6320054 |\n",
       "\n"
      ],
      "text/plain": [
       "  .metric .estimator .estimate\n",
       "1 rmse    standard   0.6320054"
      ]
     },
     "metadata": {},
     "output_type": "display_data"
    }
   ],
   "source": [
    "# K-NN Regression with Best K\n",
    "data_best_spec <- nearest_neighbor(weight_func = \"rectangular\", \n",
    "                                   neighbors = k_min) |>  #NOW WITH BEST K (MINIMUM RMSE)\n",
    "          set_engine(\"kknn\") |>\n",
    "          set_mode(\"regression\")\n",
    "\n",
    "data_fit <- workflow() |>\n",
    "          add_recipe(data_recipe) |>\n",
    "          add_model(data_best_spec) |>\n",
    "          fit(data = energy_train)\n",
    "\n",
    "data_summary <- data_fit |>\n",
    "           predict(energy_test) |>\n",
    "           bind_cols(energy_test) |>\n",
    "           metrics(truth = Heating.Load, estimate = .pred) |>\n",
    "           filter(.metric == \"rmse\")\n",
    "\n",
    "data_summary"
   ]
  },
  {
   "cell_type": "code",
   "execution_count": 16,
   "id": "97552fbe-63fc-4a55-b7ae-c6722f67f974",
   "metadata": {},
   "outputs": [
    {
     "data": {
      "text/html": [
       "0.632005369010686"
      ],
      "text/latex": [
       "0.632005369010686"
      ],
      "text/markdown": [
       "0.632005369010686"
      ],
      "text/plain": [
       "[1] 0.6320054"
      ]
     },
     "metadata": {},
     "output_type": "display_data"
    }
   ],
   "source": [
    "# RMSPE of K-NN Regression with Best K:\n",
    "\n",
    "rmspe_knn <- data_summary |>\n",
    "            select(.estimate) |>\n",
    "            pull()\n",
    "rmspe_knn"
   ]
  },
  {
   "cell_type": "markdown",
   "id": "f76371fc-299b-4d3d-96b8-aa6d4f3abacf",
   "metadata": {},
   "source": [
    "#### Linear Regression"
   ]
  },
  {
   "cell_type": "code",
   "execution_count": 17,
   "id": "c43d4145-1ee6-4a85-9834-b1d6bf6fe370",
   "metadata": {},
   "outputs": [
    {
     "data": {
      "text/plain": [
       "══ Workflow [trained] ══════════════════════════════════════════════════════════\n",
       "\u001b[3mPreprocessor:\u001b[23m Recipe\n",
       "\u001b[3mModel:\u001b[23m linear_reg()\n",
       "\n",
       "── Preprocessor ────────────────────────────────────────────────────────────────\n",
       "0 Recipe Steps\n",
       "\n",
       "── Model ───────────────────────────────────────────────────────────────────────\n",
       "\n",
       "Call:\n",
       "stats::lm(formula = ..y ~ ., data = data)\n",
       "\n",
       "Coefficients:\n",
       "   (Intercept)    Surface.Area  Overall.Height    Glazing.Area  \n",
       "     -50.77542         0.04621         7.12933        19.75534  \n"
      ]
     },
     "metadata": {},
     "output_type": "display_data"
    }
   ],
   "source": [
    "# Recipe and Fit\n",
    "lm_spec <- linear_reg() |>\n",
    "    set_engine(\"lm\") |>\n",
    "    set_mode(\"regression\")\n",
    "\n",
    "lm_recipe <- recipe(Heating.Load ~ Surface.Area + Overall.Height + Glazing.Area, data = energy_train)\n",
    "             \n",
    "lm_fit <- workflow() |>\n",
    "    add_recipe(lm_recipe) |>\n",
    "    add_model(lm_spec) |>\n",
    "    fit(data = energy_train)\n",
    "\n",
    "lm_fit"
   ]
  },
  {
   "cell_type": "code",
   "execution_count": 18,
   "id": "5e1c5609-1095-430f-9daa-81b5a938f1a5",
   "metadata": {},
   "outputs": [
    {
     "data": {
      "text/html": [
       "<table class=\"dataframe\">\n",
       "<caption>A tibble: 1 × 3</caption>\n",
       "<thead>\n",
       "\t<tr><th scope=col>.metric</th><th scope=col>.estimator</th><th scope=col>.estimate</th></tr>\n",
       "\t<tr><th scope=col>&lt;chr&gt;</th><th scope=col>&lt;chr&gt;</th><th scope=col>&lt;dbl&gt;</th></tr>\n",
       "</thead>\n",
       "<tbody>\n",
       "\t<tr><td>rmse</td><td>standard</td><td>3.129638</td></tr>\n",
       "</tbody>\n",
       "</table>\n"
      ],
      "text/latex": [
       "A tibble: 1 × 3\n",
       "\\begin{tabular}{lll}\n",
       " .metric & .estimator & .estimate\\\\\n",
       " <chr> & <chr> & <dbl>\\\\\n",
       "\\hline\n",
       "\t rmse & standard & 3.129638\\\\\n",
       "\\end{tabular}\n"
      ],
      "text/markdown": [
       "\n",
       "A tibble: 1 × 3\n",
       "\n",
       "| .metric &lt;chr&gt; | .estimator &lt;chr&gt; | .estimate &lt;dbl&gt; |\n",
       "|---|---|---|\n",
       "| rmse | standard | 3.129638 |\n",
       "\n"
      ],
      "text/plain": [
       "  .metric .estimator .estimate\n",
       "1 rmse    standard   3.129638 "
      ]
     },
     "metadata": {},
     "output_type": "display_data"
    }
   ],
   "source": [
    "# Test Results (RMSPE)\n",
    "lm_test_results <- lm_fit |>\n",
    "    predict(energy_test) |>\n",
    "    bind_cols(energy_test) |>\n",
    "    metrics(truth = Heating.Load, estimate = .pred) |>\n",
    "    filter(.metric == \"rmse\")\n",
    "\n",
    "lm_test_results"
   ]
  },
  {
   "cell_type": "code",
   "execution_count": 19,
   "id": "b25d5f1c-246f-432c-a52c-5753f78b0ad0",
   "metadata": {},
   "outputs": [
    {
     "data": {
      "text/html": [
       "3.12963791701132"
      ],
      "text/latex": [
       "3.12963791701132"
      ],
      "text/markdown": [
       "3.12963791701132"
      ],
      "text/plain": [
       "[1] 3.129638"
      ]
     },
     "metadata": {},
     "output_type": "display_data"
    }
   ],
   "source": [
    "# RMSPE of Linear Regression:\n",
    "rmspe_lm <- lm_test_results |>\n",
    "                select(.estimate) |>\n",
    "                pull()\n",
    "rmspe_lm"
   ]
  },
  {
   "cell_type": "code",
   "execution_count": 20,
   "id": "86e7ca88-a316-4732-bf6a-6c31d321a047",
   "metadata": {},
   "outputs": [
    {
     "data": {
      "text/html": [
       "<table class=\"dataframe\">\n",
       "<caption>A tibble: 4 × 5</caption>\n",
       "<thead>\n",
       "\t<tr><th scope=col>term</th><th scope=col>estimate</th><th scope=col>std.error</th><th scope=col>statistic</th><th scope=col>p.value</th></tr>\n",
       "\t<tr><th scope=col>&lt;chr&gt;</th><th scope=col>&lt;dbl&gt;</th><th scope=col>&lt;dbl&gt;</th><th scope=col>&lt;dbl&gt;</th><th scope=col>&lt;dbl&gt;</th></tr>\n",
       "</thead>\n",
       "<tbody>\n",
       "\t<tr><td>(Intercept)   </td><td>-50.77541765</td><td>2.609571906</td><td>-19.45737</td><td> 4.276632e-65</td></tr>\n",
       "\t<tr><td>Surface.Area  </td><td>  0.04620844</td><td>0.002853569</td><td> 16.19321</td><td> 7.974709e-49</td></tr>\n",
       "\t<tr><td>Overall.Height</td><td>  7.12933051</td><td>0.143179121</td><td> 49.79309</td><td>4.153705e-210</td></tr>\n",
       "\t<tr><td>Glazing.Area  </td><td> 19.75533768</td><td>0.971004706</td><td> 20.34525</td><td> 1.218531e-69</td></tr>\n",
       "</tbody>\n",
       "</table>\n"
      ],
      "text/latex": [
       "A tibble: 4 × 5\n",
       "\\begin{tabular}{lllll}\n",
       " term & estimate & std.error & statistic & p.value\\\\\n",
       " <chr> & <dbl> & <dbl> & <dbl> & <dbl>\\\\\n",
       "\\hline\n",
       "\t (Intercept)    & -50.77541765 & 2.609571906 & -19.45737 &  4.276632e-65\\\\\n",
       "\t Surface.Area   &   0.04620844 & 0.002853569 &  16.19321 &  7.974709e-49\\\\\n",
       "\t Overall.Height &   7.12933051 & 0.143179121 &  49.79309 & 4.153705e-210\\\\\n",
       "\t Glazing.Area   &  19.75533768 & 0.971004706 &  20.34525 &  1.218531e-69\\\\\n",
       "\\end{tabular}\n"
      ],
      "text/markdown": [
       "\n",
       "A tibble: 4 × 5\n",
       "\n",
       "| term &lt;chr&gt; | estimate &lt;dbl&gt; | std.error &lt;dbl&gt; | statistic &lt;dbl&gt; | p.value &lt;dbl&gt; |\n",
       "|---|---|---|---|---|\n",
       "| (Intercept)    | -50.77541765 | 2.609571906 | -19.45737 |  4.276632e-65 |\n",
       "| Surface.Area   |   0.04620844 | 0.002853569 |  16.19321 |  7.974709e-49 |\n",
       "| Overall.Height |   7.12933051 | 0.143179121 |  49.79309 | 4.153705e-210 |\n",
       "| Glazing.Area   |  19.75533768 | 0.971004706 |  20.34525 |  1.218531e-69 |\n",
       "\n"
      ],
      "text/plain": [
       "  term           estimate     std.error   statistic p.value      \n",
       "1 (Intercept)    -50.77541765 2.609571906 -19.45737  4.276632e-65\n",
       "2 Surface.Area     0.04620844 0.002853569  16.19321  7.974709e-49\n",
       "3 Overall.Height   7.12933051 0.143179121  49.79309 4.153705e-210\n",
       "4 Glazing.Area    19.75533768 0.971004706  20.34525  1.218531e-69"
      ]
     },
     "metadata": {},
     "output_type": "display_data"
    }
   ],
   "source": [
    "# Coefficients # do we really need this?\n",
    "lm_coefficients <- lm_fit |>\n",
    "                   extract_fit_parsnip() |>\n",
    "                   tidy()\n",
    "lm_coefficients\n",
    "\n",
    "# Heating Load = -51.84965 + 0.04691 * (Surface Area) + 7.17125 * (Overall Height) + 21.17462 * (Glazing Area)\n",
    "# (data from lm_test_results)"
   ]
  },
  {
   "cell_type": "markdown",
   "id": "a911454d-bb64-4bc1-9be9-aa21cec597f3",
   "metadata": {},
   "source": [
    "#### Visualizations"
   ]
  },
  {
   "cell_type": "code",
   "execution_count": null,
   "id": "014ec698-861e-48a7-914f-76f0afe7a0d7",
   "metadata": {},
   "outputs": [
    {
     "data": {
      "image/png": "[encoded data removed]",
      "text/plain": [
       "plot without title"
      ]
     },
     "metadata": {
      "image/png": {
       "height": 360,
       "width": 1080
      }
     },
     "output_type": "display_data"
    }
   ],
   "source": [
    "# Visualization\n",
    "# lm_plot_final <- ggplot(energy_train, aes(x=Surface.Area ??? how to best graph out multiple variables?)\n",
    "# it seems that we cannot make visualization in 2dif we are using 3 predicting variables\n",
    "# rmspe of linear model is so high... only use 2 variables to do linear regression?\n",
    "lm_plot <- ggpairs(energy_train)\n",
    "lm_plot"
   ]
  },
  {
   "cell_type": "markdown",
   "id": "6b78ae7c-169e-4671-bfe3-b26c30a2fd90",
   "metadata": {},
   "source": [
    "## Discussion\n",
    "\n",
    "**Comparison of K-NN vs Linear Regression**\n",
    "\n",
    "The rmspe of k-nn regression is about 0.63, and the rmspe of linear regression is about 3.13. K-nn regression has smaller rmspe, so k-nn regression may be the better model for this problem. The reason may be that the relationship between surface area and heating load is not linear (which can be seen from the plot above), therefore linear regression is not as suitable as k-nn regression. However, it is worth noting that the rmspe of both k-nn regression and linear regression are relatively small. The unit of the rmspe is kWh/m^2 and so the rmspe of linear and k-nn regressions are both relatively small errors so they will both be sufficient models to use, with k-nn being more accurate.\n",
    "\n",
    "**Summary of Findings**\n",
    "\n",
    "TODO (only summarize for Linear regresion or also summarize for K-NN as well)?\n",
    "\n",
    "Mattias Ideas For Linear Regression:\n",
    "- Formula:  Heating Load = -51.84965 + 0.04691 * (Surface Area) + 7.17125 * (Overall Height) + 21.17462 * (Glazing Area)\n",
    "- This shows that the glazing area is the most important which makes sense because windows are poor insulators and energy escapes \n",
    "    - more windows = more energy loss = more heating load\n",
    "- Height has the second largest effect which is probably because of how heat rises so taller building means more heat to warm the lower areas so more energy overall to combat the rising heat\n",
    "- Surface area doesn't seem that important (very low coefficient) probably because since its the same volume for all buildings in our dataset the different surface areas doesn't really change what we are heating\n",
    "\n",
    "**Is This What We Expected?**\n",
    "\n",
    "Our results are mostly what we expected to find as we expected K-nn to be more effective than linear regression, as well as Glazing Area and Overall Height having a stronger influence than Surface Area on the Heating Load. Our initial expectation was that K-nn regression would preform better due to the weak linearity of our visualizations. As the results show, K-nn does have a lower rmspe than linear regression showing that it can predict the heating load more accurately. As well, looking at the linear regression formula, Glazing Area has the most influence on the Heating Load. Overall Height has less of an impact than we expected but it still has a stronger influence than Surface Area we follows our initial expectations. We expected the influence of Overall Height and Glazing Area to be around the same but Glazing Area has a much stronger influence.\n",
    "\n",
    "**What Impact Could Such Findings Have?**\n",
    "\n",
    "Our findings could help architects determine the heating load of future buildings to make energy-efficient design decisions, saving cost and mitigating climate change. Further, there are currently tools such as the MIT Design Advisor that help architects design energy effecient buildings. Our findings may help the developers of such programs to fine tune their algorithms to produce even more energy effecient designs.\n",
    "\n",
    "**What Future Questions Could This Lead to?**\n",
    "\n",
    "Does the cooling load of the building also have a similar relationship with our predictor variables?\n",
    "Do external factors/variables that are not considered (e.g. climate, humidity) also affect the heating load of a building?\n",
    "\n"
   ]
  },
  {
   "cell_type": "markdown",
   "id": "875af15d-c227-4415-89d9-3b241ce947c1",
   "metadata": {},
   "source": [
    "## Citations\n",
    "\n",
    "Government of Australia: https://basix.nsw.gov.au/iframe/thermal-help/heating-and-cooling-loads.html#:~:text=The%20heating%20load%20is%20the,temperature%20in%20an%20acceptable%20range\n",
    "\n",
    "Dataset (Xifara, Tsanas): https://archive.ics.uci.edu/ml/datasets/Energy+efficiency\n",
    "\n",
    "https://basix.nsw.gov.au/iframe/thermal-help/heating-and-cooling-loads.html#:~:text=The%20heating%20load%20is%20the,temperature%20in%20an%20acceptable%20range.\n",
    "https://www.plumbersstock.com/how-to-hvac/calculate-heat-load.html\n",
    "\n",
    "MIT Design Advisor: http://designadvisor.mit.edu/design/\n",
    "\n",
    "Urban and Glicksman: http://designadvisor.mit.edu/design/papers/urban_glicksman_simbuild_2006.pdf\n",
    "\n",
    "Definition of relative compactness: https://emupassive.com/2015/10/26/the-compactness-ratio-of-a-building/, http://ibpsa.org/proceedings/BS2011/P_1563.pdf\n",
    "\n",
    "Definition of Heating and Cooling load: https://basix.nsw.gov.au/iframe/thermal-help/heating-and-cooling-loads.html#:~:text=The%20heating%20load%20is%20the,temperature%20in%20an%20acceptable%20range"
   ]
  }
 ],
 "metadata": {
  "kernelspec": {
   "display_name": "R",
   "language": "R",
   "name": "ir"
  },
  "language_info": {
   "codemirror_mode": "r",
   "file_extension": ".r",
   "mimetype": "text/x-r-source",
   "name": "R",
   "pygments_lexer": "r",
   "version": "4.1.3"
  }
 },
 "nbformat": 4,
 "nbformat_minor": 5
}
