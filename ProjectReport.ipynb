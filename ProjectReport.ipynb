{
 "cells": [
  {
   "cell_type": "markdown",
   "id": "dcf074f4",
   "metadata": {},
   "source": [
    "# Predicting Energy Efficiency With Regression"
   ]
  },
  {
   "cell_type": "code",
   "execution_count": 1,
   "id": "f1bc8f65",
   "metadata": {
    "tags": []
   },
   "outputs": [
    {
     "name": "stderr",
     "output_type": "stream",
     "text": [
      "Warning message in system(\"timedatectl\", intern = TRUE):\n",
      "“running command 'timedatectl' had status 1”\n",
      "── \u001b[1mAttaching packages\u001b[22m ─────────────────────────────────────── tidyverse 1.3.1 ──\n",
      "\n",
      "\u001b[32m✔\u001b[39m \u001b[34mggplot2\u001b[39m 3.4.2     \u001b[32m✔\u001b[39m \u001b[34mpurrr  \u001b[39m 1.0.1\n",
      "\u001b[32m✔\u001b[39m \u001b[34mtibble \u001b[39m 3.2.1     \u001b[32m✔\u001b[39m \u001b[34mdplyr  \u001b[39m 1.1.1\n",
      "\u001b[32m✔\u001b[39m \u001b[34mtidyr  \u001b[39m 1.3.0     \u001b[32m✔\u001b[39m \u001b[34mstringr\u001b[39m 1.5.0\n",
      "\u001b[32m✔\u001b[39m \u001b[34mreadr  \u001b[39m 1.4.0     \u001b[32m✔\u001b[39m \u001b[34mforcats\u001b[39m 0.5.1\n",
      "\n",
      "── \u001b[1mConflicts\u001b[22m ────────────────────────────────────────── tidyverse_conflicts() ──\n",
      "\u001b[31m✖\u001b[39m \u001b[34mdplyr\u001b[39m::\u001b[32mfilter()\u001b[39m masks \u001b[34mstats\u001b[39m::filter()\n",
      "\u001b[31m✖\u001b[39m \u001b[34mdplyr\u001b[39m::\u001b[32mlag()\u001b[39m    masks \u001b[34mstats\u001b[39m::lag()\n",
      "\n",
      "── \u001b[1mAttaching packages\u001b[22m ────────────────────────────────────── tidymodels 1.0.0 ──\n",
      "\n",
      "\u001b[32m✔\u001b[39m \u001b[34mbroom       \u001b[39m 1.0.4     \u001b[32m✔\u001b[39m \u001b[34mrsample     \u001b[39m 1.1.1\n",
      "\u001b[32m✔\u001b[39m \u001b[34mdials       \u001b[39m 1.2.0     \u001b[32m✔\u001b[39m \u001b[34mtune        \u001b[39m 1.1.1\n",
      "\u001b[32m✔\u001b[39m \u001b[34minfer       \u001b[39m 1.0.4     \u001b[32m✔\u001b[39m \u001b[34mworkflows   \u001b[39m 1.1.3\n",
      "\u001b[32m✔\u001b[39m \u001b[34mmodeldata   \u001b[39m 1.1.0     \u001b[32m✔\u001b[39m \u001b[34mworkflowsets\u001b[39m 1.0.1\n",
      "\u001b[32m✔\u001b[39m \u001b[34mparsnip     \u001b[39m 1.1.0     \u001b[32m✔\u001b[39m \u001b[34myardstick   \u001b[39m 1.1.0\n",
      "\u001b[32m✔\u001b[39m \u001b[34mrecipes     \u001b[39m 1.0.5     \n",
      "\n",
      "── \u001b[1mConflicts\u001b[22m ───────────────────────────────────────── tidymodels_conflicts() ──\n",
      "\u001b[31m✖\u001b[39m \u001b[34mscales\u001b[39m::\u001b[32mdiscard()\u001b[39m masks \u001b[34mpurrr\u001b[39m::discard()\n",
      "\u001b[31m✖\u001b[39m \u001b[34mdplyr\u001b[39m::\u001b[32mfilter()\u001b[39m   masks \u001b[34mstats\u001b[39m::filter()\n",
      "\u001b[31m✖\u001b[39m \u001b[34mrecipes\u001b[39m::\u001b[32mfixed()\u001b[39m  masks \u001b[34mstringr\u001b[39m::fixed()\n",
      "\u001b[31m✖\u001b[39m \u001b[34mdplyr\u001b[39m::\u001b[32mlag()\u001b[39m      masks \u001b[34mstats\u001b[39m::lag()\n",
      "\u001b[31m✖\u001b[39m \u001b[34myardstick\u001b[39m::\u001b[32mspec()\u001b[39m masks \u001b[34mreadr\u001b[39m::spec()\n",
      "\u001b[31m✖\u001b[39m \u001b[34mrecipes\u001b[39m::\u001b[32mstep()\u001b[39m   masks \u001b[34mstats\u001b[39m::step()\n",
      "\u001b[34m•\u001b[39m Learn how to get started at \u001b[32mhttps://www.tidymodels.org/start/\u001b[39m\n",
      "\n",
      "Registered S3 method overwritten by 'GGally':\n",
      "  method from   \n",
      "  +.gg   ggplot2\n",
      "\n"
     ]
    }
   ],
   "source": [
    "# Please load packages before continuing:\n",
    "library(tidyverse)\n",
    "library(readxl)\n",
    "library(repr) # for visualization\n",
    "library(tidymodels)\n",
    "library(cowplot)\n",
    "library(GGally)\n",
    "options(repr.matrix.max.rows = 6)\n",
    "set.seed(2020)"
   ]
  },
  {
   "cell_type": "markdown",
   "id": "de7e607e",
   "metadata": {},
   "source": [
    "## 1. Introduction\n",
    "\n",
    "**1.1. Background Information**\n",
    "\n",
    "The heating load of a building is \"the amount of heat energy\" needed \"to maintain the temperature in an acceptable range\" (Government of Australia).\n",
    "A higher heating load correlates to more heat energy required, which is detrimental to the environment, and has a higher monetary cost. In fact, an MIT study has found that \"energy consumption in the buildings sector accounts for 25 to 30 percent of global carbon dioxide emissions\" (Urban & Glicksman, 2006).\n",
    "We aim to study how various factors such as surface area, overall height, and glazing area (ie. size of windows) affects the heating load of buildings. We define more energy-efficient buildings as buildings that require lower heating loads.\n",
    "\n",
    "**1.2. Question**\n",
    "\n",
    "What is the heating load (energy-efficiency) for a building with a given surface area, overall height, and glazing area?\n",
    "\n",
    "**1.3. Dataset Description**\n",
    "\n",
    "We're using the \"Energy Efficiency Data Set\" created at the University of Oxford (Xifara & Tsanas).\n",
    "It contains eight attributes and two outcomes which are the column headers of the tibble below. Initially, all columns were labelled X1, X2, etc. instead of their corresponding descriptive names. The dataset has 768 rows and was generated through computer simulation. All observations (buildings) have the same volume, thus we can evaluate the effect of predictors independent of volume."
   ]
  },
  {
   "cell_type": "markdown",
   "id": "f92e2cf5",
   "metadata": {},
   "source": [
    "Dataset dictionary:  \n",
    "Units have been omitted as the dataset does not provide units.\n",
    "\n",
    "| ID  | Name                      | Definition                                                                                                          |\n",
    "|-----|---------------------------|---------------------------------------------------------------------------------------------------------------------|\n",
    "| X1  | Relative Compactness      | Sum of all surfaces of the building divided by its gross heated volume                                              |\n",
    "| X2  | Surface Area              | Sum of all surfaces of the building                                                                                 |\n",
    "| X3  | Wall Area                 | Sum of all surfaces of the building walls                                                                           |\n",
    "| X4  | Roof Area                 | Sum of all surfaces of the building roofs                                                                           |\n",
    "| X5  | Overall Height            | Height of the building                                                                                              |\n",
    "| X6  | Orientation               | Cardinal direction                                                                                                  |\n",
    "| X7  | Glazing Area              | Size of all windows combined                                                                                        |\n",
    "| X8  | Glazing Area Distribution | Distribution of glazing area                                                                                        |\n",
    "| y1  | Heating Load              | Amount of heat energy that would need to be added to a space to maintain the temperature in an acceptable range     |\n",
    "| y2 | Cooling Load              | Amount of heat energy that would need to be removed from a space to maintain the temperature in an acceptable range |\n",
    "\n",
    "\n",
    "\n",
    "\n",
    "<div style=\"color:#999999; text-align: center; font-size:15px; font-family: Arial, sans-serif;\">\n",
    "Table 1.3: Dataset dictionary.\n",
    "</div>\n"
   ]
  },
  {
   "cell_type": "markdown",
   "id": "93e21772",
   "metadata": {},
   "source": [
    "## 2. Method and Process"
   ]
  },
  {
   "cell_type": "markdown",
   "id": "09ba8092",
   "metadata": {},
   "source": [
    "We first read the dataset into R and tidied the dataset by adding column names. In the dataset, the provided column names aren’t descriptive (X1, X2 and so on) so we changed the names to what the columns represent. \n",
    "\n",
    "We are choosing to predict Heating Load because it is more relevant to Vancouver as we tend to need to keep buildings warm during the cold winters rather than cool buildings during summer.\n",
    "\n",
    "The next step is selecting the predictors we will use for our analysis. We chose to use Surface Area, Overall Height, and Glazing Area as we believe they would have the most affect on the Heating Load of the buildings. We chose not to use Relative Compactness as it is not clear what Relative Compactness represents. We chose not to use the Roof Area and Wall Area as it is encompassed within the Surface Area measurement. We chose not to use Orientation as it is a categorical variable and therefore would have too strong of an influence on the regression analysis. Finally, we did not choose Glazing Area Distribution as it is similar to Glazing Area so only one of the two columns is needed in the analysis. Since the distribution of Glazing Area is dependent on Glazing Area, we chose not to include Glazing Area distribution in our analysis.\n",
    "\n",
    "Next, we split our data into 75% training data and 25% testing data so we can evaluate our models with data not used in training. Before building the models, we summarized the data and visualized their relationship with Heating Load to be able to make a hypothesis on which type of regression will predict more accurately.\n",
    "\n",
    "For K-NN regression, we tuned the classifier, performing a 5 fold cross validation in order to obtain a better estimate of accuracy for each value of K. We chose to tune for K values up to 20 as due to the size of our model, any K value larger than 20 would be underfitting the data so we don’t need to test those K values. We can then obtain the best K value and build our K-NN classifier using that K. \n",
    "For linear regression, tuning is not needed so we build our linear classifier and obtain the linear regression formula to determine the influence of each predictor.\n",
    "\n",
    "For both K-NN and linear regression, we predict the Heating Load of the testing data and take metrics on the predicted data to calculate the RMSPE of each model. We use both the RMSPE and visualizations of the Predicted Heating Load vs Actual Heating Load to compare the two models and determine the outcome of our analysis."
   ]
  },
  {
   "cell_type": "markdown",
   "id": "121363bb",
   "metadata": {},
   "source": [
    "## 3. Preliminary Exploratory Data Analysis"
   ]
  },
  {
   "cell_type": "markdown",
   "id": "fda334e4",
   "metadata": {},
   "source": [
    "**3.1. Reading Data Set into R and Tidying (changing column names)**"
   ]
  },
  {
   "cell_type": "code",
   "execution_count": 2,
   "id": "5a804f04",
   "metadata": {},
   "outputs": [
    {
     "data": {
      "text/html": [
       "<table class=\"dataframe\">\n",
       "<caption>A tibble: 768 × 10</caption>\n",
       "<thead>\n",
       "\t<tr><th scope=col>Relative.Compactness</th><th scope=col>Surface.Area</th><th scope=col>Wall.Area</th><th scope=col>Roof.Area</th><th scope=col>Overall.Height</th><th scope=col>Orientation</th><th scope=col>Glazing.Area</th><th scope=col>Glazing.Area.Distribution</th><th scope=col>Heating.Load</th><th scope=col>Cooling.Load</th></tr>\n",
       "\t<tr><th scope=col>&lt;dbl&gt;</th><th scope=col>&lt;dbl&gt;</th><th scope=col>&lt;dbl&gt;</th><th scope=col>&lt;dbl&gt;</th><th scope=col>&lt;dbl&gt;</th><th scope=col>&lt;dbl&gt;</th><th scope=col>&lt;dbl&gt;</th><th scope=col>&lt;dbl&gt;</th><th scope=col>&lt;dbl&gt;</th><th scope=col>&lt;dbl&gt;</th></tr>\n",
       "</thead>\n",
       "<tbody>\n",
       "\t<tr><td>0.98</td><td>514.5</td><td>294</td><td>110.25</td><td>7</td><td>2</td><td>0</td><td>0</td><td>15.55</td><td>21.33</td></tr>\n",
       "\t<tr><td>0.98</td><td>514.5</td><td>294</td><td>110.25</td><td>7</td><td>3</td><td>0</td><td>0</td><td>15.55</td><td>21.33</td></tr>\n",
       "\t<tr><td>0.98</td><td>514.5</td><td>294</td><td>110.25</td><td>7</td><td>4</td><td>0</td><td>0</td><td>15.55</td><td>21.33</td></tr>\n",
       "\t<tr><td>⋮</td><td>⋮</td><td>⋮</td><td>⋮</td><td>⋮</td><td>⋮</td><td>⋮</td><td>⋮</td><td>⋮</td><td>⋮</td></tr>\n",
       "\t<tr><td>0.62</td><td>808.5</td><td>367.5</td><td>220.5</td><td>3.5</td><td>3</td><td>0.4</td><td>5</td><td>16.44</td><td>17.11</td></tr>\n",
       "\t<tr><td>0.62</td><td>808.5</td><td>367.5</td><td>220.5</td><td>3.5</td><td>4</td><td>0.4</td><td>5</td><td>16.48</td><td>16.61</td></tr>\n",
       "\t<tr><td>0.62</td><td>808.5</td><td>367.5</td><td>220.5</td><td>3.5</td><td>5</td><td>0.4</td><td>5</td><td>16.64</td><td>16.03</td></tr>\n",
       "</tbody>\n",
       "</table>\n"
      ],
      "text/latex": [
       "A tibble: 768 × 10\n",
       "\\begin{tabular}{llllllllll}\n",
       " Relative.Compactness & Surface.Area & Wall.Area & Roof.Area & Overall.Height & Orientation & Glazing.Area & Glazing.Area.Distribution & Heating.Load & Cooling.Load\\\\\n",
       " <dbl> & <dbl> & <dbl> & <dbl> & <dbl> & <dbl> & <dbl> & <dbl> & <dbl> & <dbl>\\\\\n",
       "\\hline\n",
       "\t 0.98 & 514.5 & 294 & 110.25 & 7 & 2 & 0 & 0 & 15.55 & 21.33\\\\\n",
       "\t 0.98 & 514.5 & 294 & 110.25 & 7 & 3 & 0 & 0 & 15.55 & 21.33\\\\\n",
       "\t 0.98 & 514.5 & 294 & 110.25 & 7 & 4 & 0 & 0 & 15.55 & 21.33\\\\\n",
       "\t ⋮ & ⋮ & ⋮ & ⋮ & ⋮ & ⋮ & ⋮ & ⋮ & ⋮ & ⋮\\\\\n",
       "\t 0.62 & 808.5 & 367.5 & 220.5 & 3.5 & 3 & 0.4 & 5 & 16.44 & 17.11\\\\\n",
       "\t 0.62 & 808.5 & 367.5 & 220.5 & 3.5 & 4 & 0.4 & 5 & 16.48 & 16.61\\\\\n",
       "\t 0.62 & 808.5 & 367.5 & 220.5 & 3.5 & 5 & 0.4 & 5 & 16.64 & 16.03\\\\\n",
       "\\end{tabular}\n"
      ],
      "text/markdown": [
       "\n",
       "A tibble: 768 × 10\n",
       "\n",
       "| Relative.Compactness &lt;dbl&gt; | Surface.Area &lt;dbl&gt; | Wall.Area &lt;dbl&gt; | Roof.Area &lt;dbl&gt; | Overall.Height &lt;dbl&gt; | Orientation &lt;dbl&gt; | Glazing.Area &lt;dbl&gt; | Glazing.Area.Distribution &lt;dbl&gt; | Heating.Load &lt;dbl&gt; | Cooling.Load &lt;dbl&gt; |\n",
       "|---|---|---|---|---|---|---|---|---|---|\n",
       "| 0.98 | 514.5 | 294 | 110.25 | 7 | 2 | 0 | 0 | 15.55 | 21.33 |\n",
       "| 0.98 | 514.5 | 294 | 110.25 | 7 | 3 | 0 | 0 | 15.55 | 21.33 |\n",
       "| 0.98 | 514.5 | 294 | 110.25 | 7 | 4 | 0 | 0 | 15.55 | 21.33 |\n",
       "| ⋮ | ⋮ | ⋮ | ⋮ | ⋮ | ⋮ | ⋮ | ⋮ | ⋮ | ⋮ |\n",
       "| 0.62 | 808.5 | 367.5 | 220.5 | 3.5 | 3 | 0.4 | 5 | 16.44 | 17.11 |\n",
       "| 0.62 | 808.5 | 367.5 | 220.5 | 3.5 | 4 | 0.4 | 5 | 16.48 | 16.61 |\n",
       "| 0.62 | 808.5 | 367.5 | 220.5 | 3.5 | 5 | 0.4 | 5 | 16.64 | 16.03 |\n",
       "\n"
      ],
      "text/plain": [
       "    Relative.Compactness Surface.Area Wall.Area Roof.Area Overall.Height\n",
       "1   0.98                 514.5        294       110.25    7             \n",
       "2   0.98                 514.5        294       110.25    7             \n",
       "3   0.98                 514.5        294       110.25    7             \n",
       "⋮   ⋮                    ⋮            ⋮         ⋮         ⋮             \n",
       "766 0.62                 808.5        367.5     220.5     3.5           \n",
       "767 0.62                 808.5        367.5     220.5     3.5           \n",
       "768 0.62                 808.5        367.5     220.5     3.5           \n",
       "    Orientation Glazing.Area Glazing.Area.Distribution Heating.Load\n",
       "1   2           0            0                         15.55       \n",
       "2   3           0            0                         15.55       \n",
       "3   4           0            0                         15.55       \n",
       "⋮   ⋮           ⋮            ⋮                         ⋮           \n",
       "766 3           0.4          5                         16.44       \n",
       "767 4           0.4          5                         16.48       \n",
       "768 5           0.4          5                         16.64       \n",
       "    Cooling.Load\n",
       "1   21.33       \n",
       "2   21.33       \n",
       "3   21.33       \n",
       "⋮   ⋮           \n",
       "766 17.11       \n",
       "767 16.61       \n",
       "768 16.03       "
      ]
     },
     "metadata": {},
     "output_type": "display_data"
    }
   ],
   "source": [
    "url <- \"https://archive.ics.uci.edu/ml/machine-learning-databases/00242/ENB2012_data.xlsx\"\n",
    "file_name <- \"energy-efficiency.xlsx\"\n",
    "download.file(url, file_name)\n",
    "energy_data <- read_excel(file_name, \n",
    "                          skip = 1, \n",
    "                          col_names = c(\"Relative.Compactness\", \"Surface.Area\", \"Wall.Area\", \n",
    "                                        \"Roof.Area\", \"Overall.Height\", \"Orientation\", \n",
    "                                        \"Glazing.Area\", \"Glazing.Area.Distribution\", \n",
    "                                        \"Heating.Load\", \"Cooling.Load\"))\n",
    "energy_data"
   ]
  },
  {
   "cell_type": "markdown",
   "id": "30dbf594-879d-443a-b977-173f3469c794",
   "metadata": {},
   "source": [
    "<div style=\"color:#999999; text-align: center; font-size:15px; font-family: Arial, sans-serif;\">\n",
    "Table 3.1: Overview of original data frame.\n",
    "</div>"
   ]
  },
  {
   "cell_type": "markdown",
   "id": "296091f1",
   "metadata": {},
   "source": [
    "**3.2. Cleaning and Wrangling Data**"
   ]
  },
  {
   "cell_type": "code",
   "execution_count": 3,
   "id": "a639dc5f",
   "metadata": {},
   "outputs": [
    {
     "ename": "ERROR",
     "evalue": "Error in parse(text = x, srcfile = src): <text>:2:37: unexpected '>'\n1: # Table with variables that we will be using in our analysis\n2: energy_data_reduced <- energy_data |>\n                                       ^\n",
     "output_type": "error",
     "traceback": [
      "Error in parse(text = x, srcfile = src): <text>:2:37: unexpected '>'\n1: # Table with variables that we will be using in our analysis\n2: energy_data_reduced <- energy_data |>\n                                       ^\nTraceback:\n"
     ]
    }
   ],
   "source": [
    "# Table with variables that we will be using in our analysis\n",
    "energy_data_reduced <- energy_data |>\n",
    "                    select(Surface.Area, Overall.Height, Glazing.Area, Heating.Load)\n",
    "energy_data_reduced"
   ]
  },
  {
   "cell_type": "markdown",
   "id": "8500f058-bafe-41a5-a1ec-8bb244980f06",
   "metadata": {},
   "source": [
    "<div style=\"color:#999999; font-size:15px; font-family: Arial, sans-serif;\">\n",
    "Table 3.2: Overview of reduced data frame that will be used in analysis.\n",
    "</div>"
   ]
  },
  {
   "cell_type": "code",
   "execution_count": null,
   "id": "da8d8d73",
   "metadata": {},
   "outputs": [],
   "source": [
    "energy_split <- initial_split(energy_data_reduced, prop = 0.75, strata = Heating.Load)\n",
    "energy_train <- training(energy_split)\n",
    "energy_test <- testing(energy_split)"
   ]
  },
  {
   "cell_type": "markdown",
   "id": "2adc1540",
   "metadata": {},
   "source": [
    "**3.3. Data Summarization (only training data)**"
   ]
  },
  {
   "cell_type": "code",
   "execution_count": null,
   "id": "9379e67b",
   "metadata": {},
   "outputs": [],
   "source": [
    "# Mean Table\n",
    "energy_data_mean <- summarize(energy_train,\n",
    "    Surface.Area.Mean = mean(Surface.Area),                   \n",
    "    Overall.Height.Mean = mean(Overall.Height),                        \n",
    "    Glazing.Area.Mean = mean(Glazing.Area),                            \n",
    "    Heating.Load.Mean = mean(Heating.Load))\n",
    "energy_data_mean"
   ]
  },
  {
   "cell_type": "markdown",
   "id": "c581e160-2bbc-4f4a-82dd-12924997b56a",
   "metadata": {},
   "source": [
    "<div style=\"color:#999999; font-size:15px; font-family: Arial, sans-serif;\">\n",
    "Table 3.3.1: Table of the means.\n",
    "</div>"
   ]
  },
  {
   "cell_type": "code",
   "execution_count": null,
   "id": "6cb234b4",
   "metadata": {},
   "outputs": [],
   "source": [
    "# Median Table\n",
    "energy_data_median <- summarize(energy_train,\n",
    "    Surface.Area.Median = median(Surface.Area),                   \n",
    "    Overall.Height.Median = median(Overall.Height),                        \n",
    "    Glazing.Area.Median = median(Glazing.Area),  \n",
    "    Heating.Load.Median = median(Heating.Load))\n",
    "energy_data_median"
   ]
  },
  {
   "cell_type": "markdown",
   "id": "f099f5c5-13e0-4e87-8dda-128a13163325",
   "metadata": {},
   "source": [
    "<div style=\"color:#999999; font-size:15px; font-family: Arial, sans-serif;\">\n",
    "Table 3.3.2: Table of the medians.\n",
    "</div>"
   ]
  },
  {
   "cell_type": "code",
   "execution_count": null,
   "id": "ba7007cd",
   "metadata": {},
   "outputs": [],
   "source": [
    "# Finding Mode\n",
    "heating_mode <- names(sort(-table(energy_train$Heating.Load)))[1]\n",
    "surface_mode <- names(sort(-table(energy_train$Surface.Area)))[1]\n",
    "height_mode <- names(sort(-table(energy_train$Overall.Height)))[1]\n",
    "glazing_mode <- names(sort(-table(energy_train$Glazing.Area)))[1]\n",
    "\n",
    "# Mode Table\n",
    "energy_data_mode <- summarize(energy_train,\n",
    "                        Surface.Area.Mode = surface_mode,\n",
    "                        Overall.Height.Mode = height_mode,\n",
    "                        Glazing.Area.Mode = glazing_mode,\n",
    "                        Heating.Load.Mode = heating_mode)\n",
    "energy_data_mode"
   ]
  },
  {
   "cell_type": "markdown",
   "id": "0e6a9f26-b8ca-4712-8190-d35d30c6dadf",
   "metadata": {},
   "source": [
    "<div style=\"color:#999999; font-size:15px; font-family: Arial, sans-serif;\">\n",
    "Table 3.3.3: Table of the modes.\n",
    "</div>"
   ]
  },
  {
   "cell_type": "code",
   "execution_count": null,
   "id": "56b2508f",
   "metadata": {},
   "outputs": [],
   "source": [
    "# Max Table\n",
    "energy_data_max <- summarize(energy_train,\n",
    "    Surface.Area.Max = max(Surface.Area),                   \n",
    "    Overall.Height.Max = max(Overall.Height),                        \n",
    "    Glazing.Area.Max = max(Glazing.Area),  \n",
    "    Heating.Load.Max = max(Heating.Load))\n",
    "energy_data_max"
   ]
  },
  {
   "cell_type": "markdown",
   "id": "2bda11e1-e98e-42f7-b21f-13dcd82f7e02",
   "metadata": {},
   "source": [
    "<div style=\"color:#999999; font-size:15px; font-family: Arial, sans-serif;\">\n",
    "Table 3.3.4: Table of the maxes.\n",
    "</div>"
   ]
  },
  {
   "cell_type": "code",
   "execution_count": null,
   "id": "4b9f2a36",
   "metadata": {},
   "outputs": [],
   "source": [
    "# Min Table\n",
    "energy_data_min <- summarize(energy_train,\n",
    "    Surface.Area.Min = min(Surface.Area),                   \n",
    "    Overall.Height.Min = min(Overall.Height),                        \n",
    "    Glazing.Area.Min = min(Glazing.Area),  \n",
    "    Heating.Load.Min = min(Heating.Load))\n",
    "energy_data_min"
   ]
  },
  {
   "cell_type": "markdown",
   "id": "727d050b-8f4f-4617-b3e9-5d192b7ddbc7",
   "metadata": {},
   "source": [
    "<div style=\"color:#999999; font-size:15px; font-family: Arial, sans-serif;\">\n",
    "Table 3.3.5: Table of the mins.\n",
    "</div>"
   ]
  },
  {
   "cell_type": "code",
   "execution_count": null,
   "id": "f8011d88",
   "metadata": {},
   "outputs": [],
   "source": [
    "# Number of Rows Missing Data\n",
    "num_rows_missing_data <- energy_train |>\n",
    "                        filter(Surface.Area == NA | \n",
    "                               Overall.Height == NA | Glazing.Area == NA | Heating.Load == NA) |>\n",
    "                        nrow() |>\n",
    "                        as_tibble()\n",
    "colnames(num_rows_missing_data) <- c(\"Number.Of.Rows.Missing.Data\")\n",
    "num_rows_missing_data"
   ]
  },
  {
   "cell_type": "markdown",
   "id": "bb303a29-7467-4f48-8a0e-82827a0dc6d4",
   "metadata": {},
   "source": [
    "<div style=\"color:#999999; font-size:15px; font-family: Arial, sans-serif;\">\n",
    "Table 3.3.6: Number of rows missing data.\n",
    "</div>"
   ]
  },
  {
   "cell_type": "markdown",
   "id": "94ef0e10",
   "metadata": {},
   "source": [
    "**3.4. Initial Data Visualization (only training data)**"
   ]
  },
  {
   "cell_type": "code",
   "execution_count": null,
   "id": "4a614797",
   "metadata": {},
   "outputs": [],
   "source": [
    "# Units have been omitted as our dataset did not provide units.\n",
    "options(repr.plot.width=18, repr.plot.height=6)\n",
    "plot_surface <- ggplot(energy_train, aes(x = Surface.Area, y = Heating.Load)) +\n",
    "    geom_point(alpha = 0.4) +\n",
    "    labs(x = \"Surface Area\", y = \"Heating Load\") +\n",
    "    theme(text = element_text(size = 12)) +\n",
    "    ggtitle(\"Heating Load vs Surface Area (Figure 3.4.1)\")\n",
    "plot_height <- ggplot(energy_train, aes(x = Overall.Height, y = Heating.Load)) +\n",
    "    geom_point(alpha = 0.4) +\n",
    "    labs(x = \"Overall Height\", y = \"Heating Load\") +\n",
    "    theme(text = element_text(size = 12)) +\n",
    "    ggtitle(\"Heating Load vs Overall Height (Figure 3.4.2)\")\n",
    "plot_glazing <- ggplot(energy_train, aes(x = Glazing.Area, y = Heating.Load)) +\n",
    "    geom_point(alpha = 0.4) +\n",
    "    labs(x = \"Glazing Area\", y = \"Heating Load\") +\n",
    "    theme(text = element_text(size = 12)) +\n",
    "    ggtitle(\"Heating Load vs Glazing Area (Figure 3.4.3)\")\n",
    "plot_grid(plot_surface, plot_height, plot_glazing, nrow = 1)"
   ]
  },
  {
   "cell_type": "markdown",
   "id": "c58f1603-48b2-419e-9ec5-bc6c0faf38f5",
   "metadata": {},
   "source": [
    "<div style=\"color:#999999; text-align: center; font-size:15px; font-family: Arial, sans-serif;\">\n",
    "Figure 3.4.1, 3.4.2, and 3.4.3: Initial visualization of training data (relationships between predictor variables and target variable, Heating Load).\n",
    "</div>"
   ]
  },
  {
   "cell_type": "markdown",
   "id": "14fae7cb",
   "metadata": {},
   "source": [
    "**3.5. Interpretation of Visualizations**\n",
    "\n",
    "Plot 3.4.1 doesn’t show a continuous linear pattern. The relationship changes from negative to positive around the middle, where the Heating Load drops and starts to increase more gradually. This change may indicate a more energy-efficient Surface Area around its median, whereas considering the jumps at ~635, and ~785 (where afterwards the relationship changes direction), it could also mean that other predictor variables are having an effect on Heating Load.\n",
    "\n",
    "Plots 3.4.2 and 3.4.3 show that both Overall Height and Glazing Area have a positive linear relationship with Heating Load. Differently from Overall Height, when Glazing Area is 0, the Heating Load is distributed across a wider range, thus at 0, the other predictor variables may have a greater effect on Heating Load. In most of our visualizations, the Heating Load values are widely distributed for a single predictor variable value, which could mean that other variables are having an effect."
   ]
  },
  {
   "cell_type": "code",
   "execution_count": null,
   "id": "e0bf834b",
   "metadata": {},
   "outputs": [],
   "source": [
    "lm_plot <- ggpairs(energy_train) +\n",
    "           theme(text = element_text(size = 16))\n",
    "lm_plot"
   ]
  },
  {
   "cell_type": "markdown",
   "id": "757ea3c2-fe4d-4d6c-98f1-b9a92415fd6f",
   "metadata": {},
   "source": [
    "<div style=\"color:#999999; text-align: center; font-size:15px; font-family: Arial, sans-serif;\">\n",
    "Table 3.5: Relationships between each variable we used.\n",
    "</div>"
   ]
  },
  {
   "cell_type": "markdown",
   "id": "8ed5b1cb",
   "metadata": {},
   "source": [
    "**3.6. Expected Outcomes**\n",
    "\n",
    "From our initial visualizations, we expect the Heating Load to be proportional to Overall Height and Glazing Area. The visualizations also suggest that their may be a smaller relationship between Surface Area and Heating Load so Glazing Area and Overall Height will influence the model more. We also expect a model using K-NN regression to be more accurate in predicting Heating Load than a linear regression model because our visualizations do not suggest a strong linear relationship."
   ]
  },
  {
   "cell_type": "markdown",
   "id": "0b76409d",
   "metadata": {},
   "source": [
    "## 4. Data Analysis"
   ]
  },
  {
   "cell_type": "markdown",
   "id": "923612c5",
   "metadata": {},
   "source": [
    "**4.1. Analysis Using K-NN Regression**"
   ]
  },
  {
   "cell_type": "code",
   "execution_count": null,
   "id": "4c40d8b6",
   "metadata": {},
   "outputs": [],
   "source": [
    "# Recipe\n",
    "data_recipe <- recipe(Heating.Load ~ Surface.Area + Overall.Height + Glazing.Area, \n",
    "                      data = energy_train) |>                                    \n",
    "                      step_scale(all_predictors()) |>\n",
    "                      step_center(all_predictors())"
   ]
  },
  {
   "cell_type": "code",
   "execution_count": null,
   "id": "e4113237",
   "metadata": {},
   "outputs": [],
   "source": [
    "# Tuning and Performing 5-Fold Cross Validation\n",
    "data_spec <- nearest_neighbor(weight_func = \"rectangular\", neighbors = tune()) |>\n",
    "       set_engine(\"kknn\") |>\n",
    "       set_mode(\"regression\") \n",
    "\n",
    "data_vfold <- vfold_cv(energy_train, v = 5, strata = Heating.Load)\n",
    "\n",
    "data_workflow <- workflow() |>\n",
    "    add_recipe(data_recipe) |>\n",
    "    add_model(data_spec)\n",
    "\n",
    "gridvals <- tibble(neighbors = seq(from = 1, to = 20, by = 1))\n",
    "\n",
    "data_results <- data_workflow |>\n",
    "  tune_grid(resamples = data_vfold, grid = gridvals) |>\n",
    "  collect_metrics()\n",
    "\n",
    "data_results_sorted <- data_results |>\n",
    "    filter(.metric == \"rmse\") |>\n",
    "    arrange(mean)\n",
    "\n",
    "data_results_sorted"
   ]
  },
  {
   "cell_type": "markdown",
   "id": "92233cf5-697c-46aa-ba4f-972ec4c88ce9",
   "metadata": {},
   "source": [
    "<div style=\"color:#999999; font-size:15px; font-family: Arial, sans-serif;\">\n",
    "Table 4.1.1: Number of neighbors sorted by RMSE in increasing order.\n",
    "</div>"
   ]
  },
  {
   "cell_type": "code",
   "execution_count": null,
   "id": "fd34552c",
   "metadata": {},
   "outputs": [],
   "source": [
    "# Finding Best K (Minimum RMSE)\n",
    "data_min <- data_results_sorted |> \n",
    "            head(n=1)\n",
    "\n",
    "k_min <- data_min |>\n",
    "         pull(neighbors)\n",
    "\n",
    "cat(\"Best K: \", k_min)"
   ]
  },
  {
   "cell_type": "code",
   "execution_count": null,
   "id": "5485e3a8",
   "metadata": {},
   "outputs": [],
   "source": [
    "# K-NN Regression with Best K\n",
    "data_best_spec <- nearest_neighbor(weight_func = \"rectangular\", \n",
    "                                   neighbors = k_min) |>\n",
    "          set_engine(\"kknn\") |>\n",
    "          set_mode(\"regression\")\n",
    "\n",
    "data_fit <- workflow() |>\n",
    "          add_recipe(data_recipe) |>\n",
    "          add_model(data_best_spec) |>\n",
    "          fit(data = energy_train)\n",
    "\n",
    "data_predictions <- data_fit |>\n",
    "           predict(energy_test) |>\n",
    "           bind_cols(energy_test) \n",
    "data_predictions"
   ]
  },
  {
   "cell_type": "markdown",
   "id": "8ce949d3-0321-4a66-87d3-785f6b5cb893",
   "metadata": {},
   "source": [
    "<div style=\"color:#999999; font-size:15px; font-family: Arial, sans-serif;\">\n",
    "Table 4.1.2: Prediction results of testing data using K-NN regression.\n",
    "</div>"
   ]
  },
  {
   "cell_type": "code",
   "execution_count": null,
   "id": "0390d92c",
   "metadata": {},
   "outputs": [],
   "source": [
    "data_summary <- data_predictions |>\n",
    "           metrics(truth = Heating.Load, estimate = .pred) |>\n",
    "           filter(.metric == \"rmse\")\n",
    "\n",
    "data_summary"
   ]
  },
  {
   "cell_type": "markdown",
   "id": "c9441f69-591c-480a-8578-7797b2b7f1e8",
   "metadata": {},
   "source": [
    "<div style=\"color:#999999; font-size:15px; font-family: Arial, sans-serif;\">\n",
    "Table 4.1.3: RMSPE of prediction using K-NN regression.\n",
    "</div>"
   ]
  },
  {
   "cell_type": "code",
   "execution_count": null,
   "id": "e112354a",
   "metadata": {},
   "outputs": [],
   "source": [
    "# RMSPE of K-NN Regression with Best K:\n",
    "\n",
    "rmspe_knn <- data_summary |>\n",
    "            select(.estimate) |>\n",
    "            pull()\n",
    "rmspe_knn"
   ]
  },
  {
   "cell_type": "markdown",
   "id": "3727ff32-26ea-4d4f-8ff3-5a0d5109fbb5",
   "metadata": {},
   "source": [
    "<div style=\"color:#999999; font-size:15px; font-family: Arial, sans-serif;\">\n",
    "Figure 4.1.4: RMPSE of the Best K.\n",
    "</div>"
   ]
  },
  {
   "cell_type": "markdown",
   "id": "11ab9a80",
   "metadata": {},
   "source": [
    "**4.2. Analysis Using Linear Regression**"
   ]
  },
  {
   "cell_type": "code",
   "execution_count": null,
   "id": "bc267464",
   "metadata": {},
   "outputs": [],
   "source": [
    "# Recipe and Fit\n",
    "lm_spec <- linear_reg() |>\n",
    "    set_engine(\"lm\") |>\n",
    "    set_mode(\"regression\")\n",
    "\n",
    "lm_recipe <- recipe(Heating.Load ~ Surface.Area + Overall.Height + Glazing.Area, data = energy_train)\n",
    "             \n",
    "lm_fit <- workflow() |>\n",
    "    add_recipe(lm_recipe) |>\n",
    "    add_model(lm_spec) |>\n",
    "    fit(data = energy_train)\n",
    "\n",
    "lm_fit"
   ]
  },
  {
   "cell_type": "code",
   "execution_count": null,
   "id": "2410e45f",
   "metadata": {},
   "outputs": [],
   "source": [
    "# Testing Data Results (RMSPE)\n",
    "lm_predictions <- lm_fit |>\n",
    "    predict(energy_test) |>\n",
    "    bind_cols(energy_test)\n",
    "\n",
    "lm_predictions"
   ]
  },
  {
   "cell_type": "markdown",
   "id": "466e86aa-a180-4c75-ba28-793134941194",
   "metadata": {},
   "source": [
    "<div style=\"color:#999999; font-size:15px; font-family: Arial, sans-serif;\">\n",
    "Table 4.2.1: Prediction results of testing data using linear regression.\n",
    "</div>"
   ]
  },
  {
   "cell_type": "code",
   "execution_count": null,
   "id": "d690605e",
   "metadata": {},
   "outputs": [],
   "source": [
    "lm_test_results <- lm_predictions |>\n",
    "    metrics(truth = Heating.Load, estimate = .pred) |>\n",
    "    filter(.metric == \"rmse\")\n",
    "lm_test_results"
   ]
  },
  {
   "cell_type": "markdown",
   "id": "cd8c4f38-83bc-4f5c-8c43-674fe8ea9f7f",
   "metadata": {},
   "source": [
    "<div style=\"color:#999999; font-size:15px; font-family: Arial, sans-serif;\">\n",
    "Table 4.2.2: RMSPE of prediction using linear regression.\n",
    "</div>"
   ]
  },
  {
   "cell_type": "code",
   "execution_count": null,
   "id": "1f29b67f",
   "metadata": {},
   "outputs": [],
   "source": [
    "# RMSPE of Linear Regression:\n",
    "rmspe_lm <- lm_test_results |>\n",
    "                select(.estimate) |>\n",
    "                pull()\n",
    "rmspe_lm"
   ]
  },
  {
   "cell_type": "code",
   "execution_count": null,
   "id": "43b8c308",
   "metadata": {},
   "outputs": [],
   "source": [
    "# Coefficients\n",
    "lm_coefficients <- lm_fit |>\n",
    "                   extract_fit_parsnip() |>\n",
    "                   tidy()\n",
    "lm_coefficients"
   ]
  },
  {
   "cell_type": "markdown",
   "id": "35ec221c-7811-4eeb-b034-3bbf7addcf97",
   "metadata": {},
   "source": [
    "<div style=\"color:#999999; font-size:15px; font-family: Arial, sans-serif;\">\n",
    "Table 4.2.3: Coefficients and other statistics of linear regression model.\n",
    "</div>"
   ]
  },
  {
   "cell_type": "markdown",
   "id": "9ba69b02-0eca-4091-b0a7-1cd1b10f5095",
   "metadata": {},
   "source": [
    "**Linear Regression Equation (Predicted Line of Best Fit):**\n",
    "\n",
    "$Heating \\ Load = -50.8 + 0.0462 * (Surface Area) + 7.13 * (Overall Height) + 19.8 * (Glazing Area)$"
   ]
  },
  {
   "cell_type": "markdown",
   "id": "4eadb33a",
   "metadata": {},
   "source": [
    "**4.3. Visualizations**"
   ]
  },
  {
   "cell_type": "code",
   "execution_count": null,
   "id": "071bddd4",
   "metadata": {},
   "outputs": [],
   "source": [
    "# Visualization of K-nn model\n",
    "predicted_vs_actual_knn_plot <- data_predictions |>\n",
    "    ggplot(aes(x = Heating.Load, y = .pred)) +\n",
    "    geom_point() +\n",
    "    geom_line() +\n",
    "    geom_abline(slope=1, intercept = 0, color = \"blue\") +\n",
    "    labs(x = \"Actual Heating Load\", y = \"Predicted Heating Load\") +\n",
    "    ggtitle(\"Predicted Heating Load vs Actual Heating Load (K-nn Regression)\") +\n",
    "    theme(text = element_text(size = 18))\n",
    "predicted_vs_actual_knn_plot"
   ]
  },
  {
   "cell_type": "markdown",
   "id": "cff559f4-e531-40b4-8358-c5e4da37f78d",
   "metadata": {},
   "source": [
    "<div style=\"color:#999999; text-align: center; font-size:15px; font-family: Arial, sans-serif;\">\n",
    "Figure 4.3.1: Visualization of K-NN regression results.\n",
    "</div>"
   ]
  },
  {
   "cell_type": "markdown",
   "id": "2cbd8c61",
   "metadata": {},
   "source": [
    "> The blue line is the accuracy line. It represents a perfectly accurate model where the predicted Heating Load is always the same as the true Heating Load. It shows how far off our predicted data is from the true values. "
   ]
  },
  {
   "cell_type": "code",
   "execution_count": null,
   "id": "7c40c258",
   "metadata": {},
   "outputs": [],
   "source": [
    "# Visualization of Linear Model\n",
    "predicted_vs_actual_linear_plot <- lm_predictions |>\n",
    "    ggplot(aes(x = Heating.Load, y = .pred)) +\n",
    "    geom_point() +\n",
    "    geom_line() +\n",
    "    geom_abline(slope=1, intercept = 0, color = \"blue\") +\n",
    "    labs(x = \"Actual Heating Load\", y = \"Predicted Heating Load\") +\n",
    "    ggtitle(\"Predicted Heating Load vs Actual Heating Load (Linear Regression)\") +\n",
    "    theme(text = element_text(size = 18))\n",
    "predicted_vs_actual_linear_plot"
   ]
  },
  {
   "cell_type": "markdown",
   "id": "ff91d943-17c9-485d-b63b-661cd02c2c1e",
   "metadata": {},
   "source": [
    "<div style=\"color:#999999; text-align: center; font-size:15px; font-family: Arial, sans-serif;\">\n",
    "Figure 4.3.2: Visualization of linear regression results.\n",
    "</div>"
   ]
  },
  {
   "cell_type": "markdown",
   "id": "ed514fde",
   "metadata": {},
   "source": [
    "> The blue line is the accuracy line. It represents a perfectly accurate model where the predicted Heating Load is always the same as the true Heating Load. It shows how far off our predicted data is from the true values. "
   ]
  },
  {
   "cell_type": "markdown",
   "id": "1c843ec5",
   "metadata": {},
   "source": [
    "## 5. Discussion\n",
    "\n",
    "**5.1. Comparison of K-NN Regression vs Linear Regression**\n",
    "\n",
    "The RMSPE of K-NN regression is about 0.63, and the RMSPE of linear regression is about 3.13. K-NN regression has smaller RMSPE, so K-NN regression may be the better model for our dataset and analysis. The reason may be that the relationship between Surface Area and Heating Load is not linear (which can be seen from Figure 3.4.1 above), therefore linear regression is not as suitable and accurate as K-NN regression. While the RMSPE may seem small for both K-NN and linear regression, in the context of Heating Load, 3.13 is a large error compared to 0.63. This is further backed up with the visualizations of the accuracies of our models (predicted vs actual Heating Load in figures 4.3.1 and 4.3.2) which shows that the K-NN regression model predicts the Heating Load much more accurately than the linear regression model. The K-NN model follows the accuracy line closely and deviates from it minimally. The linear regression model on the other hand does not follow the line closely, showing its inaccuracies. This shows that for our data, the K-NN regression model may be better suited.\n",
    "\n",
    "**5.2. Summary of Findings**\n",
    "\n",
    "We found that for our data, the K-NN regression model predicts the Heating Load of our testing data more accurately than our linear regression model as the linear model has much more deviation from the true Heating Load compared to the K-NN regression model, however, both K-NN and linear regression models are reasonable. The visualizations (figure 4.3.1 and 4.3.2) show that both models are more accurate at predicting smaller Heating Loads rather than larger Heating Loads, specifically buildings with a Heating Load approximately less than 15. This can be explained as buildings with larger Heating Loads must also lose more energy which could create more variable results than buildings that contain energy more efficiently. This results in our models being more precise with predictions of smaller Heating Loads. \n",
    "\n",
    "Looking at the formula for linear regression, we can see that Glazing Area is the predictor with the most influence on the Heating Load (as it has the greatest coefficient), followed by Overall Height, and then Surface Area. Glazing Area is shown to have a very strong influence on the Heating Load which makes sense as glass is a poor insulator (\"Why Glass In Windows Is A Poor Insulator\"), causing significant energy to escape through them. More glass means more energy loss which results in a higher Heating Load. Height has a smaller influence on the Heating Load but is still of significant influence. This makes sense due to how heat rises, meaning taller buildings have to be heated more to warm the lower areas. This results in more energy spent overall, and a higher Heating Load. We found that Surface Area does not have a significant influence on the linear regression model. However, this may be because all buildings in our dataset have the same volume and as a result, different surface areas influence the model less than other predictors since the same volume is being heated.\n",
    "\n",
    "**5.3. Is This What We Expected?**\n",
    "\n",
    "Our results are mostly what we expected to find, as we expected K-NN to be more effective than linear regression, as well as Glazing Area and Overall Height to have a stronger influence on the Heating Load (when compared to Surface Area). Our initial expectation was that K-NN regression would perform better due to the weak linearity of our visualizations and indeed, as figure 4.1.4 and 4.2.2 show, K-NN regression does have a lower RMSPE than linear regression, showing that it can predict the Heating Load more accurately. Additionally, looking at the linear regression formula, Glazing Area has the most influence on the Heating Load. Overall Height has less of an impact than we expected but it still has a stronger influence than Surface Area, which follows our initial expectations. We expected the influence of Overall Height and Glazing Area to be around the same but Glazing Area has a much stronger influence.\n",
    "\n",
    "Our results that Glazing Area and Overall Height are \"good\" predictors for Heating Load are also consistent with relevant research. Researchers in Algeria found that Glazing Area is \"responsible for about 25-30% of the heat loss in a building because [it] is a poor insulator\" (Djamel & Noureddine) and Korean researchers found that when a building is taller, the \"stack effect increases\", which leads to amongst other effects, an \"increase [in] the building heating load or energy demand\" (Song & Kang)\n",
    "\n",
    "**5.4. What Impact Could Such Findings Have?**\n",
    "\n",
    "Our findings could help architects determine the Heating Load of future buildings to make energy-efficient design decisions, saving money and mitigating climate change. Furthermore, there are currently tools such as the MIT Design Advisor that help architects design energy-efficient buildings. Our findings may help the developers of such programs to fine tune their algorithms to produce even more energy-efficient designs.\n",
    "\n",
    "**5.5. What Future Questions Could This Lead To?**\n",
    "\n",
    "Further research in this topic could look at:\n",
    "- Does the Cooling Load of the building also have a similar relationship with our predictor variables?\n",
    "- Do external variables that are not considered (e.g. climate, elevation, humidity) also affect the heating load of a building?"
   ]
  },
  {
   "cell_type": "markdown",
   "id": "72c9c1be",
   "metadata": {},
   "source": [
    "## References\n",
    "\n",
    "Government of Australia: https://basix.nsw.gov.au/iframe/thermal-help/heating-and-cooling-loads.html#:~:text=The%20heating%20load%20is%20the,temperature%20in%20an%20acceptable%20range\n",
    "\n",
    "Dataset (Xifara & Tsanas): https://archive.ics.uci.edu/ml/datasets/Energy+efficiency\n",
    "\n",
    "Government of Australia: https://basix.nsw.gov.au/iframe/thermal-help/heating-and-cooling-loads.html#:~:text=The%20heating%20load%20is%20the,temperature%20in%20an%20acceptable%20range.  \n",
    "\n",
    "How to Calculate Heat Load: https://www.plumbersstock.com/how-to-hvac/calculate-heat-load.html\n",
    "\n",
    "MIT Design Advisor: http://designadvisor.mit.edu/design/\n",
    "\n",
    "Urban and Glicksman: http://designadvisor.mit.edu/design/papers/urban_glicksman_simbuild_2006.pdf\n",
    "\n",
    "Definition of relative compactness: https://emupassive.com/2015/10/26/the-compactness-ratio-of-a-building/, http://ibpsa.org/proceedings/BS2011/P_1563.pdf\n",
    "\n",
    "Definition of Heating and Cooling Load: https://basix.nsw.gov.au/iframe/thermal-help/heating-and-cooling-loads.html#:~:text=The%20heating%20load%20is%20the,temperature%20in%20an%20acceptable%20range\n",
    "\n",
    "Why Glass In WIndows Is A Poor Insulator: https://www.winsulator-technologies.com/blog/why-glass-windows-are-a-poor-insulator#:~:text=In%20the%20winter%2C%20this%20means,move%20freely%20through%20the%20material.\n",
    "\n",
    "Song & Kang: http://www.i-asem.org/publication_conf/acem14/1.WAS/T5A.2.MS506_334F.pdf\n",
    "  \n",
    "Djamel & Noureddine: https://www.sciencedirect.com/science/article/pii/S1876610217322154?ref=pdf_download&fr=RR-2&rr=7b6fd8e9ed8aec23"
   ]
  }
 ],
 "metadata": {
  "kernelspec": {
   "display_name": "R",
   "language": "R",
   "name": "ir"
  },
  "language_info": {
   "codemirror_mode": "r",
   "file_extension": ".r",
   "mimetype": "text/x-r-source",
   "name": "R",
   "pygments_lexer": "r",
   "version": "4.0.5"
  }
 },
 "nbformat": 4,
 "nbformat_minor": 5
}
