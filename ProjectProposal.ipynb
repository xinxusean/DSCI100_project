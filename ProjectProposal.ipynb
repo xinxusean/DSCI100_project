{
 "cells": [
  {
   "cell_type": "code",
   "execution_count": 8,
   "id": "c5f169ad-a01a-40c8-9b67-61da54615026",
   "metadata": {},
   "outputs": [],
   "source": [
    "#load packages:\n",
    "library(tidyverse)\n",
    "library(readxl)\n",
    "set.seed(1)"
   ]
  },
  {
   "cell_type": "markdown",
   "id": "3957f2d4-0569-47cf-92e0-9098ea0fb9c3",
   "metadata": {},
   "source": [
    "Title:"
   ]
  },
  {
   "cell_type": "markdown",
   "id": "9abe21a4-ddba-4788-96fd-6b3256ea0ec4",
   "metadata": {},
   "source": [
    "Introduction:\n",
    "\n",
    "The cost to __heat/cool__TODO_ a building amounts to a significant energy cost and also affects the climate.\n",
    "Various factors such as roof area, surface area, overall height of the building, glazing area (ie. size of windows) as well as their distribution can affect the __heating/cooling__TODO__ cost.\n",
    "We aim to study the effects of said factors on heating/cooling loads (which corrolate?TODO to cost)\n",
    "\n",
    "Question (that we will try to answer):?\n",
    "How do ______TODO______ affect the _heating/cooling_TODO_ of a building? Should this be more concrete?\n",
    "\n",
    "The dataset we are using is the \"Energy efficiency Data Set\" created by researchers at the University of Oxford (UK). The dataset can be found at https://archive.ics.uci.edu/ml/datasets/Energy+efficiency\n",
    "It contains eight attributes: Relative Compactness, Surface Area, Wall Area, Roof Area, Overall Height, Orientation, Glazing Area, and Glazing Area Distribution and two outcomes: Heating Load and Cooling Load, though strangely, all of the columns are labelled using X1, X2, etc. instead of an actual descriptive name. The dataset has 768 rows of data. TODO: What else should I put for \"describe the dataset\"???\n"
   ]
  },
  {
   "cell_type": "markdown",
   "id": "dd82031d-4ca8-4b1f-bf43-9ecc3f6c2675",
   "metadata": {},
   "source": [
    "Preliminary exploratory data analysis:"
   ]
  },
  {
   "cell_type": "code",
   "execution_count": 12,
   "id": "ea5e4c9d-7833-4f4b-9cf5-995668b45f4f",
   "metadata": {},
   "outputs": [
    {
     "ename": "ERROR",
     "evalue": "Error: `path` does not exist: ‘https://archive.ics.uci.edu/ml/machine-learning-databases/00242/ENB2012_data.xlsx’\n",
     "output_type": "error",
     "traceback": [
      "Error: `path` does not exist: ‘https://archive.ics.uci.edu/ml/machine-learning-databases/00242/ENB2012_data.xlsx’\nTraceback:\n",
      "1. read_excel(url)",
      "2. check_file(path)",
      "3. stop(\"`path` does not exist: \", sQuote(path), call. = FALSE)"
     ]
    }
   ],
   "source": [
    "url <- \"https://archive.ics.uci.edu/ml/machine-learning-databases/00242/ENB2012_data.xlsx\"\n",
    "energy_data <- read_excel(url)\n",
    "energy_data\n",
    "# rename columns\n",
    "#tidy data (I think it's already tidy)"
   ]
  },
  {
   "cell_type": "code",
   "execution_count": 13,
   "id": "ee1880fe-e7ea-40d8-8288-235221dd44fb",
   "metadata": {},
   "outputs": [
    {
     "ename": "ERROR",
     "evalue": "Error in parse(text = x, srcfile = src): <text>:1:66: unexpected input\n1: energy_split <- initial_split(energy_data, prop = 0.75, strata = _\n                                                                     ^\n",
     "output_type": "error",
     "traceback": [
      "Error in parse(text = x, srcfile = src): <text>:1:66: unexpected input\n1: energy_split <- initial_split(energy_data, prop = 0.75, strata = _\n                                                                     ^\nTraceback:\n"
     ]
    }
   ],
   "source": [
    "energy_split <- initial_split(energy_data, prop = 0.75, strata = ____cooling/heating___)\n",
    "energy_train <- training(energy_split)\n",
    "energy_test <- testing(energy_split)"
   ]
  },
  {
   "cell_type": "code",
   "execution_count": null,
   "id": "b9827341-9da7-46ca-85f6-5ffe456b93bc",
   "metadata": {},
   "outputs": [],
   "source": [
    "Methods: We will use "
   ]
  }
 ],
 "metadata": {
  "kernelspec": {
   "display_name": "R",
   "language": "R",
   "name": "ir"
  },
  "language_info": {
   "codemirror_mode": "r",
   "file_extension": ".r",
   "mimetype": "text/x-r-source",
   "name": "R",
   "pygments_lexer": "r",
   "version": "4.1.3"
  }
 },
 "nbformat": 4,
 "nbformat_minor": 5
}
