{
 "cells": [
  {
   "cell_type": "markdown",
   "id": "81f8a9ef-d067-48fc-8438-9627b5abfd89",
   "metadata": {},
   "source": [
    "# Predicting Energy Efficiency With Regression"
   ]
  },
  {
   "cell_type": "code",
   "execution_count": 1,
   "id": "c5f169ad-a01a-40c8-9b67-61da54615026",
   "metadata": {
    "tags": []
   },
   "outputs": [
    {
     "name": "stderr",
     "output_type": "stream",
     "text": [
      "── \u001b[1mAttaching packages\u001b[22m ─────────────────────────────────────── tidyverse 1.3.1 ──\n",
      "\n",
      "\u001b[32m✔\u001b[39m \u001b[34mggplot2\u001b[39m 3.3.6     \u001b[32m✔\u001b[39m \u001b[34mpurrr  \u001b[39m 0.3.4\n",
      "\u001b[32m✔\u001b[39m \u001b[34mtibble \u001b[39m 3.1.7     \u001b[32m✔\u001b[39m \u001b[34mdplyr  \u001b[39m 1.0.9\n",
      "\u001b[32m✔\u001b[39m \u001b[34mtidyr  \u001b[39m 1.2.0     \u001b[32m✔\u001b[39m \u001b[34mstringr\u001b[39m 1.4.0\n",
      "\u001b[32m✔\u001b[39m \u001b[34mreadr  \u001b[39m 2.1.2     \u001b[32m✔\u001b[39m \u001b[34mforcats\u001b[39m 0.5.1\n",
      "\n",
      "── \u001b[1mConflicts\u001b[22m ────────────────────────────────────────── tidyverse_conflicts() ──\n",
      "\u001b[31m✖\u001b[39m \u001b[34mdplyr\u001b[39m::\u001b[32mfilter()\u001b[39m masks \u001b[34mstats\u001b[39m::filter()\n",
      "\u001b[31m✖\u001b[39m \u001b[34mdplyr\u001b[39m::\u001b[32mlag()\u001b[39m    masks \u001b[34mstats\u001b[39m::lag()\n",
      "\n",
      "── \u001b[1mAttaching packages\u001b[22m ────────────────────────────────────── tidymodels 1.0.0 ──\n",
      "\n",
      "\u001b[32m✔\u001b[39m \u001b[34mbroom       \u001b[39m 1.0.0     \u001b[32m✔\u001b[39m \u001b[34mrsample     \u001b[39m 1.0.0\n",
      "\u001b[32m✔\u001b[39m \u001b[34mdials       \u001b[39m 1.0.0     \u001b[32m✔\u001b[39m \u001b[34mtune        \u001b[39m 1.0.0\n",
      "\u001b[32m✔\u001b[39m \u001b[34minfer       \u001b[39m 1.0.2     \u001b[32m✔\u001b[39m \u001b[34mworkflows   \u001b[39m 1.0.0\n",
      "\u001b[32m✔\u001b[39m \u001b[34mmodeldata   \u001b[39m 1.0.0     \u001b[32m✔\u001b[39m \u001b[34mworkflowsets\u001b[39m 1.0.0\n",
      "\u001b[32m✔\u001b[39m \u001b[34mparsnip     \u001b[39m 1.0.0     \u001b[32m✔\u001b[39m \u001b[34myardstick   \u001b[39m 1.0.0\n",
      "\u001b[32m✔\u001b[39m \u001b[34mrecipes     \u001b[39m 1.0.1     \n",
      "\n",
      "── \u001b[1mConflicts\u001b[22m ───────────────────────────────────────── tidymodels_conflicts() ──\n",
      "\u001b[31m✖\u001b[39m \u001b[34mscales\u001b[39m::\u001b[32mdiscard()\u001b[39m masks \u001b[34mpurrr\u001b[39m::discard()\n",
      "\u001b[31m✖\u001b[39m \u001b[34mdplyr\u001b[39m::\u001b[32mfilter()\u001b[39m   masks \u001b[34mstats\u001b[39m::filter()\n",
      "\u001b[31m✖\u001b[39m \u001b[34mrecipes\u001b[39m::\u001b[32mfixed()\u001b[39m  masks \u001b[34mstringr\u001b[39m::fixed()\n",
      "\u001b[31m✖\u001b[39m \u001b[34mdplyr\u001b[39m::\u001b[32mlag()\u001b[39m      masks \u001b[34mstats\u001b[39m::lag()\n",
      "\u001b[31m✖\u001b[39m \u001b[34myardstick\u001b[39m::\u001b[32mspec()\u001b[39m masks \u001b[34mreadr\u001b[39m::spec()\n",
      "\u001b[31m✖\u001b[39m \u001b[34mrecipes\u001b[39m::\u001b[32mstep()\u001b[39m   masks \u001b[34mstats\u001b[39m::step()\n",
      "\u001b[34m•\u001b[39m Dig deeper into tidy modeling with R at \u001b[32mhttps://www.tmwr.org\u001b[39m\n",
      "\n"
     ]
    }
   ],
   "source": [
    "# Please load packages before continuing:\n",
    "library(tidyverse)\n",
    "library(readxl)\n",
    "library(repr) # for visualization\n",
    "library(tidymodels)\n",
    "library(cowplot)\n",
    "options(repr.matrix.max.rows = 6)\n",
    "set.seed(1)"
   ]
  },
  {
   "cell_type": "markdown",
   "id": "9abe21a4-ddba-4788-96fd-6b3256ea0ec4",
   "metadata": {},
   "source": [
    "## Introduction\n",
    "\n",
    "**Background Information**\n",
    "\n",
    "The heating load of a building is \"the amount of heat energy\" needed \"to maintain the temperature in an acceptable range\" (Government of Australia).\n",
    "A higher heating load correlates to more heat energy required, which is detrimental to the environment, and has a higher monetary cost.\n",
    "We aim to study how various factors such as surface area, overall height, and glazing area (ie. size of windows) affects the heating load of buildings. We define more energy-efficient buildings as buildings that require lower heating loads.\n",
    "\n",
    "**Question**\n",
    "\n",
    "What is the heating load (energy-efficiency) for a building with a given surface area, overall height, and glazing area?\n",
    "\n",
    "**Dataset Description**\n",
    "\n",
    "We're using the \"Energy Efficiency Data Set\" created at the University of Oxford (Xifara, Tsanas).\n",
    "It contains eight attributes and two outcomes which are the column headers of the tibble below. Initially, all columns were labelled X1, X2, etc. instead of their corresponding descriptive names. The dataset has 768 rows and was generated through computer simulation. All observations (buildings) have the same volume, thus we can evaluate the effect of predictors independent of volume."
   ]
  },
  {
   "cell_type": "markdown",
   "id": "dd82031d-4ca8-4b1f-bf43-9ecc3f6c2675",
   "metadata": {},
   "source": [
    "## Preliminary Exploratory Data Analysis"
   ]
  },
  {
   "cell_type": "markdown",
   "id": "c861a473-0421-44df-9fb4-1b552db7f9b6",
   "metadata": {},
   "source": [
    "**Reading Data Set into R and Tidying (changing column names)**"
   ]
  },
  {
   "cell_type": "code",
   "execution_count": 2,
   "id": "ea5e4c9d-7833-4f4b-9cf5-995668b45f4f",
   "metadata": {},
   "outputs": [
    {
     "data": {
      "text/html": [
       "<table class=\"dataframe\">\n",
       "<caption>A tibble: 768 × 10</caption>\n",
       "<thead>\n",
       "\t<tr><th scope=col>Relative.Compactness</th><th scope=col>Surface.Area</th><th scope=col>Wall.Area</th><th scope=col>Roof.Area</th><th scope=col>Overall.Height</th><th scope=col>Orientation</th><th scope=col>Glazing.Area</th><th scope=col>Glazing.Area.Distribution</th><th scope=col>Heating.Load</th><th scope=col>Cooling.Load</th></tr>\n",
       "\t<tr><th scope=col>&lt;dbl&gt;</th><th scope=col>&lt;dbl&gt;</th><th scope=col>&lt;dbl&gt;</th><th scope=col>&lt;dbl&gt;</th><th scope=col>&lt;dbl&gt;</th><th scope=col>&lt;dbl&gt;</th><th scope=col>&lt;dbl&gt;</th><th scope=col>&lt;dbl&gt;</th><th scope=col>&lt;dbl&gt;</th><th scope=col>&lt;dbl&gt;</th></tr>\n",
       "</thead>\n",
       "<tbody>\n",
       "\t<tr><td>0.98</td><td>514.5</td><td>294</td><td>110.25</td><td>7</td><td>2</td><td>0</td><td>0</td><td>15.55</td><td>21.33</td></tr>\n",
       "\t<tr><td>0.98</td><td>514.5</td><td>294</td><td>110.25</td><td>7</td><td>3</td><td>0</td><td>0</td><td>15.55</td><td>21.33</td></tr>\n",
       "\t<tr><td>0.98</td><td>514.5</td><td>294</td><td>110.25</td><td>7</td><td>4</td><td>0</td><td>0</td><td>15.55</td><td>21.33</td></tr>\n",
       "\t<tr><td>⋮</td><td>⋮</td><td>⋮</td><td>⋮</td><td>⋮</td><td>⋮</td><td>⋮</td><td>⋮</td><td>⋮</td><td>⋮</td></tr>\n",
       "\t<tr><td>0.62</td><td>808.5</td><td>367.5</td><td>220.5</td><td>3.5</td><td>3</td><td>0.4</td><td>5</td><td>16.44</td><td>17.11</td></tr>\n",
       "\t<tr><td>0.62</td><td>808.5</td><td>367.5</td><td>220.5</td><td>3.5</td><td>4</td><td>0.4</td><td>5</td><td>16.48</td><td>16.61</td></tr>\n",
       "\t<tr><td>0.62</td><td>808.5</td><td>367.5</td><td>220.5</td><td>3.5</td><td>5</td><td>0.4</td><td>5</td><td>16.64</td><td>16.03</td></tr>\n",
       "</tbody>\n",
       "</table>\n"
      ],
      "text/latex": [
       "A tibble: 768 × 10\n",
       "\\begin{tabular}{llllllllll}\n",
       " Relative.Compactness & Surface.Area & Wall.Area & Roof.Area & Overall.Height & Orientation & Glazing.Area & Glazing.Area.Distribution & Heating.Load & Cooling.Load\\\\\n",
       " <dbl> & <dbl> & <dbl> & <dbl> & <dbl> & <dbl> & <dbl> & <dbl> & <dbl> & <dbl>\\\\\n",
       "\\hline\n",
       "\t 0.98 & 514.5 & 294 & 110.25 & 7 & 2 & 0 & 0 & 15.55 & 21.33\\\\\n",
       "\t 0.98 & 514.5 & 294 & 110.25 & 7 & 3 & 0 & 0 & 15.55 & 21.33\\\\\n",
       "\t 0.98 & 514.5 & 294 & 110.25 & 7 & 4 & 0 & 0 & 15.55 & 21.33\\\\\n",
       "\t ⋮ & ⋮ & ⋮ & ⋮ & ⋮ & ⋮ & ⋮ & ⋮ & ⋮ & ⋮\\\\\n",
       "\t 0.62 & 808.5 & 367.5 & 220.5 & 3.5 & 3 & 0.4 & 5 & 16.44 & 17.11\\\\\n",
       "\t 0.62 & 808.5 & 367.5 & 220.5 & 3.5 & 4 & 0.4 & 5 & 16.48 & 16.61\\\\\n",
       "\t 0.62 & 808.5 & 367.5 & 220.5 & 3.5 & 5 & 0.4 & 5 & 16.64 & 16.03\\\\\n",
       "\\end{tabular}\n"
      ],
      "text/markdown": [
       "\n",
       "A tibble: 768 × 10\n",
       "\n",
       "| Relative.Compactness &lt;dbl&gt; | Surface.Area &lt;dbl&gt; | Wall.Area &lt;dbl&gt; | Roof.Area &lt;dbl&gt; | Overall.Height &lt;dbl&gt; | Orientation &lt;dbl&gt; | Glazing.Area &lt;dbl&gt; | Glazing.Area.Distribution &lt;dbl&gt; | Heating.Load &lt;dbl&gt; | Cooling.Load &lt;dbl&gt; |\n",
       "|---|---|---|---|---|---|---|---|---|---|\n",
       "| 0.98 | 514.5 | 294 | 110.25 | 7 | 2 | 0 | 0 | 15.55 | 21.33 |\n",
       "| 0.98 | 514.5 | 294 | 110.25 | 7 | 3 | 0 | 0 | 15.55 | 21.33 |\n",
       "| 0.98 | 514.5 | 294 | 110.25 | 7 | 4 | 0 | 0 | 15.55 | 21.33 |\n",
       "| ⋮ | ⋮ | ⋮ | ⋮ | ⋮ | ⋮ | ⋮ | ⋮ | ⋮ | ⋮ |\n",
       "| 0.62 | 808.5 | 367.5 | 220.5 | 3.5 | 3 | 0.4 | 5 | 16.44 | 17.11 |\n",
       "| 0.62 | 808.5 | 367.5 | 220.5 | 3.5 | 4 | 0.4 | 5 | 16.48 | 16.61 |\n",
       "| 0.62 | 808.5 | 367.5 | 220.5 | 3.5 | 5 | 0.4 | 5 | 16.64 | 16.03 |\n",
       "\n"
      ],
      "text/plain": [
       "    Relative.Compactness Surface.Area Wall.Area Roof.Area Overall.Height\n",
       "1   0.98                 514.5        294       110.25    7             \n",
       "2   0.98                 514.5        294       110.25    7             \n",
       "3   0.98                 514.5        294       110.25    7             \n",
       "⋮   ⋮                    ⋮            ⋮         ⋮         ⋮             \n",
       "766 0.62                 808.5        367.5     220.5     3.5           \n",
       "767 0.62                 808.5        367.5     220.5     3.5           \n",
       "768 0.62                 808.5        367.5     220.5     3.5           \n",
       "    Orientation Glazing.Area Glazing.Area.Distribution Heating.Load\n",
       "1   2           0            0                         15.55       \n",
       "2   3           0            0                         15.55       \n",
       "3   4           0            0                         15.55       \n",
       "⋮   ⋮           ⋮            ⋮                         ⋮           \n",
       "766 3           0.4          5                         16.44       \n",
       "767 4           0.4          5                         16.48       \n",
       "768 5           0.4          5                         16.64       \n",
       "    Cooling.Load\n",
       "1   21.33       \n",
       "2   21.33       \n",
       "3   21.33       \n",
       "⋮   ⋮           \n",
       "766 17.11       \n",
       "767 16.61       \n",
       "768 16.03       "
      ]
     },
     "metadata": {},
     "output_type": "display_data"
    }
   ],
   "source": [
    "url <- \"https://archive.ics.uci.edu/ml/machine-learning-databases/00242/ENB2012_data.xlsx\"\n",
    "file_name <- \"energy-efficiency.xlsx\"\n",
    "download.file(url, file_name)\n",
    "energy_data <- read_excel(file_name, skip = 1, col_names = c(\"Relative.Compactness\", \"Surface.Area\", \"Wall.Area\", \"Roof.Area\", \"Overall.Height\", \"Orientation\", \"Glazing.Area\", \"Glazing.Area.Distribution\", \"Heating.Load\", \"Cooling.Load\"))\n",
    "energy_data"
   ]
  },
  {
   "cell_type": "markdown",
   "id": "7a47261e-1ba1-4f12-9f12-adff7af6b478",
   "metadata": {},
   "source": [
    "**Cleaning and Wrangling Data**"
   ]
  },
  {
   "cell_type": "code",
   "execution_count": 3,
   "id": "2bd7ca87-c388-4e2a-9d1f-bf812c430265",
   "metadata": {},
   "outputs": [
    {
     "data": {
      "text/html": [
       "<table class=\"dataframe\">\n",
       "<caption>A tibble: 768 × 4</caption>\n",
       "<thead>\n",
       "\t<tr><th scope=col>Surface.Area</th><th scope=col>Overall.Height</th><th scope=col>Glazing.Area</th><th scope=col>Heating.Load</th></tr>\n",
       "\t<tr><th scope=col>&lt;dbl&gt;</th><th scope=col>&lt;dbl&gt;</th><th scope=col>&lt;dbl&gt;</th><th scope=col>&lt;dbl&gt;</th></tr>\n",
       "</thead>\n",
       "<tbody>\n",
       "\t<tr><td>514.5</td><td>7</td><td>0</td><td>15.55</td></tr>\n",
       "\t<tr><td>514.5</td><td>7</td><td>0</td><td>15.55</td></tr>\n",
       "\t<tr><td>514.5</td><td>7</td><td>0</td><td>15.55</td></tr>\n",
       "\t<tr><td>⋮</td><td>⋮</td><td>⋮</td><td>⋮</td></tr>\n",
       "\t<tr><td>808.5</td><td>3.5</td><td>0.4</td><td>16.44</td></tr>\n",
       "\t<tr><td>808.5</td><td>3.5</td><td>0.4</td><td>16.48</td></tr>\n",
       "\t<tr><td>808.5</td><td>3.5</td><td>0.4</td><td>16.64</td></tr>\n",
       "</tbody>\n",
       "</table>\n"
      ],
      "text/latex": [
       "A tibble: 768 × 4\n",
       "\\begin{tabular}{llll}\n",
       " Surface.Area & Overall.Height & Glazing.Area & Heating.Load\\\\\n",
       " <dbl> & <dbl> & <dbl> & <dbl>\\\\\n",
       "\\hline\n",
       "\t 514.5 & 7 & 0 & 15.55\\\\\n",
       "\t 514.5 & 7 & 0 & 15.55\\\\\n",
       "\t 514.5 & 7 & 0 & 15.55\\\\\n",
       "\t ⋮ & ⋮ & ⋮ & ⋮\\\\\n",
       "\t 808.5 & 3.5 & 0.4 & 16.44\\\\\n",
       "\t 808.5 & 3.5 & 0.4 & 16.48\\\\\n",
       "\t 808.5 & 3.5 & 0.4 & 16.64\\\\\n",
       "\\end{tabular}\n"
      ],
      "text/markdown": [
       "\n",
       "A tibble: 768 × 4\n",
       "\n",
       "| Surface.Area &lt;dbl&gt; | Overall.Height &lt;dbl&gt; | Glazing.Area &lt;dbl&gt; | Heating.Load &lt;dbl&gt; |\n",
       "|---|---|---|---|\n",
       "| 514.5 | 7 | 0 | 15.55 |\n",
       "| 514.5 | 7 | 0 | 15.55 |\n",
       "| 514.5 | 7 | 0 | 15.55 |\n",
       "| ⋮ | ⋮ | ⋮ | ⋮ |\n",
       "| 808.5 | 3.5 | 0.4 | 16.44 |\n",
       "| 808.5 | 3.5 | 0.4 | 16.48 |\n",
       "| 808.5 | 3.5 | 0.4 | 16.64 |\n",
       "\n"
      ],
      "text/plain": [
       "    Surface.Area Overall.Height Glazing.Area Heating.Load\n",
       "1   514.5        7              0            15.55       \n",
       "2   514.5        7              0            15.55       \n",
       "3   514.5        7              0            15.55       \n",
       "⋮   ⋮            ⋮              ⋮            ⋮           \n",
       "766 808.5        3.5            0.4          16.44       \n",
       "767 808.5        3.5            0.4          16.48       \n",
       "768 808.5        3.5            0.4          16.64       "
      ]
     },
     "metadata": {},
     "output_type": "display_data"
    }
   ],
   "source": [
    "#Table with variables that we will be using in our analysis\n",
    "energy_data_reduced <- energy_data |>\n",
    "                    select(Surface.Area, Overall.Height, Glazing.Area, Heating.Load)\n",
    "energy_data_reduced"
   ]
  },
  {
   "cell_type": "code",
   "execution_count": 4,
   "id": "ee1880fe-e7ea-40d8-8288-235221dd44fb",
   "metadata": {},
   "outputs": [],
   "source": [
    "energy_split <- initial_split(energy_data, prop = 0.75, strata = Heating.Load)\n",
    "energy_train <- training(energy_split)\n",
    "energy_test <- testing(energy_split)"
   ]
  },
  {
   "cell_type": "markdown",
   "id": "06dd7bad-8642-4b14-a168-6f05bddf3bd5",
   "metadata": {},
   "source": [
    "**Data Summarization (only training data)**"
   ]
  },
  {
   "cell_type": "code",
   "execution_count": 5,
   "id": "ea2c7091-a29c-4dd9-a530-c21563198951",
   "metadata": {},
   "outputs": [
    {
     "data": {
      "text/html": [
       "<table class=\"dataframe\">\n",
       "<caption>A tibble: 1 × 4</caption>\n",
       "<thead>\n",
       "\t<tr><th scope=col>Surface.Area.Mean</th><th scope=col>Overall.Height.Mean</th><th scope=col>Glazing.Area.Mean</th><th scope=col>Heating.Load.Mean</th></tr>\n",
       "\t<tr><th scope=col>&lt;dbl&gt;</th><th scope=col>&lt;dbl&gt;</th><th scope=col>&lt;dbl&gt;</th><th scope=col>&lt;dbl&gt;</th></tr>\n",
       "</thead>\n",
       "<tbody>\n",
       "\t<tr><td>672.8568</td><td>5.231771</td><td>0.2396701</td><td>22.3072</td></tr>\n",
       "</tbody>\n",
       "</table>\n"
      ],
      "text/latex": [
       "A tibble: 1 × 4\n",
       "\\begin{tabular}{llll}\n",
       " Surface.Area.Mean & Overall.Height.Mean & Glazing.Area.Mean & Heating.Load.Mean\\\\\n",
       " <dbl> & <dbl> & <dbl> & <dbl>\\\\\n",
       "\\hline\n",
       "\t 672.8568 & 5.231771 & 0.2396701 & 22.3072\\\\\n",
       "\\end{tabular}\n"
      ],
      "text/markdown": [
       "\n",
       "A tibble: 1 × 4\n",
       "\n",
       "| Surface.Area.Mean &lt;dbl&gt; | Overall.Height.Mean &lt;dbl&gt; | Glazing.Area.Mean &lt;dbl&gt; | Heating.Load.Mean &lt;dbl&gt; |\n",
       "|---|---|---|---|\n",
       "| 672.8568 | 5.231771 | 0.2396701 | 22.3072 |\n",
       "\n"
      ],
      "text/plain": [
       "  Surface.Area.Mean Overall.Height.Mean Glazing.Area.Mean Heating.Load.Mean\n",
       "1 672.8568          5.231771            0.2396701         22.3072          "
      ]
     },
     "metadata": {},
     "output_type": "display_data"
    },
    {
     "data": {
      "text/html": [
       "<table class=\"dataframe\">\n",
       "<caption>A tibble: 1 × 4</caption>\n",
       "<thead>\n",
       "\t<tr><th scope=col>Surface.Area.Median</th><th scope=col>Overall.Height.Median</th><th scope=col>Glazing.Area.Median</th><th scope=col>Heating.Load.Median</th></tr>\n",
       "\t<tr><th scope=col>&lt;dbl&gt;</th><th scope=col>&lt;dbl&gt;</th><th scope=col>&lt;dbl&gt;</th><th scope=col>&lt;dbl&gt;</th></tr>\n",
       "</thead>\n",
       "<tbody>\n",
       "\t<tr><td>686</td><td>3.5</td><td>0.25</td><td>18.95</td></tr>\n",
       "</tbody>\n",
       "</table>\n"
      ],
      "text/latex": [
       "A tibble: 1 × 4\n",
       "\\begin{tabular}{llll}\n",
       " Surface.Area.Median & Overall.Height.Median & Glazing.Area.Median & Heating.Load.Median\\\\\n",
       " <dbl> & <dbl> & <dbl> & <dbl>\\\\\n",
       "\\hline\n",
       "\t 686 & 3.5 & 0.25 & 18.95\\\\\n",
       "\\end{tabular}\n"
      ],
      "text/markdown": [
       "\n",
       "A tibble: 1 × 4\n",
       "\n",
       "| Surface.Area.Median &lt;dbl&gt; | Overall.Height.Median &lt;dbl&gt; | Glazing.Area.Median &lt;dbl&gt; | Heating.Load.Median &lt;dbl&gt; |\n",
       "|---|---|---|---|\n",
       "| 686 | 3.5 | 0.25 | 18.95 |\n",
       "\n"
      ],
      "text/plain": [
       "  Surface.Area.Median Overall.Height.Median Glazing.Area.Median\n",
       "1 686                 3.5                   0.25               \n",
       "  Heating.Load.Median\n",
       "1 18.95              "
      ]
     },
     "metadata": {},
     "output_type": "display_data"
    },
    {
     "data": {
      "text/html": [
       "<table class=\"dataframe\">\n",
       "<caption>A tibble: 1 × 4</caption>\n",
       "<thead>\n",
       "\t<tr><th scope=col>Surface.Area.Mode</th><th scope=col>Overall.Height.Mode</th><th scope=col>Glazing.Area.Mode</th><th scope=col>Heating.Load.Mode</th></tr>\n",
       "\t<tr><th scope=col>&lt;chr&gt;</th><th scope=col>&lt;chr&gt;</th><th scope=col>&lt;chr&gt;</th><th scope=col>&lt;chr&gt;</th></tr>\n",
       "</thead>\n",
       "<tbody>\n",
       "\t<tr><td>759.5</td><td>3.5</td><td>0.4</td><td>10.68</td></tr>\n",
       "</tbody>\n",
       "</table>\n"
      ],
      "text/latex": [
       "A tibble: 1 × 4\n",
       "\\begin{tabular}{llll}\n",
       " Surface.Area.Mode & Overall.Height.Mode & Glazing.Area.Mode & Heating.Load.Mode\\\\\n",
       " <chr> & <chr> & <chr> & <chr>\\\\\n",
       "\\hline\n",
       "\t 759.5 & 3.5 & 0.4 & 10.68\\\\\n",
       "\\end{tabular}\n"
      ],
      "text/markdown": [
       "\n",
       "A tibble: 1 × 4\n",
       "\n",
       "| Surface.Area.Mode &lt;chr&gt; | Overall.Height.Mode &lt;chr&gt; | Glazing.Area.Mode &lt;chr&gt; | Heating.Load.Mode &lt;chr&gt; |\n",
       "|---|---|---|---|\n",
       "| 759.5 | 3.5 | 0.4 | 10.68 |\n",
       "\n"
      ],
      "text/plain": [
       "  Surface.Area.Mode Overall.Height.Mode Glazing.Area.Mode Heating.Load.Mode\n",
       "1 759.5             3.5                 0.4               10.68            "
      ]
     },
     "metadata": {},
     "output_type": "display_data"
    },
    {
     "data": {
      "text/html": [
       "<table class=\"dataframe\">\n",
       "<caption>A tibble: 1 × 4</caption>\n",
       "<thead>\n",
       "\t<tr><th scope=col>Surface.Area.Max</th><th scope=col>Overall.Height.Max</th><th scope=col>Glazing.Area.Max</th><th scope=col>Heating.Load.Max</th></tr>\n",
       "\t<tr><th scope=col>&lt;dbl&gt;</th><th scope=col>&lt;dbl&gt;</th><th scope=col>&lt;dbl&gt;</th><th scope=col>&lt;dbl&gt;</th></tr>\n",
       "</thead>\n",
       "<tbody>\n",
       "\t<tr><td>808.5</td><td>7</td><td>0.4</td><td>43.1</td></tr>\n",
       "</tbody>\n",
       "</table>\n"
      ],
      "text/latex": [
       "A tibble: 1 × 4\n",
       "\\begin{tabular}{llll}\n",
       " Surface.Area.Max & Overall.Height.Max & Glazing.Area.Max & Heating.Load.Max\\\\\n",
       " <dbl> & <dbl> & <dbl> & <dbl>\\\\\n",
       "\\hline\n",
       "\t 808.5 & 7 & 0.4 & 43.1\\\\\n",
       "\\end{tabular}\n"
      ],
      "text/markdown": [
       "\n",
       "A tibble: 1 × 4\n",
       "\n",
       "| Surface.Area.Max &lt;dbl&gt; | Overall.Height.Max &lt;dbl&gt; | Glazing.Area.Max &lt;dbl&gt; | Heating.Load.Max &lt;dbl&gt; |\n",
       "|---|---|---|---|\n",
       "| 808.5 | 7 | 0.4 | 43.1 |\n",
       "\n"
      ],
      "text/plain": [
       "  Surface.Area.Max Overall.Height.Max Glazing.Area.Max Heating.Load.Max\n",
       "1 808.5            7                  0.4              43.1            "
      ]
     },
     "metadata": {},
     "output_type": "display_data"
    },
    {
     "data": {
      "text/html": [
       "<table class=\"dataframe\">\n",
       "<caption>A tibble: 1 × 4</caption>\n",
       "<thead>\n",
       "\t<tr><th scope=col>Surface.Area.Min</th><th scope=col>Overall.Height.Min</th><th scope=col>Glazing.Area.Min</th><th scope=col>Heating.Load.Min</th></tr>\n",
       "\t<tr><th scope=col>&lt;dbl&gt;</th><th scope=col>&lt;dbl&gt;</th><th scope=col>&lt;dbl&gt;</th><th scope=col>&lt;dbl&gt;</th></tr>\n",
       "</thead>\n",
       "<tbody>\n",
       "\t<tr><td>514.5</td><td>3.5</td><td>0</td><td>6.05</td></tr>\n",
       "</tbody>\n",
       "</table>\n"
      ],
      "text/latex": [
       "A tibble: 1 × 4\n",
       "\\begin{tabular}{llll}\n",
       " Surface.Area.Min & Overall.Height.Min & Glazing.Area.Min & Heating.Load.Min\\\\\n",
       " <dbl> & <dbl> & <dbl> & <dbl>\\\\\n",
       "\\hline\n",
       "\t 514.5 & 3.5 & 0 & 6.05\\\\\n",
       "\\end{tabular}\n"
      ],
      "text/markdown": [
       "\n",
       "A tibble: 1 × 4\n",
       "\n",
       "| Surface.Area.Min &lt;dbl&gt; | Overall.Height.Min &lt;dbl&gt; | Glazing.Area.Min &lt;dbl&gt; | Heating.Load.Min &lt;dbl&gt; |\n",
       "|---|---|---|---|\n",
       "| 514.5 | 3.5 | 0 | 6.05 |\n",
       "\n"
      ],
      "text/plain": [
       "  Surface.Area.Min Overall.Height.Min Glazing.Area.Min Heating.Load.Min\n",
       "1 514.5            3.5                0                6.05            "
      ]
     },
     "metadata": {},
     "output_type": "display_data"
    },
    {
     "data": {
      "text/html": [
       "<table class=\"dataframe\">\n",
       "<caption>A tibble: 1 × 1</caption>\n",
       "<thead>\n",
       "\t<tr><th scope=col>Number.Of.Rows.Missing.Data</th></tr>\n",
       "\t<tr><th scope=col>&lt;int&gt;</th></tr>\n",
       "</thead>\n",
       "<tbody>\n",
       "\t<tr><td>0</td></tr>\n",
       "</tbody>\n",
       "</table>\n"
      ],
      "text/latex": [
       "A tibble: 1 × 1\n",
       "\\begin{tabular}{l}\n",
       " Number.Of.Rows.Missing.Data\\\\\n",
       " <int>\\\\\n",
       "\\hline\n",
       "\t 0\\\\\n",
       "\\end{tabular}\n"
      ],
      "text/markdown": [
       "\n",
       "A tibble: 1 × 1\n",
       "\n",
       "| Number.Of.Rows.Missing.Data &lt;int&gt; |\n",
       "|---|\n",
       "| 0 |\n",
       "\n"
      ],
      "text/plain": [
       "  Number.Of.Rows.Missing.Data\n",
       "1 0                          "
      ]
     },
     "metadata": {},
     "output_type": "display_data"
    }
   ],
   "source": [
    "# Mean Table\n",
    "energy_data_mean <- summarize(energy_train,\n",
    "    Surface.Area.Mean = mean(Surface.Area),                   \n",
    "    Overall.Height.Mean = mean(Overall.Height),                        \n",
    "    Glazing.Area.Mean = mean(Glazing.Area),                            \n",
    "    Heating.Load.Mean = mean(Heating.Load))\n",
    "\n",
    "# Median Table\n",
    "energy_data_median <- summarize(energy_train,\n",
    "    Surface.Area.Median = median(Surface.Area),                   \n",
    "    Overall.Height.Median = median(Overall.Height),                        \n",
    "    Glazing.Area.Median = median(Glazing.Area),  \n",
    "    Heating.Load.Median = median(Heating.Load))\n",
    "\n",
    "# finding mode\n",
    "heating_mode <- names(sort(-table(energy_train$Heating.Load)))[1]\n",
    "surface_mode <- names(sort(-table(energy_train$Surface.Area)))[1]\n",
    "height_mode <- names(sort(-table(energy_train$Overall.Height)))[1]\n",
    "glazing_mode <- names(sort(-table(energy_train$Glazing.Area)))[1]\n",
    "\n",
    "# Mode Table\n",
    "energy_data_mode <- summarize(energy_train,\n",
    "                        Surface.Area.Mode = surface_mode,\n",
    "                        Overall.Height.Mode = height_mode,\n",
    "                        Glazing.Area.Mode = glazing_mode,\n",
    "                        Heating.Load.Mode = heating_mode)\n",
    "\n",
    "# Max Table\n",
    "energy_data_max <- summarize(energy_train,\n",
    "    Surface.Area.Max = max(Surface.Area),                   \n",
    "    Overall.Height.Max = max(Overall.Height),                        \n",
    "    Glazing.Area.Max = max(Glazing.Area),  \n",
    "    Heating.Load.Max = max(Heating.Load))\n",
    "\n",
    "# Min Table\n",
    "energy_data_min <- summarize(energy_train,\n",
    "    Surface.Area.Min = min(Surface.Area),                   \n",
    "    Overall.Height.Min = min(Overall.Height),                        \n",
    "    Glazing.Area.Min = min(Glazing.Area),  \n",
    "    Heating.Load.Min = min(Heating.Load))\n",
    "\n",
    "# Number of Rows Missing Data\n",
    "num_rows_missing_data <- energy_train |>\n",
    "                        filter(Surface.Area == NA | Overall.Height == NA | Glazing.Area == NA | Heating.Load == NA) |>\n",
    "                        nrow() |>\n",
    "                        as_tibble()\n",
    "colnames(num_rows_missing_data) <- c(\"Number.Of.Rows.Missing.Data\")\n",
    "\n",
    "energy_data_mean\n",
    "energy_data_median\n",
    "energy_data_mode\n",
    "energy_data_max\n",
    "energy_data_min\n",
    "num_rows_missing_data"
   ]
  },
  {
   "cell_type": "markdown",
   "id": "2389be83-e2a1-4953-9536-6daceb21ee99",
   "metadata": {},
   "source": [
    "**Data Visualization (only training data)**"
   ]
  },
  {
   "cell_type": "code",
   "execution_count": 6,
   "id": "3b63827e-67e2-4b6e-b49b-e26be91d0dba",
   "metadata": {},
   "outputs": [
    {
     "data": {
      "image/png": "[encoded data removed]",
      "text/plain": [
       "plot without title"
      ]
     },
     "metadata": {
      "image/png": {
       "height": 360,
       "width": 1080
      }
     },
     "output_type": "display_data"
    }
   ],
   "source": [
    "options(repr.plot.width=18, repr.plot.height=6)\n",
    "plot_surface <- ggplot(energy_train, aes(x = Surface.Area, y = Heating.Load)) +\n",
    "    geom_point(alpha = 0.4) +\n",
    "    labs(x = \"Surface Area (square meter)\", y = \"Heating Load (kW)\") +\n",
    "    theme(text = element_text(size = 12)) +\n",
    "    ggtitle(\"Heating Load vs Surface Area\")\n",
    "plot_height <- ggplot(energy_train, aes(x = Overall.Height, y = Heating.Load)) +\n",
    "    geom_point(alpha = 0.4) +\n",
    "    labs(x = \"Overall Height (meter)\", y = \"Heating Load (kW)\") +\n",
    "    theme(text = element_text(size = 12)) +\n",
    "    ggtitle(\"Heating Load vs Overall Height\")\n",
    "plot_glazing <- ggplot(energy_train, aes(x = Glazing.Area, y = Heating.Load)) +\n",
    "    geom_point(alpha = 0.4) +\n",
    "    labs(x = \"Glazing Area (square meter)\", y = \"Heating Load (kW)\") +\n",
    "    theme(text = element_text(size = 12)) +\n",
    "    ggtitle(\"Heating Load vs Glazing Area\")\n",
    "plot_grid(plot_surface, plot_height, plot_glazing, nrow = 1)"
   ]
  },
  {
   "cell_type": "markdown",
   "id": "9a24d5e8-d0d2-490d-a0e9-28e262306bd8",
   "metadata": {},
   "source": [
    "**Interpretation of Visualizations**\n",
    "\n",
    "Our first plot doesn’t show a continuous linear pattern. The relationship changes from negative to positive around the middle, where the Heating Load drops and starts to increase more gradually. This change may indicate a more energy-efficient Surface Area around its median, whereas considering the jumps at ~635 m^2, and ~785 m^2 (where afterwards the relationship changes direction), it could also mean that other predictor variables are having an effect on Heating Load.\n",
    "\n",
    "For our other two plots, both Overall Height and Glazing Area have a positive linear relationship with Heating Load. Differently from Overall Height, when Glazing Area is 0 m^2, the Heating Load is distributed across a wider range, thus at 0 m^2 other predictor variables may have a greater effect on Heating Load. In most of our visualizations, the Heating Load values are widely distributed for a single predictor variable value, which could mean that other variables are having an effect."
   ]
  },
  {
   "cell_type": "markdown",
   "id": "f3f85dca-bb2c-4fc5-b5ba-2e37aa6587a5",
   "metadata": {},
   "source": [
    "## Methods\n",
    "\n",
    "We'll tidy the data, find summary statistics and number of rows missing data.\n",
    "\n",
    "We'll use the variables Surface Area, Overall Height, and Glazing Area as they affect the heating load most significantly.\n",
    "\n",
    "We won't use Relative Compactness because the dataset didn't explain what it means; the Roof Area and Wall Area because they're encompassed within Surface Area; Orientation because it’s a categorical variable, which can have too much of an impact on regression analysis and the categories (\"2\", \"3\", \"4\", \"5\") are not defined; and Glazing Area Distribution since it's similar to Glazing Area.\n",
    "\n",
    "We'll visualize our training data using only our chosen variables to interpret their relationships with Heating Load.\n",
    "\n",
    "We'll center and scale the data and then use both K-nearest neighbours and linear regression to see which is more accurate for our data. We'll use cross validation to find the best value of k and set the seed to ensure reproducibility. Then, visualize the results with one scatter plot for each variable (predictor on x-axis, heating load on y-axis).\n",
    "\n",
    "We choose \"heating load\" because in Vancouver, we need to keep buildings warm due to cold winters."
   ]
  },
  {
   "cell_type": "markdown",
   "id": "aa58a3f8-994b-49e2-b582-07a7650b3176",
   "metadata": {},
   "source": [
    "## Expected Outcomes and Significance\n",
    "\n",
    "**What do we expect to find?**\n",
    "\n",
    "From our initial visualizations, we expect Heating Load to be proportional to Overall Height and Glazing Area, whereas the relationship between Heating Load and Surface Area is unclear for now.\n",
    "\n",
    "**What impact could such findings have?**\n",
    "\n",
    "Our findings could help architects determine the heating load of future buildings to make energy-efficient design decisions, saving cost and mitigating climate change.\n",
    "\n",
    "**What future questions could this lead to?**\n",
    "\n",
    "Does the cooling load of the building also have a similar relationship with our predictor variables?\n",
    "Do external factors/variables that are not considered (eg. climate, humidity) also affect the heating load of a building?"
   ]
  },
  {
   "cell_type": "code",
   "execution_count": 10,
   "id": "57a8e245-3738-4c43-b694-4da4445d2614",
   "metadata": {},
   "outputs": [
    {
     "data": {
      "text/html": [
       "<table class=\"dataframe\">\n",
       "<caption>A tibble: 1 × 3</caption>\n",
       "<thead>\n",
       "\t<tr><th scope=col>.metric</th><th scope=col>.estimator</th><th scope=col>.estimate</th></tr>\n",
       "\t<tr><th scope=col>&lt;chr&gt;</th><th scope=col>&lt;chr&gt;</th><th scope=col>&lt;dbl&gt;</th></tr>\n",
       "</thead>\n",
       "<tbody>\n",
       "\t<tr><td>rmse</td><td>standard</td><td>0.688958</td></tr>\n",
       "</tbody>\n",
       "</table>\n"
      ],
      "text/latex": [
       "A tibble: 1 × 3\n",
       "\\begin{tabular}{lll}\n",
       " .metric & .estimator & .estimate\\\\\n",
       " <chr> & <chr> & <dbl>\\\\\n",
       "\\hline\n",
       "\t rmse & standard & 0.688958\\\\\n",
       "\\end{tabular}\n"
      ],
      "text/markdown": [
       "\n",
       "A tibble: 1 × 3\n",
       "\n",
       "| .metric &lt;chr&gt; | .estimator &lt;chr&gt; | .estimate &lt;dbl&gt; |\n",
       "|---|---|---|\n",
       "| rmse | standard | 0.688958 |\n",
       "\n"
      ],
      "text/plain": [
       "  .metric .estimator .estimate\n",
       "1 rmse    standard   0.688958 "
      ]
     },
     "metadata": {},
     "output_type": "display_data"
    }
   ],
   "source": [
    "#K-NN REGRESSION\n",
    "\n",
    "\n",
    "data_spec <- nearest_neighbor(weight_func = \"rectangular\", neighbors = tune()) |>  #TUNING\n",
    "       set_engine(\"kknn\") |>\n",
    "       set_mode(\"regression\") \n",
    "\n",
    "data_recipe <- recipe(Heating.Load ~ Surface.Area + Overall.Height + Glazing.Area, data = energy_train) |>  #SCALING AND CENTERING\n",
    "       step_scale(all_predictors()) |>\n",
    "       step_center(all_predictors())\n",
    "\n",
    "data_vfold <- vfold_cv(energy_train, v = 5, strata = Heating.Load)\n",
    "\n",
    "data_workflow <- workflow() |>\n",
    "    add_recipe(data_recipe) |>\n",
    "    add_model(data_spec)\n",
    "\n",
    "gridvals <- tibble(neighbors = seq(from = 1, to = 100, by = 10)) #TESTING K VALUES\n",
    "\n",
    "data_results <- data_workflow |>\n",
    "  tune_grid(resamples = data_vfold, grid = gridvals) |>\n",
    "  collect_metrics()   \n",
    "\n",
    "data_min <- data_results |>\n",
    "    filter(.metric == \"rmse\") |>\n",
    "    arrange(mean) |> \n",
    "    head(n=1)\n",
    "\n",
    "k_min <- data_min |>\n",
    "          pull(neighbors)\n",
    "\n",
    "data_best_spec <- nearest_neighbor(weight_func = \"rectangular\", neighbors = k_min) |>  #NOW WITH BEST K (MINIMUM RMSPE)\n",
    "          set_engine(\"kknn\") |>\n",
    "          set_mode(\"regression\")\n",
    "\n",
    "data_fit <- workflow() |>\n",
    "          add_recipe(data_recipe) |>\n",
    "          add_model(data_best_spec) |>\n",
    "          fit(data = energy_train)\n",
    "\n",
    "data_summary <- data_fit |>\n",
    "           predict(energy_test) |>\n",
    "           bind_cols(energy_test) |>\n",
    "           metrics(truth = Heating.Load, estimate = .pred) |>\n",
    "           filter(.metric == \"rmse\")\n",
    "\n",
    "           #select(.estimate) |>\n",
    "           #pull()\n",
    "\n",
    "data_summary"
   ]
  },
  {
   "cell_type": "markdown",
   "id": "875af15d-c227-4415-89d9-3b241ce947c1",
   "metadata": {},
   "source": [
    "## Citations\n",
    "\n",
    "Government of Australia: https://basix.nsw.gov.au/iframe/thermal-help/heating-and-cooling-loads.html#:~:text=The%20heating%20load%20is%20the,temperature%20in%20an%20acceptable%20range\n",
    "\n",
    "Dataset (Xifara, Tsanas): https://archive.ics.uci.edu/ml/datasets/Energy+efficiency\n",
    "\n",
    "https://basix.nsw.gov.au/iframe/thermal-help/heating-and-cooling-loads.html#:~:text=The%20heating%20load%20is%20the,temperature%20in%20an%20acceptable%20range.\n",
    "https://www.plumbersstock.com/how-to-hvac/calculate-heat-load.html"
   ]
  },
  {
   "cell_type": "code",
   "execution_count": 8,
   "id": "6a60641c-2066-4174-9e99-eae88ab2fb14",
   "metadata": {},
   "outputs": [
    {
     "data": {
      "text/html": [
       "'Reached the end of the file.'"
      ],
      "text/latex": [
       "'Reached the end of the file.'"
      ],
      "text/markdown": [
       "'Reached the end of the file.'"
      ],
      "text/plain": [
       "[1] \"Reached the end of the file.\""
      ]
     },
     "metadata": {},
     "output_type": "display_data"
    }
   ],
   "source": [
    "#print out reached end\n",
    "reached_end <- \"Reached the end of the file.\"\n",
    "reached_end"
   ]
  }
 ],
 "metadata": {
  "kernelspec": {
   "display_name": "R",
   "language": "R",
   "name": "ir"
  },
  "language_info": {
   "codemirror_mode": "r",
   "file_extension": ".r",
   "mimetype": "text/x-r-source",
   "name": "R",
   "pygments_lexer": "r",
   "version": "4.1.3"
  }
 },
 "nbformat": 4,
 "nbformat_minor": 5
}
