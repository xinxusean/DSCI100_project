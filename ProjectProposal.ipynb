{
 "cells": [
  {
   "cell_type": "code",
   "execution_count": 1,
   "id": "c5f169ad-a01a-40c8-9b67-61da54615026",
   "metadata": {},
   "outputs": [
    {
     "name": "stderr",
     "output_type": "stream",
     "text": [
      "── \u001b[1mAttaching packages\u001b[22m ─────────────────────────────────────── tidyverse 1.3.1 ──\n",
      "\n",
      "\u001b[32m✔\u001b[39m \u001b[34mggplot2\u001b[39m 3.3.6     \u001b[32m✔\u001b[39m \u001b[34mpurrr  \u001b[39m 0.3.4\n",
      "\u001b[32m✔\u001b[39m \u001b[34mtibble \u001b[39m 3.1.7     \u001b[32m✔\u001b[39m \u001b[34mdplyr  \u001b[39m 1.0.9\n",
      "\u001b[32m✔\u001b[39m \u001b[34mtidyr  \u001b[39m 1.2.0     \u001b[32m✔\u001b[39m \u001b[34mstringr\u001b[39m 1.4.0\n",
      "\u001b[32m✔\u001b[39m \u001b[34mreadr  \u001b[39m 2.1.2     \u001b[32m✔\u001b[39m \u001b[34mforcats\u001b[39m 0.5.1\n",
      "\n",
      "── \u001b[1mConflicts\u001b[22m ────────────────────────────────────────── tidyverse_conflicts() ──\n",
      "\u001b[31m✖\u001b[39m \u001b[34mdplyr\u001b[39m::\u001b[32mfilter()\u001b[39m masks \u001b[34mstats\u001b[39m::filter()\n",
      "\u001b[31m✖\u001b[39m \u001b[34mdplyr\u001b[39m::\u001b[32mlag()\u001b[39m    masks \u001b[34mstats\u001b[39m::lag()\n",
      "\n"
     ]
    }
   ],
   "source": [
    "#load packages:\n",
    "library(tidyverse)\n",
    "library(readxl)\n",
    "set.seed(1)"
   ]
  },
  {
   "cell_type": "markdown",
   "id": "3957f2d4-0569-47cf-92e0-9098ea0fb9c3",
   "metadata": {},
   "source": [
    "Title:"
   ]
  },
  {
   "cell_type": "markdown",
   "id": "9abe21a4-ddba-4788-96fd-6b3256ea0ec4",
   "metadata": {},
   "source": [
    "Introduction:\n",
    "\n",
    "The cost to __heat/cool__TODO_ a building amounts to a significant energy cost and also affects the climate.\n",
    "Various factors such as roof area, surface area, overall height of the building, glazing area (ie. size of windows) as well as their distribution can affect the __heating/cooling__TODO__ cost.\n",
    "We aim to study the effects of said factors on heating/cooling loads (which corrolate?TODO to cost)\n",
    "\n",
    "Question (that we will try to answer):?\n",
    "How do ______TODO______ affect the _heating/cooling_TODO_ of a building? Should this be more concrete?\n",
    "\n",
    "The dataset we are using is the \"Energy efficiency Data Set\" created by researchers at the University of Oxford (UK). The dataset can be found at https://archive.ics.uci.edu/ml/datasets/Energy+efficiency\n",
    "It contains eight attributes: Relative Compactness, Surface Area, Wall Area, Roof Area, Overall Height, Orientation, Glazing Area, and Glazing Area Distribution and two outcomes: Heating Load and Cooling Load, though strangely, all of the columns are labelled using X1, X2, etc. instead of an actual descriptive name. The dataset has 768 rows of data. TODO: What else should I put for \"describe the dataset\"???\n"
   ]
  },
  {
   "cell_type": "markdown",
   "id": "dd82031d-4ca8-4b1f-bf43-9ecc3f6c2675",
   "metadata": {},
   "source": [
    "Preliminary exploratory data analysis:"
   ]
  },
  {
   "cell_type": "code",
   "execution_count": 2,
   "id": "ea5e4c9d-7833-4f4b-9cf5-995668b45f4f",
   "metadata": {},
   "outputs": [],
   "source": [
    "url <- \"https://archive.ics.uci.edu/ml/machine-learning-databases/00242/ENB2012_data.xlsx\"\n",
    "# energy_data <- read_excel(url)\n",
    "# energy_data\n",
    "# rename columns\n",
    "#tidy data (I think it's already tidy)"
   ]
  },
  {
   "cell_type": "code",
   "execution_count": 3,
   "id": "ee1880fe-e7ea-40d8-8288-235221dd44fb",
   "metadata": {},
   "outputs": [],
   "source": [
    "# energy_split <- initial_split(energy_data, prop = 0.75, strata = ____cooling/heating___)\n",
    "# energy_train <- training(energy_split)\n",
    "# energy_test <- testing(energy_split)"
   ]
  },
  {
   "cell_type": "markdown",
   "id": "07af7da2-aab0-4623-8626-63c969a0605b",
   "metadata": {},
   "source": [
    "Methods:\n",
    "We will use K-nearest neighbours/linear (pick one!) regression with these variables:\n",
    "We decided to use these variables because:\n",
    "We decided to make the output ___ because in Vancouver, you tend to need to keep buildings warm (rather than cool) due to our (somewhat) cold winters."
   ]
  },
  {
   "cell_type": "code",
   "execution_count": null,
   "id": "e4d94352-d02f-4f8b-99df-cb19f243e94d",
   "metadata": {},
   "outputs": [],
   "source": []
  },
  {
   "cell_type": "markdown",
   "id": "aa58a3f8-994b-49e2-b582-07a7650b3176",
   "metadata": {},
   "source": [
    "Expected outcomes and significance.\n",
    "What do we expect to find?\n",
    "\n",
    "What impact could such findings have?\n",
    "Our findings could help future architects and city planners determine the optimal building configuration to minimize heating/cooling costs and thus reduce energy usage, helping Earth's climate.\n",
    "\n",
    "What future questions could this lead to?\n",
    "Would the same configuation also help keep buildings ___warm/cool_(opposite of what we studied)__?\n",
    "Are any of these factors affected by the geographic location of the building? (ie. would the same configuration be best for all buildings regardless of their geographic location?)"
   ]
  },
  {
   "cell_type": "code",
   "execution_count": 4,
   "id": "6a60641c-2066-4174-9e99-eae88ab2fb14",
   "metadata": {},
   "outputs": [
    {
     "data": {
      "text/html": [
       "'Reached the end of the file'"
      ],
      "text/latex": [
       "'Reached the end of the file'"
      ],
      "text/markdown": [
       "'Reached the end of the file'"
      ],
      "text/plain": [
       "[1] \"Reached the end of the file\""
      ]
     },
     "metadata": {},
     "output_type": "display_data"
    }
   ],
   "source": [
    "#print out reached end\n",
    "reached_end <- \"Reached the end of the file.\"\n",
    "reached_end"
   ]
  },
  {
   "cell_type": "code",
   "execution_count": null,
   "id": "2014e0cc-deff-4b5c-8d4f-d26317b13870",
   "metadata": {},
   "outputs": [],
   "source": []
  }
 ],
 "metadata": {
  "kernelspec": {
   "display_name": "R",
   "language": "R",
   "name": "ir"
  },
  "language_info": {
   "codemirror_mode": "r",
   "file_extension": ".r",
   "mimetype": "text/x-r-source",
   "name": "R",
   "pygments_lexer": "r",
   "version": "4.1.3"
  }
 },
 "nbformat": 4,
 "nbformat_minor": 5
}
