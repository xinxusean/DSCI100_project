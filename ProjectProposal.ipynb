{
 "cells": [
  {
   "cell_type": "code",
   "execution_count": 2,
   "id": "c5f169ad-a01a-40c8-9b67-61da54615026",
   "metadata": {},
   "outputs": [
    {
     "name": "stderr",
     "output_type": "stream",
     "text": [
      "── \u001b[1mAttaching packages\u001b[22m ─────────────────────────────────────── tidyverse 1.3.1 ──\n",
      "\n",
      "\u001b[32m✔\u001b[39m \u001b[34mggplot2\u001b[39m 3.3.6     \u001b[32m✔\u001b[39m \u001b[34mpurrr  \u001b[39m 0.3.4\n",
      "\u001b[32m✔\u001b[39m \u001b[34mtibble \u001b[39m 3.1.7     \u001b[32m✔\u001b[39m \u001b[34mdplyr  \u001b[39m 1.0.9\n",
      "\u001b[32m✔\u001b[39m \u001b[34mtidyr  \u001b[39m 1.2.0     \u001b[32m✔\u001b[39m \u001b[34mstringr\u001b[39m 1.4.0\n",
      "\u001b[32m✔\u001b[39m \u001b[34mreadr  \u001b[39m 2.1.2     \u001b[32m✔\u001b[39m \u001b[34mforcats\u001b[39m 0.5.1\n",
      "\n",
      "── \u001b[1mConflicts\u001b[22m ────────────────────────────────────────── tidyverse_conflicts() ──\n",
      "\u001b[31m✖\u001b[39m \u001b[34mdplyr\u001b[39m::\u001b[32mfilter()\u001b[39m masks \u001b[34mstats\u001b[39m::filter()\n",
      "\u001b[31m✖\u001b[39m \u001b[34mdplyr\u001b[39m::\u001b[32mlag()\u001b[39m    masks \u001b[34mstats\u001b[39m::lag()\n",
      "\n",
      "── \u001b[1mAttaching packages\u001b[22m ────────────────────────────────────── tidymodels 1.0.0 ──\n",
      "\n",
      "\u001b[32m✔\u001b[39m \u001b[34mbroom       \u001b[39m 1.0.0     \u001b[32m✔\u001b[39m \u001b[34mrsample     \u001b[39m 1.0.0\n",
      "\u001b[32m✔\u001b[39m \u001b[34mdials       \u001b[39m 1.0.0     \u001b[32m✔\u001b[39m \u001b[34mtune        \u001b[39m 1.0.0\n",
      "\u001b[32m✔\u001b[39m \u001b[34minfer       \u001b[39m 1.0.2     \u001b[32m✔\u001b[39m \u001b[34mworkflows   \u001b[39m 1.0.0\n",
      "\u001b[32m✔\u001b[39m \u001b[34mmodeldata   \u001b[39m 1.0.0     \u001b[32m✔\u001b[39m \u001b[34mworkflowsets\u001b[39m 1.0.0\n",
      "\u001b[32m✔\u001b[39m \u001b[34mparsnip     \u001b[39m 1.0.0     \u001b[32m✔\u001b[39m \u001b[34myardstick   \u001b[39m 1.0.0\n",
      "\u001b[32m✔\u001b[39m \u001b[34mrecipes     \u001b[39m 1.0.1     \n",
      "\n",
      "── \u001b[1mConflicts\u001b[22m ───────────────────────────────────────── tidymodels_conflicts() ──\n",
      "\u001b[31m✖\u001b[39m \u001b[34mscales\u001b[39m::\u001b[32mdiscard()\u001b[39m masks \u001b[34mpurrr\u001b[39m::discard()\n",
      "\u001b[31m✖\u001b[39m \u001b[34mdplyr\u001b[39m::\u001b[32mfilter()\u001b[39m   masks \u001b[34mstats\u001b[39m::filter()\n",
      "\u001b[31m✖\u001b[39m \u001b[34mrecipes\u001b[39m::\u001b[32mfixed()\u001b[39m  masks \u001b[34mstringr\u001b[39m::fixed()\n",
      "\u001b[31m✖\u001b[39m \u001b[34mdplyr\u001b[39m::\u001b[32mlag()\u001b[39m      masks \u001b[34mstats\u001b[39m::lag()\n",
      "\u001b[31m✖\u001b[39m \u001b[34myardstick\u001b[39m::\u001b[32mspec()\u001b[39m masks \u001b[34mreadr\u001b[39m::spec()\n",
      "\u001b[31m✖\u001b[39m \u001b[34mrecipes\u001b[39m::\u001b[32mstep()\u001b[39m   masks \u001b[34mstats\u001b[39m::step()\n",
      "\u001b[34m•\u001b[39m Dig deeper into tidy modeling with R at \u001b[32mhttps://www.tmwr.org\u001b[39m\n",
      "\n"
     ]
    }
   ],
   "source": [
    "# load packages:\n",
    "library(tidyverse)\n",
    "library(readxl)\n",
    "library(repr) # for visualization\n",
    "library(tidymodels)\n",
    "library(cowplot)\n",
    "options(repr.matrix.max.rows = 6)\n",
    "# library(rvest)\n",
    "# install.packages(\"openxlsx\")\n",
    "# library(\"openxlsx\")\n",
    "set.seed(1)"
   ]
  },
  {
   "cell_type": "markdown",
   "id": "3957f2d4-0569-47cf-92e0-9098ea0fb9c3",
   "metadata": {},
   "source": [
    "Title: Predicting energy efficency with regression"
   ]
  },
  {
   "cell_type": "markdown",
   "id": "9abe21a4-ddba-4788-96fd-6b3256ea0ec4",
   "metadata": {},
   "source": [
    "Introduction:\n",
    "The heating load of a building (or any space) is defined as \"the amount of heat energy that would need to be added to a space to maintain the temperature in an acceptable range\" (Government of Australia, https://basix.nsw.gov.au/iframe/thermal-help/heating-and-cooling-loads.html#:~:text=The%20heating%20load%20is%20the,temperature%20in%20an%20acceptable%20range.)\n",
    "Since a higher heating load correlates to more heat energy being required, a higher heating load also correlates (positively) to an increase in energy cost.\n",
    "A higher heating load correlates to a higher amount of heat energy required and also thus a higher energy cost (bill?). Further, using more energy is determential to the environment.\n",
    "~~The cost to heat a building amounts to a significant energy cost and also affects the climate.~~\n",
    "Various factors such as ~~roof area,~~ surface area, overall height of the building, glazing area (ie. size of windows) ~~as well as their distribution~~ can affect the heating cost.\n",
    "We aim to study the effects of said factors on heating loads.\n",
    "\n",
    "Question (that we will try to answer):\n",
    "~~Can we use the surface area, glazing area, and overall height of rooms to predict the amount of heating energy required to maintain the temperature of the room at an acceptable range?~~\n",
    "\n",
    "What is the (best?) surface area, glazing area, and overall height of a building that will result in the lowest heating load?\n",
    "\n",
    "The dataset we are using is the \"Energy efficiency Data Set\" created by researchers at the University of Oxford (UK). The dataset can be found at https://archive.ics.uci.edu/ml/datasets/Energy+efficiency\n",
    "It contains eight attributes: Relative Compactness, Surface Area, Wall Area, Roof Area, Overall Height, Orientation, Glazing Area, and Glazing Area Distribution and two outcomes: Heating Load and Cooling Load, though strangely, all of the columns are labelled using X1, X2, etc. instead of an actual descriptive name. The dataset has 768 rows of data. TODO: What else should I put for \"describe the dataset\"???\n"
   ]
  },
  {
   "cell_type": "markdown",
   "id": "dd82031d-4ca8-4b1f-bf43-9ecc3f6c2675",
   "metadata": {},
   "source": [
    "Preliminary exploratory data analysis:"
   ]
  },
  {
   "cell_type": "code",
   "execution_count": 3,
   "id": "ea5e4c9d-7833-4f4b-9cf5-995668b45f4f",
   "metadata": {},
   "outputs": [
    {
     "data": {
      "text/html": [
       "<table class=\"dataframe\">\n",
       "<caption>A tibble: 768 × 10</caption>\n",
       "<thead>\n",
       "\t<tr><th scope=col>Relative.Compactness</th><th scope=col>Surface.Area</th><th scope=col>Wall.Area</th><th scope=col>Roof.Area</th><th scope=col>Overall.Height</th><th scope=col>Orientation</th><th scope=col>Glazing.Area</th><th scope=col>Glazing.Area.Distribution</th><th scope=col>Heating.Load</th><th scope=col>Cooling.Load</th></tr>\n",
       "\t<tr><th scope=col>&lt;dbl&gt;</th><th scope=col>&lt;dbl&gt;</th><th scope=col>&lt;dbl&gt;</th><th scope=col>&lt;dbl&gt;</th><th scope=col>&lt;dbl&gt;</th><th scope=col>&lt;dbl&gt;</th><th scope=col>&lt;dbl&gt;</th><th scope=col>&lt;dbl&gt;</th><th scope=col>&lt;dbl&gt;</th><th scope=col>&lt;dbl&gt;</th></tr>\n",
       "</thead>\n",
       "<tbody>\n",
       "\t<tr><td>0.98</td><td>514.5</td><td>294</td><td>110.25</td><td>7</td><td>2</td><td>0</td><td>0</td><td>15.55</td><td>21.33</td></tr>\n",
       "\t<tr><td>0.98</td><td>514.5</td><td>294</td><td>110.25</td><td>7</td><td>3</td><td>0</td><td>0</td><td>15.55</td><td>21.33</td></tr>\n",
       "\t<tr><td>0.98</td><td>514.5</td><td>294</td><td>110.25</td><td>7</td><td>4</td><td>0</td><td>0</td><td>15.55</td><td>21.33</td></tr>\n",
       "\t<tr><td>⋮</td><td>⋮</td><td>⋮</td><td>⋮</td><td>⋮</td><td>⋮</td><td>⋮</td><td>⋮</td><td>⋮</td><td>⋮</td></tr>\n",
       "\t<tr><td>0.62</td><td>808.5</td><td>367.5</td><td>220.5</td><td>3.5</td><td>3</td><td>0.4</td><td>5</td><td>16.44</td><td>17.11</td></tr>\n",
       "\t<tr><td>0.62</td><td>808.5</td><td>367.5</td><td>220.5</td><td>3.5</td><td>4</td><td>0.4</td><td>5</td><td>16.48</td><td>16.61</td></tr>\n",
       "\t<tr><td>0.62</td><td>808.5</td><td>367.5</td><td>220.5</td><td>3.5</td><td>5</td><td>0.4</td><td>5</td><td>16.64</td><td>16.03</td></tr>\n",
       "</tbody>\n",
       "</table>\n"
      ],
      "text/latex": [
       "A tibble: 768 × 10\n",
       "\\begin{tabular}{llllllllll}\n",
       " Relative.Compactness & Surface.Area & Wall.Area & Roof.Area & Overall.Height & Orientation & Glazing.Area & Glazing.Area.Distribution & Heating.Load & Cooling.Load\\\\\n",
       " <dbl> & <dbl> & <dbl> & <dbl> & <dbl> & <dbl> & <dbl> & <dbl> & <dbl> & <dbl>\\\\\n",
       "\\hline\n",
       "\t 0.98 & 514.5 & 294 & 110.25 & 7 & 2 & 0 & 0 & 15.55 & 21.33\\\\\n",
       "\t 0.98 & 514.5 & 294 & 110.25 & 7 & 3 & 0 & 0 & 15.55 & 21.33\\\\\n",
       "\t 0.98 & 514.5 & 294 & 110.25 & 7 & 4 & 0 & 0 & 15.55 & 21.33\\\\\n",
       "\t ⋮ & ⋮ & ⋮ & ⋮ & ⋮ & ⋮ & ⋮ & ⋮ & ⋮ & ⋮\\\\\n",
       "\t 0.62 & 808.5 & 367.5 & 220.5 & 3.5 & 3 & 0.4 & 5 & 16.44 & 17.11\\\\\n",
       "\t 0.62 & 808.5 & 367.5 & 220.5 & 3.5 & 4 & 0.4 & 5 & 16.48 & 16.61\\\\\n",
       "\t 0.62 & 808.5 & 367.5 & 220.5 & 3.5 & 5 & 0.4 & 5 & 16.64 & 16.03\\\\\n",
       "\\end{tabular}\n"
      ],
      "text/markdown": [
       "\n",
       "A tibble: 768 × 10\n",
       "\n",
       "| Relative.Compactness &lt;dbl&gt; | Surface.Area &lt;dbl&gt; | Wall.Area &lt;dbl&gt; | Roof.Area &lt;dbl&gt; | Overall.Height &lt;dbl&gt; | Orientation &lt;dbl&gt; | Glazing.Area &lt;dbl&gt; | Glazing.Area.Distribution &lt;dbl&gt; | Heating.Load &lt;dbl&gt; | Cooling.Load &lt;dbl&gt; |\n",
       "|---|---|---|---|---|---|---|---|---|---|\n",
       "| 0.98 | 514.5 | 294 | 110.25 | 7 | 2 | 0 | 0 | 15.55 | 21.33 |\n",
       "| 0.98 | 514.5 | 294 | 110.25 | 7 | 3 | 0 | 0 | 15.55 | 21.33 |\n",
       "| 0.98 | 514.5 | 294 | 110.25 | 7 | 4 | 0 | 0 | 15.55 | 21.33 |\n",
       "| ⋮ | ⋮ | ⋮ | ⋮ | ⋮ | ⋮ | ⋮ | ⋮ | ⋮ | ⋮ |\n",
       "| 0.62 | 808.5 | 367.5 | 220.5 | 3.5 | 3 | 0.4 | 5 | 16.44 | 17.11 |\n",
       "| 0.62 | 808.5 | 367.5 | 220.5 | 3.5 | 4 | 0.4 | 5 | 16.48 | 16.61 |\n",
       "| 0.62 | 808.5 | 367.5 | 220.5 | 3.5 | 5 | 0.4 | 5 | 16.64 | 16.03 |\n",
       "\n"
      ],
      "text/plain": [
       "    Relative.Compactness Surface.Area Wall.Area Roof.Area Overall.Height\n",
       "1   0.98                 514.5        294       110.25    7             \n",
       "2   0.98                 514.5        294       110.25    7             \n",
       "3   0.98                 514.5        294       110.25    7             \n",
       "⋮   ⋮                    ⋮            ⋮         ⋮         ⋮             \n",
       "766 0.62                 808.5        367.5     220.5     3.5           \n",
       "767 0.62                 808.5        367.5     220.5     3.5           \n",
       "768 0.62                 808.5        367.5     220.5     3.5           \n",
       "    Orientation Glazing.Area Glazing.Area.Distribution Heating.Load\n",
       "1   2           0            0                         15.55       \n",
       "2   3           0            0                         15.55       \n",
       "3   4           0            0                         15.55       \n",
       "⋮   ⋮           ⋮            ⋮                         ⋮           \n",
       "766 3           0.4          5                         16.44       \n",
       "767 4           0.4          5                         16.48       \n",
       "768 5           0.4          5                         16.64       \n",
       "    Cooling.Load\n",
       "1   21.33       \n",
       "2   21.33       \n",
       "3   21.33       \n",
       "⋮   ⋮           \n",
       "766 17.11       \n",
       "767 16.61       \n",
       "768 16.03       "
      ]
     },
     "metadata": {},
     "output_type": "display_data"
    }
   ],
   "source": [
    "url <- \"https://archive.ics.uci.edu/ml/machine-learning-databases/00242/ENB2012_data.xlsx\"\n",
    "file_name <- \"energy-efficiency.xlsx\"\n",
    "download.file(url, file_name)\n",
    "energy_data <- read_excel(file_name, skip = 1, col_names = c(\"Relative.Compactness\", \"Surface.Area\", \"Wall.Area\", \"Roof.Area\", \"Overall.Height\", \"Orientation\", \"Glazing.Area\", \"Glazing.Area.Distribution\", \"Heating.Load\", \"Cooling.Load\"))\n",
    "# energy_data <- as_tibble(read.xlsx(url, colNames = FALSE, startRow = 2))\n",
    "# colnames(energy_data) <- c(\"Relative.Compactness\", \"Surface.Area\", \"Wall.Area\", \"Roof.Area\", \"Overall.Height\", \"Orientation\", \"Glazing.Area\", \"Glazing.Area.Distribution\", \"Heating.Load\", \"Cooling.Load\")\n",
    "energy_data\n",
    "#tidy data (I think it's already tidy)"
   ]
  },
  {
   "cell_type": "code",
   "execution_count": 11,
   "id": "2bd7ca87-c388-4e2a-9d1f-bf812c430265",
   "metadata": {},
   "outputs": [
    {
     "data": {
      "text/html": [
       "<table class=\"dataframe\">\n",
       "<caption>A tibble: 768 × 6</caption>\n",
       "<thead>\n",
       "\t<tr><th scope=col>Surface.Area</th><th scope=col>Overall.Height</th><th scope=col>Orientation</th><th scope=col>Glazing.Area</th><th scope=col>Glazing.Area.Distribution</th><th scope=col>Heating.Load</th></tr>\n",
       "\t<tr><th scope=col>&lt;dbl&gt;</th><th scope=col>&lt;dbl&gt;</th><th scope=col>&lt;dbl&gt;</th><th scope=col>&lt;dbl&gt;</th><th scope=col>&lt;dbl&gt;</th><th scope=col>&lt;dbl&gt;</th></tr>\n",
       "</thead>\n",
       "<tbody>\n",
       "\t<tr><td>514.5</td><td>7</td><td>2</td><td>0</td><td>0</td><td>15.55</td></tr>\n",
       "\t<tr><td>514.5</td><td>7</td><td>3</td><td>0</td><td>0</td><td>15.55</td></tr>\n",
       "\t<tr><td>514.5</td><td>7</td><td>4</td><td>0</td><td>0</td><td>15.55</td></tr>\n",
       "\t<tr><td>⋮</td><td>⋮</td><td>⋮</td><td>⋮</td><td>⋮</td><td>⋮</td></tr>\n",
       "\t<tr><td>808.5</td><td>3.5</td><td>3</td><td>0.4</td><td>5</td><td>16.44</td></tr>\n",
       "\t<tr><td>808.5</td><td>3.5</td><td>4</td><td>0.4</td><td>5</td><td>16.48</td></tr>\n",
       "\t<tr><td>808.5</td><td>3.5</td><td>5</td><td>0.4</td><td>5</td><td>16.64</td></tr>\n",
       "</tbody>\n",
       "</table>\n"
      ],
      "text/latex": [
       "A tibble: 768 × 6\n",
       "\\begin{tabular}{llllll}\n",
       " Surface.Area & Overall.Height & Orientation & Glazing.Area & Glazing.Area.Distribution & Heating.Load\\\\\n",
       " <dbl> & <dbl> & <dbl> & <dbl> & <dbl> & <dbl>\\\\\n",
       "\\hline\n",
       "\t 514.5 & 7 & 2 & 0 & 0 & 15.55\\\\\n",
       "\t 514.5 & 7 & 3 & 0 & 0 & 15.55\\\\\n",
       "\t 514.5 & 7 & 4 & 0 & 0 & 15.55\\\\\n",
       "\t ⋮ & ⋮ & ⋮ & ⋮ & ⋮ & ⋮\\\\\n",
       "\t 808.5 & 3.5 & 3 & 0.4 & 5 & 16.44\\\\\n",
       "\t 808.5 & 3.5 & 4 & 0.4 & 5 & 16.48\\\\\n",
       "\t 808.5 & 3.5 & 5 & 0.4 & 5 & 16.64\\\\\n",
       "\\end{tabular}\n"
      ],
      "text/markdown": [
       "\n",
       "A tibble: 768 × 6\n",
       "\n",
       "| Surface.Area &lt;dbl&gt; | Overall.Height &lt;dbl&gt; | Orientation &lt;dbl&gt; | Glazing.Area &lt;dbl&gt; | Glazing.Area.Distribution &lt;dbl&gt; | Heating.Load &lt;dbl&gt; |\n",
       "|---|---|---|---|---|---|\n",
       "| 514.5 | 7 | 2 | 0 | 0 | 15.55 |\n",
       "| 514.5 | 7 | 3 | 0 | 0 | 15.55 |\n",
       "| 514.5 | 7 | 4 | 0 | 0 | 15.55 |\n",
       "| ⋮ | ⋮ | ⋮ | ⋮ | ⋮ | ⋮ |\n",
       "| 808.5 | 3.5 | 3 | 0.4 | 5 | 16.44 |\n",
       "| 808.5 | 3.5 | 4 | 0.4 | 5 | 16.48 |\n",
       "| 808.5 | 3.5 | 5 | 0.4 | 5 | 16.64 |\n",
       "\n"
      ],
      "text/plain": [
       "    Surface.Area Overall.Height Orientation Glazing.Area\n",
       "1   514.5        7              2           0           \n",
       "2   514.5        7              3           0           \n",
       "3   514.5        7              4           0           \n",
       "⋮   ⋮            ⋮              ⋮           ⋮           \n",
       "766 808.5        3.5            3           0.4         \n",
       "767 808.5        3.5            4           0.4         \n",
       "768 808.5        3.5            5           0.4         \n",
       "    Glazing.Area.Distribution Heating.Load\n",
       "1   0                         15.55       \n",
       "2   0                         15.55       \n",
       "3   0                         15.55       \n",
       "⋮   ⋮                         ⋮           \n",
       "766 5                         16.44       \n",
       "767 5                         16.48       \n",
       "768 5                         16.64       "
      ]
     },
     "metadata": {},
     "output_type": "display_data"
    }
   ],
   "source": [
    "#table with applicable variables\n",
    "energy_data_reduced <- energy_data |>\n",
    "                    select(-Relative.Compactness, -Wall.Area, -Roof.Area, -Cooling.Load)\n",
    "energy_data_reduced"
   ]
  },
  {
   "cell_type": "code",
   "execution_count": 10,
   "id": "ea2c7091-a29c-4dd9-a530-c21563198951",
   "metadata": {},
   "outputs": [
    {
     "data": {
      "text/html": [
       "<table class=\"dataframe\">\n",
       "<caption>A tibble: 1 × 1</caption>\n",
       "<thead>\n",
       "\t<tr><th scope=col>Heating.Load.Mean</th></tr>\n",
       "\t<tr><th scope=col>&lt;dbl&gt;</th></tr>\n",
       "</thead>\n",
       "<tbody>\n",
       "\t<tr><td>22.3072</td></tr>\n",
       "</tbody>\n",
       "</table>\n"
      ],
      "text/latex": [
       "A tibble: 1 × 1\n",
       "\\begin{tabular}{l}\n",
       " Heating.Load.Mean\\\\\n",
       " <dbl>\\\\\n",
       "\\hline\n",
       "\t 22.3072\\\\\n",
       "\\end{tabular}\n"
      ],
      "text/markdown": [
       "\n",
       "A tibble: 1 × 1\n",
       "\n",
       "| Heating.Load.Mean &lt;dbl&gt; |\n",
       "|---|\n",
       "| 22.3072 |\n",
       "\n"
      ],
      "text/plain": [
       "  Heating.Load.Mean\n",
       "1 22.3072          "
      ]
     },
     "metadata": {},
     "output_type": "display_data"
    }
   ],
   "source": [
    "energy_data_summary <- energy_data_reduced |>\n",
    "    summarize(Heating.Load.Mean = mean(Heating.Load))\n",
    "energy_data_summary"
   ]
  },
  {
   "cell_type": "code",
   "execution_count": 3,
   "id": "ee1880fe-e7ea-40d8-8288-235221dd44fb",
   "metadata": {},
   "outputs": [],
   "source": [
    "energy_split <- initial_split(energy_data, prop = 0.75, strata = Heating.Load)\n",
    "energy_train <- training(energy_split)\n",
    "energy_test <- testing(energy_split)"
   ]
  },
  {
   "cell_type": "code",
   "execution_count": 4,
   "id": "3b63827e-67e2-4b6e-b49b-e26be91d0dba",
   "metadata": {},
   "outputs": [
    {
     "data": {
      "image/png": "[encoded data removed]",
      "text/plain": [
       "plot without title"
      ]
     },
     "metadata": {
      "image/png": {
       "height": 360,
       "width": 1080
      }
     },
     "output_type": "display_data"
    }
   ],
   "source": [
    "# TODO we need to add tables and explain what these graphs mean\n",
    "\n",
    "options(repr.plot.width=18, repr.plot.height=6)\n",
    "energy_train_scale <- energy_train |>\n",
    "    mutate(scaled_Surface.Area = scale(Surface.Area, center = TRUE),\n",
    "          scaled_Overall.Height = scale(Overall.Height, center = TRUE),\n",
    "          scaled_Glazing.Area = scale(Glazing.Area, center = TRUE),\n",
    "          scaled_Heating.Load = scale(Heating.Load, center = TRUE))\n",
    "plot_surface <- ggplot(energy_train_scale, aes(x = scaled_Surface.Area, y = scaled_Heating.Load)) +\n",
    "    geom_point(alpha = 0.4) +\n",
    "    labs(x = \"Surface Area (standardized)\", y = \"Heating Load (standardized)\") +\n",
    "    theme(text = element_text(size = 12)) +\n",
    "    ggtitle(\"Heating Load vs Surface Area\")\n",
    "plot_height <- ggplot(energy_train_scale, aes(x = scaled_Overall.Height, y = scaled_Heating.Load)) +\n",
    "    geom_point(alpha = 0.4) +\n",
    "    labs(x = \"Overall Height (standardized)\", y = \"Heating Load (standardized)\") +\n",
    "    theme(text = element_text(size = 12)) +\n",
    "    ggtitle(\"Heating Load vs Overall Height\")\n",
    "plot_glazing <- ggplot(energy_train_scale, aes(x = scaled_Glazing.Area, y = scaled_Heating.Load)) +\n",
    "    geom_point(alpha = 0.4) +\n",
    "    labs(x = \"Glazing Area (standardized)\", y = \"Heating Load (standardized)\") +\n",
    "    theme(text = element_text(size = 12)) +\n",
    "    ggtitle(\"Heating Load vs Glazing Area\")\n",
    "plot_grid(plot_surface, plot_height, plot_glazing, nrow = 1)"
   ]
  },
  {
   "cell_type": "markdown",
   "id": "07af7da2-aab0-4623-8626-63c969a0605b",
   "metadata": {},
   "source": [
    "Method:\n",
    "\n",
    "We will first rename the column names to more descriptive names. We will then tidy the data, scale and center it, and wrangle it to find important summary statistics such as the mean and the mode. We will use K-nearest neighbours and linear regression to see which one is more accurate for our data. We will use the variables: Surface Area, Overall Height, and Glazing Area. We decided to use these variables because they are the ones which would affect the heating load most significantly. We did not use Relative Compactness because neither the database nor the associated documentation explain what it really means. We did not use the Roof Area and Wall Area variables because these are encompassed within Surface Area. We did not use Orientation because it’s a categorical variable, and categorical variables can have too much of an impact on our analysis. Further, the values inside of this column are “2”, “3”, “4”, and “5” and the database does not define what those values represent. We also did not use Glazing Area Distribution since it is quite similar to Glazing Area.\n",
    "\n",
    "Afterwards, we will visualize the results by plotting three histograms, one for each variable that we have picked. We will plot the predictor variables on the x-axis and plot the heating load on the y-axis.\n",
    "\n",
    "We decided to make the output \"heating load\" because in Vancouver, you tend to need to keep buildings warm (rather than cool) due to our (somewhat) cold winters."
   ]
  },
  {
   "cell_type": "code",
   "execution_count": null,
   "id": "e4d94352-d02f-4f8b-99df-cb19f243e94d",
   "metadata": {},
   "outputs": [],
   "source": []
  },
  {
   "cell_type": "code",
   "execution_count": null,
   "id": "a5914417-98d4-43f0-94f7-1bfb96c787ac",
   "metadata": {},
   "outputs": [],
   "source": []
  },
  {
   "cell_type": "markdown",
   "id": "aa58a3f8-994b-49e2-b582-07a7650b3176",
   "metadata": {},
   "source": [
    "Expected outcomes and significance.\n",
    "\n",
    "What do we expect to find? We expect to find that heating load increases (linearaly???) as surface area, overall height, and glazing area increase. ~~, and glazing area distribution increase. However, we do not know how the orientation affects the heating load. ~~\n",
    "\n",
    "What impact could such findings have?\n",
    "Our findings could help future architects and city planners determine the optimal building configuration to minimize heating costs and thus reduce energy usage, helping Earth's climate.\n",
    "\n",
    "What future questions could this lead to?\n",
    "Would the same configuation also help keep buildings cool?\n",
    "Are any of these factors affected by the geographic location of the building? (ie. would the same configuration be best for all buildings regardless of their geographic location?)"
   ]
  },
  {
   "cell_type": "code",
   "execution_count": 5,
   "id": "6a60641c-2066-4174-9e99-eae88ab2fb14",
   "metadata": {},
   "outputs": [
    {
     "data": {
      "text/html": [
       "'Reached the end of the file.'"
      ],
      "text/latex": [
       "'Reached the end of the file.'"
      ],
      "text/markdown": [
       "'Reached the end of the file.'"
      ],
      "text/plain": [
       "[1] \"Reached the end of the file.\""
      ]
     },
     "metadata": {},
     "output_type": "display_data"
    }
   ],
   "source": [
    "#print out reached end\n",
    "reached_end <- \"Reached the end of the file.\"\n",
    "reached_end"
   ]
  },
  {
   "cell_type": "code",
   "execution_count": null,
   "id": "2014e0cc-deff-4b5c-8d4f-d26317b13870",
   "metadata": {},
   "outputs": [],
   "source": []
  }
 ],
 "metadata": {
  "kernelspec": {
   "display_name": "R",
   "language": "R",
   "name": "ir"
  },
  "language_info": {
   "codemirror_mode": "r",
   "file_extension": ".r",
   "mimetype": "text/x-r-source",
   "name": "R",
   "pygments_lexer": "r",
   "version": "4.1.3"
  }
 },
 "nbformat": 4,
 "nbformat_minor": 5
}
